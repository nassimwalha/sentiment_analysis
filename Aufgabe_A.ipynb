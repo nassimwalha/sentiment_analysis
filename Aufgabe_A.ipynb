{
  "cells": [
    {
      "cell_type": "markdown",
      "metadata": {
        "id": "mqDtT243u8w7"
      },
      "source": [
        "## Explorative Datenanalyse"
      ]
    },
    {
      "cell_type": "code",
      "execution_count": 1,
      "metadata": {
        "id": "4SuRx7AZu8w-"
      },
      "outputs": [],
      "source": [
        "import pandas as pd"
      ]
    },
    {
      "cell_type": "code",
      "execution_count": 2,
      "metadata": {
        "id": "2KH-4h_Ou8w_"
      },
      "outputs": [],
      "source": [
        "df = pd.read_csv('training.csv', names= ['col1', 'col2', 'col3', 'col4'])"
      ]
    },
    {
      "cell_type": "code",
      "execution_count": 3,
      "metadata": {
        "id": "431DsJdTu8w_"
      },
      "outputs": [],
      "source": [
        "pd.set_option('display.max_rows', 350)"
      ]
    },
    {
      "cell_type": "code",
      "execution_count": 4,
      "metadata": {
        "colab": {
          "base_uri": "https://localhost:8080/",
          "height": 424
        },
        "id": "MpyEu4K7u8xA",
        "outputId": "9fe6e5ee-455a-4ed7-d574-e0195f36afc9"
      },
      "outputs": [
        {
          "data": {
            "text/html": [
              "<div>\n",
              "<style scoped>\n",
              "    .dataframe tbody tr th:only-of-type {\n",
              "        vertical-align: middle;\n",
              "    }\n",
              "\n",
              "    .dataframe tbody tr th {\n",
              "        vertical-align: top;\n",
              "    }\n",
              "\n",
              "    .dataframe thead th {\n",
              "        text-align: right;\n",
              "    }\n",
              "</style>\n",
              "<table border=\"1\" class=\"dataframe\">\n",
              "  <thead>\n",
              "    <tr style=\"text-align: right;\">\n",
              "      <th></th>\n",
              "      <th>col1</th>\n",
              "      <th>col2</th>\n",
              "      <th>col3</th>\n",
              "      <th>col4</th>\n",
              "    </tr>\n",
              "  </thead>\n",
              "  <tbody>\n",
              "    <tr>\n",
              "      <th>0</th>\n",
              "      <td>2401</td>\n",
              "      <td>Borderlands</td>\n",
              "      <td>Positive</td>\n",
              "      <td>im getting on borderlands and i will murder yo...</td>\n",
              "    </tr>\n",
              "    <tr>\n",
              "      <th>1</th>\n",
              "      <td>2401</td>\n",
              "      <td>Borderlands</td>\n",
              "      <td>Positive</td>\n",
              "      <td>I am coming to the borders and I will kill you...</td>\n",
              "    </tr>\n",
              "    <tr>\n",
              "      <th>2</th>\n",
              "      <td>2401</td>\n",
              "      <td>Borderlands</td>\n",
              "      <td>Positive</td>\n",
              "      <td>im getting on borderlands and i will kill you ...</td>\n",
              "    </tr>\n",
              "    <tr>\n",
              "      <th>3</th>\n",
              "      <td>2401</td>\n",
              "      <td>Borderlands</td>\n",
              "      <td>Positive</td>\n",
              "      <td>im coming on borderlands and i will murder you...</td>\n",
              "    </tr>\n",
              "    <tr>\n",
              "      <th>4</th>\n",
              "      <td>2401</td>\n",
              "      <td>Borderlands</td>\n",
              "      <td>Positive</td>\n",
              "      <td>im getting on borderlands 2 and i will murder ...</td>\n",
              "    </tr>\n",
              "    <tr>\n",
              "      <th>...</th>\n",
              "      <td>...</td>\n",
              "      <td>...</td>\n",
              "      <td>...</td>\n",
              "      <td>...</td>\n",
              "    </tr>\n",
              "    <tr>\n",
              "      <th>74677</th>\n",
              "      <td>9200</td>\n",
              "      <td>Nvidia</td>\n",
              "      <td>Positive</td>\n",
              "      <td>Just realized that the Windows partition of my...</td>\n",
              "    </tr>\n",
              "    <tr>\n",
              "      <th>74678</th>\n",
              "      <td>9200</td>\n",
              "      <td>Nvidia</td>\n",
              "      <td>Positive</td>\n",
              "      <td>Just realized that my Mac window partition is ...</td>\n",
              "    </tr>\n",
              "    <tr>\n",
              "      <th>74679</th>\n",
              "      <td>9200</td>\n",
              "      <td>Nvidia</td>\n",
              "      <td>Positive</td>\n",
              "      <td>Just realized the windows partition of my Mac ...</td>\n",
              "    </tr>\n",
              "    <tr>\n",
              "      <th>74680</th>\n",
              "      <td>9200</td>\n",
              "      <td>Nvidia</td>\n",
              "      <td>Positive</td>\n",
              "      <td>Just realized between the windows partition of...</td>\n",
              "    </tr>\n",
              "    <tr>\n",
              "      <th>74681</th>\n",
              "      <td>9200</td>\n",
              "      <td>Nvidia</td>\n",
              "      <td>Positive</td>\n",
              "      <td>Just like the windows partition of my Mac is l...</td>\n",
              "    </tr>\n",
              "  </tbody>\n",
              "</table>\n",
              "<p>74682 rows × 4 columns</p>\n",
              "</div>"
            ],
            "text/plain": [
              "       col1         col2      col3  \\\n",
              "0      2401  Borderlands  Positive   \n",
              "1      2401  Borderlands  Positive   \n",
              "2      2401  Borderlands  Positive   \n",
              "3      2401  Borderlands  Positive   \n",
              "4      2401  Borderlands  Positive   \n",
              "...     ...          ...       ...   \n",
              "74677  9200       Nvidia  Positive   \n",
              "74678  9200       Nvidia  Positive   \n",
              "74679  9200       Nvidia  Positive   \n",
              "74680  9200       Nvidia  Positive   \n",
              "74681  9200       Nvidia  Positive   \n",
              "\n",
              "                                                    col4  \n",
              "0      im getting on borderlands and i will murder yo...  \n",
              "1      I am coming to the borders and I will kill you...  \n",
              "2      im getting on borderlands and i will kill you ...  \n",
              "3      im coming on borderlands and i will murder you...  \n",
              "4      im getting on borderlands 2 and i will murder ...  \n",
              "...                                                  ...  \n",
              "74677  Just realized that the Windows partition of my...  \n",
              "74678  Just realized that my Mac window partition is ...  \n",
              "74679  Just realized the windows partition of my Mac ...  \n",
              "74680  Just realized between the windows partition of...  \n",
              "74681  Just like the windows partition of my Mac is l...  \n",
              "\n",
              "[74682 rows x 4 columns]"
            ]
          },
          "execution_count": 4,
          "metadata": {},
          "output_type": "execute_result"
        }
      ],
      "source": [
        "df"
      ]
    },
    {
      "cell_type": "code",
      "execution_count": 5,
      "metadata": {
        "colab": {
          "base_uri": "https://localhost:8080/"
        },
        "id": "H5PFGaH-u8xB",
        "outputId": "5c34d2ef-9690-463e-9bbc-4d0da372b727"
      },
      "outputs": [
        {
          "data": {
            "text/plain": [
              "74682"
            ]
          },
          "execution_count": 5,
          "metadata": {},
          "output_type": "execute_result"
        }
      ],
      "source": [
        "len(df)"
      ]
    },
    {
      "cell_type": "code",
      "execution_count": 6,
      "metadata": {
        "colab": {
          "base_uri": "https://localhost:8080/",
          "height": 1000
        },
        "id": "YbKyfBtNu8xB",
        "outputId": "81871771-6824-4583-8a27-ca83732a61f4"
      },
      "outputs": [
        {
          "data": {
            "text/html": [
              "<div>\n",
              "<style scoped>\n",
              "    .dataframe tbody tr th:only-of-type {\n",
              "        vertical-align: middle;\n",
              "    }\n",
              "\n",
              "    .dataframe tbody tr th {\n",
              "        vertical-align: top;\n",
              "    }\n",
              "\n",
              "    .dataframe thead th {\n",
              "        text-align: right;\n",
              "    }\n",
              "</style>\n",
              "<table border=\"1\" class=\"dataframe\">\n",
              "  <thead>\n",
              "    <tr style=\"text-align: right;\">\n",
              "      <th></th>\n",
              "      <th>col1</th>\n",
              "      <th>col2</th>\n",
              "      <th>col3</th>\n",
              "      <th>col4</th>\n",
              "    </tr>\n",
              "  </thead>\n",
              "  <tbody>\n",
              "    <tr>\n",
              "      <th>0</th>\n",
              "      <td>2401</td>\n",
              "      <td>Borderlands</td>\n",
              "      <td>Positive</td>\n",
              "      <td>im getting on borderlands and i will murder yo...</td>\n",
              "    </tr>\n",
              "    <tr>\n",
              "      <th>1</th>\n",
              "      <td>2401</td>\n",
              "      <td>Borderlands</td>\n",
              "      <td>Positive</td>\n",
              "      <td>I am coming to the borders and I will kill you...</td>\n",
              "    </tr>\n",
              "    <tr>\n",
              "      <th>2</th>\n",
              "      <td>2401</td>\n",
              "      <td>Borderlands</td>\n",
              "      <td>Positive</td>\n",
              "      <td>im getting on borderlands and i will kill you ...</td>\n",
              "    </tr>\n",
              "    <tr>\n",
              "      <th>3</th>\n",
              "      <td>2401</td>\n",
              "      <td>Borderlands</td>\n",
              "      <td>Positive</td>\n",
              "      <td>im coming on borderlands and i will murder you...</td>\n",
              "    </tr>\n",
              "    <tr>\n",
              "      <th>4</th>\n",
              "      <td>2401</td>\n",
              "      <td>Borderlands</td>\n",
              "      <td>Positive</td>\n",
              "      <td>im getting on borderlands 2 and i will murder ...</td>\n",
              "    </tr>\n",
              "    <tr>\n",
              "      <th>5</th>\n",
              "      <td>2401</td>\n",
              "      <td>Borderlands</td>\n",
              "      <td>Positive</td>\n",
              "      <td>im getting into borderlands and i can murder y...</td>\n",
              "    </tr>\n",
              "    <tr>\n",
              "      <th>6</th>\n",
              "      <td>2402</td>\n",
              "      <td>Borderlands</td>\n",
              "      <td>Positive</td>\n",
              "      <td>So I spent a few hours making something for fu...</td>\n",
              "    </tr>\n",
              "    <tr>\n",
              "      <th>7</th>\n",
              "      <td>2402</td>\n",
              "      <td>Borderlands</td>\n",
              "      <td>Positive</td>\n",
              "      <td>So I spent a couple of hours doing something f...</td>\n",
              "    </tr>\n",
              "    <tr>\n",
              "      <th>8</th>\n",
              "      <td>2402</td>\n",
              "      <td>Borderlands</td>\n",
              "      <td>Positive</td>\n",
              "      <td>So I spent a few hours doing something for fun...</td>\n",
              "    </tr>\n",
              "    <tr>\n",
              "      <th>9</th>\n",
              "      <td>2402</td>\n",
              "      <td>Borderlands</td>\n",
              "      <td>Positive</td>\n",
              "      <td>So I spent a few hours making something for fu...</td>\n",
              "    </tr>\n",
              "    <tr>\n",
              "      <th>10</th>\n",
              "      <td>2402</td>\n",
              "      <td>Borderlands</td>\n",
              "      <td>Positive</td>\n",
              "      <td>2010 So I spent a few hours making something f...</td>\n",
              "    </tr>\n",
              "    <tr>\n",
              "      <th>11</th>\n",
              "      <td>2402</td>\n",
              "      <td>Borderlands</td>\n",
              "      <td>Positive</td>\n",
              "      <td>was</td>\n",
              "    </tr>\n",
              "    <tr>\n",
              "      <th>12</th>\n",
              "      <td>2403</td>\n",
              "      <td>Borderlands</td>\n",
              "      <td>Neutral</td>\n",
              "      <td>Rock-Hard La Varlope, RARE &amp; POWERFUL, HANDSOM...</td>\n",
              "    </tr>\n",
              "    <tr>\n",
              "      <th>13</th>\n",
              "      <td>2403</td>\n",
              "      <td>Borderlands</td>\n",
              "      <td>Neutral</td>\n",
              "      <td>Rock-Hard La Varlope, RARE &amp; POWERFUL, HANDSOM...</td>\n",
              "    </tr>\n",
              "    <tr>\n",
              "      <th>14</th>\n",
              "      <td>2403</td>\n",
              "      <td>Borderlands</td>\n",
              "      <td>Neutral</td>\n",
              "      <td>Rock-Hard La Varlope, RARE &amp; POWERFUL, HANDSOM...</td>\n",
              "    </tr>\n",
              "    <tr>\n",
              "      <th>15</th>\n",
              "      <td>2403</td>\n",
              "      <td>Borderlands</td>\n",
              "      <td>Neutral</td>\n",
              "      <td>Rock-Hard La Vita, RARE BUT POWERFUL, HANDSOME...</td>\n",
              "    </tr>\n",
              "    <tr>\n",
              "      <th>16</th>\n",
              "      <td>2403</td>\n",
              "      <td>Borderlands</td>\n",
              "      <td>Neutral</td>\n",
              "      <td>Live Rock - Hard music La la Varlope, RARE &amp; t...</td>\n",
              "    </tr>\n",
              "    <tr>\n",
              "      <th>17</th>\n",
              "      <td>2403</td>\n",
              "      <td>Borderlands</td>\n",
              "      <td>Neutral</td>\n",
              "      <td>I-Hard like me, RARE LONDON DE, HANDSOME 2011,...</td>\n",
              "    </tr>\n",
              "    <tr>\n",
              "      <th>18</th>\n",
              "      <td>2404</td>\n",
              "      <td>Borderlands</td>\n",
              "      <td>Positive</td>\n",
              "      <td>that was the first borderlands session in a lo...</td>\n",
              "    </tr>\n",
              "    <tr>\n",
              "      <th>19</th>\n",
              "      <td>2404</td>\n",
              "      <td>Borderlands</td>\n",
              "      <td>Positive</td>\n",
              "      <td>this was the first Borderlands session in a lo...</td>\n",
              "    </tr>\n",
              "    <tr>\n",
              "      <th>20</th>\n",
              "      <td>2404</td>\n",
              "      <td>Borderlands</td>\n",
              "      <td>Positive</td>\n",
              "      <td>that was the first borderlands session in a lo...</td>\n",
              "    </tr>\n",
              "    <tr>\n",
              "      <th>21</th>\n",
              "      <td>2404</td>\n",
              "      <td>Borderlands</td>\n",
              "      <td>Positive</td>\n",
              "      <td>that was the first borderlands session in a lo...</td>\n",
              "    </tr>\n",
              "    <tr>\n",
              "      <th>22</th>\n",
              "      <td>2404</td>\n",
              "      <td>Borderlands</td>\n",
              "      <td>Positive</td>\n",
              "      <td>that I was the first real borderlands session ...</td>\n",
              "    </tr>\n",
              "    <tr>\n",
              "      <th>23</th>\n",
              "      <td>2404</td>\n",
              "      <td>Borderlands</td>\n",
              "      <td>Positive</td>\n",
              "      <td>that was the first borderlands session in a ho...</td>\n",
              "    </tr>\n",
              "    <tr>\n",
              "      <th>24</th>\n",
              "      <td>2405</td>\n",
              "      <td>Borderlands</td>\n",
              "      <td>Negative</td>\n",
              "      <td>the biggest dissappoinment in my life came out...</td>\n",
              "    </tr>\n",
              "    <tr>\n",
              "      <th>25</th>\n",
              "      <td>2405</td>\n",
              "      <td>Borderlands</td>\n",
              "      <td>Negative</td>\n",
              "      <td>The biggest disappointment of my life came a y...</td>\n",
              "    </tr>\n",
              "    <tr>\n",
              "      <th>26</th>\n",
              "      <td>2405</td>\n",
              "      <td>Borderlands</td>\n",
              "      <td>Negative</td>\n",
              "      <td>The biggest disappointment of my life came a y...</td>\n",
              "    </tr>\n",
              "    <tr>\n",
              "      <th>27</th>\n",
              "      <td>2405</td>\n",
              "      <td>Borderlands</td>\n",
              "      <td>Negative</td>\n",
              "      <td>the biggest dissappoinment in my life coming o...</td>\n",
              "    </tr>\n",
              "    <tr>\n",
              "      <th>28</th>\n",
              "      <td>2405</td>\n",
              "      <td>Borderlands</td>\n",
              "      <td>Negative</td>\n",
              "      <td>For the biggest male dissappoinment in my life...</td>\n",
              "    </tr>\n",
              "    <tr>\n",
              "      <th>29</th>\n",
              "      <td>2405</td>\n",
              "      <td>Borderlands</td>\n",
              "      <td>Negative</td>\n",
              "      <td>the biggest dissappoinment in my life came bac...</td>\n",
              "    </tr>\n",
              "    <tr>\n",
              "      <th>30</th>\n",
              "      <td>2406</td>\n",
              "      <td>Borderlands</td>\n",
              "      <td>Positive</td>\n",
              "      <td>WE FINISHED BORDERLANDS 3 FINALLY YAS! Thank y...</td>\n",
              "    </tr>\n",
              "    <tr>\n",
              "      <th>31</th>\n",
              "      <td>2406</td>\n",
              "      <td>Borderlands</td>\n",
              "      <td>Positive</td>\n",
              "      <td>WE FINALLY FINALLY FIND BORDERLANDS 3 YES! Tha...</td>\n",
              "    </tr>\n",
              "    <tr>\n",
              "      <th>32</th>\n",
              "      <td>2406</td>\n",
              "      <td>Borderlands</td>\n",
              "      <td>Positive</td>\n",
              "      <td>Thank you for hanging up everyone! It was fun....</td>\n",
              "    </tr>\n",
              "    <tr>\n",
              "      <th>33</th>\n",
              "      <td>2406</td>\n",
              "      <td>Borderlands</td>\n",
              "      <td>Positive</td>\n",
              "      <td>WE FINISHED BORDERLANDS 3 UPDATE YAS! Thank yo...</td>\n",
              "    </tr>\n",
              "    <tr>\n",
              "      <th>34</th>\n",
              "      <td>2406</td>\n",
              "      <td>Borderlands</td>\n",
              "      <td>Positive</td>\n",
              "      <td>WE FINISHED BORDERLANDS 3 AND FINALLY YAS! Tha...</td>\n",
              "    </tr>\n",
              "    <tr>\n",
              "      <th>35</th>\n",
              "      <td>2406</td>\n",
              "      <td>Borderlands</td>\n",
              "      <td>Positive</td>\n",
              "      <td>WE FINISHED BORDERLANDS 3 FINALLY YAS! Hey you...</td>\n",
              "    </tr>\n",
              "    <tr>\n",
              "      <th>36</th>\n",
              "      <td>2407</td>\n",
              "      <td>Borderlands</td>\n",
              "      <td>Negative</td>\n",
              "      <td>Man Gearbox really needs to fix this dissapoin...</td>\n",
              "    </tr>\n",
              "    <tr>\n",
              "      <th>37</th>\n",
              "      <td>2407</td>\n",
              "      <td>Borderlands</td>\n",
              "      <td>Negative</td>\n",
              "      <td>Man Gearbox really needs to fix these disappoi...</td>\n",
              "    </tr>\n",
              "    <tr>\n",
              "      <th>38</th>\n",
              "      <td>2407</td>\n",
              "      <td>Borderlands</td>\n",
              "      <td>Negative</td>\n",
              "      <td>Man Gearbox really needs to fix this disssapoi...</td>\n",
              "    </tr>\n",
              "    <tr>\n",
              "      <th>39</th>\n",
              "      <td>2407</td>\n",
              "      <td>Borderlands</td>\n",
              "      <td>Negative</td>\n",
              "      <td>Man Bethesda really needs to fix this dissapoi...</td>\n",
              "    </tr>\n",
              "    <tr>\n",
              "      <th>40</th>\n",
              "      <td>2407</td>\n",
              "      <td>Borderlands</td>\n",
              "      <td>Negative</td>\n",
              "      <td>Man Gearbox really needs to fix this dissapoin...</td>\n",
              "    </tr>\n",
              "    <tr>\n",
              "      <th>41</th>\n",
              "      <td>2407</td>\n",
              "      <td>Borderlands</td>\n",
              "      <td>Negative</td>\n",
              "      <td>&lt;unk&gt; Gearbox really time to fix this 10 drops...</td>\n",
              "    </tr>\n",
              "    <tr>\n",
              "      <th>42</th>\n",
              "      <td>2408</td>\n",
              "      <td>Borderlands</td>\n",
              "      <td>Neutral</td>\n",
              "      <td>Check out this epic streamer!.</td>\n",
              "    </tr>\n",
              "    <tr>\n",
              "      <th>43</th>\n",
              "      <td>2408</td>\n",
              "      <td>Borderlands</td>\n",
              "      <td>Neutral</td>\n",
              "      <td>Check out this epic streamer!.</td>\n",
              "    </tr>\n",
              "    <tr>\n",
              "      <th>44</th>\n",
              "      <td>2408</td>\n",
              "      <td>Borderlands</td>\n",
              "      <td>Neutral</td>\n",
              "      <td>Watch this epic striptease!.</td>\n",
              "    </tr>\n",
              "    <tr>\n",
              "      <th>45</th>\n",
              "      <td>2408</td>\n",
              "      <td>Borderlands</td>\n",
              "      <td>Neutral</td>\n",
              "      <td>Check out our epic streamer!.</td>\n",
              "    </tr>\n",
              "    <tr>\n",
              "      <th>46</th>\n",
              "      <td>2408</td>\n",
              "      <td>Borderlands</td>\n",
              "      <td>Neutral</td>\n",
              "      <td>Check out this big epic streamer!.</td>\n",
              "    </tr>\n",
              "    <tr>\n",
              "      <th>47</th>\n",
              "      <td>2408</td>\n",
              "      <td>Borderlands</td>\n",
              "      <td>Neutral</td>\n",
              "      <td>Check&lt;unk&gt; this epic streamer!.</td>\n",
              "    </tr>\n",
              "    <tr>\n",
              "      <th>48</th>\n",
              "      <td>2409</td>\n",
              "      <td>Borderlands</td>\n",
              "      <td>Neutral</td>\n",
              "      <td>Blaming Sight for Tardiness! A little bit of b...</td>\n",
              "    </tr>\n",
              "    <tr>\n",
              "      <th>49</th>\n",
              "      <td>2409</td>\n",
              "      <td>Borderlands</td>\n",
              "      <td>Neutral</td>\n",
              "      <td>A bit of borderland. I was called to work tomo...</td>\n",
              "    </tr>\n",
              "  </tbody>\n",
              "</table>\n",
              "</div>"
            ],
            "text/plain": [
              "    col1         col2      col3  \\\n",
              "0   2401  Borderlands  Positive   \n",
              "1   2401  Borderlands  Positive   \n",
              "2   2401  Borderlands  Positive   \n",
              "3   2401  Borderlands  Positive   \n",
              "4   2401  Borderlands  Positive   \n",
              "5   2401  Borderlands  Positive   \n",
              "6   2402  Borderlands  Positive   \n",
              "7   2402  Borderlands  Positive   \n",
              "8   2402  Borderlands  Positive   \n",
              "9   2402  Borderlands  Positive   \n",
              "10  2402  Borderlands  Positive   \n",
              "11  2402  Borderlands  Positive   \n",
              "12  2403  Borderlands   Neutral   \n",
              "13  2403  Borderlands   Neutral   \n",
              "14  2403  Borderlands   Neutral   \n",
              "15  2403  Borderlands   Neutral   \n",
              "16  2403  Borderlands   Neutral   \n",
              "17  2403  Borderlands   Neutral   \n",
              "18  2404  Borderlands  Positive   \n",
              "19  2404  Borderlands  Positive   \n",
              "20  2404  Borderlands  Positive   \n",
              "21  2404  Borderlands  Positive   \n",
              "22  2404  Borderlands  Positive   \n",
              "23  2404  Borderlands  Positive   \n",
              "24  2405  Borderlands  Negative   \n",
              "25  2405  Borderlands  Negative   \n",
              "26  2405  Borderlands  Negative   \n",
              "27  2405  Borderlands  Negative   \n",
              "28  2405  Borderlands  Negative   \n",
              "29  2405  Borderlands  Negative   \n",
              "30  2406  Borderlands  Positive   \n",
              "31  2406  Borderlands  Positive   \n",
              "32  2406  Borderlands  Positive   \n",
              "33  2406  Borderlands  Positive   \n",
              "34  2406  Borderlands  Positive   \n",
              "35  2406  Borderlands  Positive   \n",
              "36  2407  Borderlands  Negative   \n",
              "37  2407  Borderlands  Negative   \n",
              "38  2407  Borderlands  Negative   \n",
              "39  2407  Borderlands  Negative   \n",
              "40  2407  Borderlands  Negative   \n",
              "41  2407  Borderlands  Negative   \n",
              "42  2408  Borderlands   Neutral   \n",
              "43  2408  Borderlands   Neutral   \n",
              "44  2408  Borderlands   Neutral   \n",
              "45  2408  Borderlands   Neutral   \n",
              "46  2408  Borderlands   Neutral   \n",
              "47  2408  Borderlands   Neutral   \n",
              "48  2409  Borderlands   Neutral   \n",
              "49  2409  Borderlands   Neutral   \n",
              "\n",
              "                                                 col4  \n",
              "0   im getting on borderlands and i will murder yo...  \n",
              "1   I am coming to the borders and I will kill you...  \n",
              "2   im getting on borderlands and i will kill you ...  \n",
              "3   im coming on borderlands and i will murder you...  \n",
              "4   im getting on borderlands 2 and i will murder ...  \n",
              "5   im getting into borderlands and i can murder y...  \n",
              "6   So I spent a few hours making something for fu...  \n",
              "7   So I spent a couple of hours doing something f...  \n",
              "8   So I spent a few hours doing something for fun...  \n",
              "9   So I spent a few hours making something for fu...  \n",
              "10  2010 So I spent a few hours making something f...  \n",
              "11                                                was  \n",
              "12  Rock-Hard La Varlope, RARE & POWERFUL, HANDSOM...  \n",
              "13  Rock-Hard La Varlope, RARE & POWERFUL, HANDSOM...  \n",
              "14  Rock-Hard La Varlope, RARE & POWERFUL, HANDSOM...  \n",
              "15  Rock-Hard La Vita, RARE BUT POWERFUL, HANDSOME...  \n",
              "16  Live Rock - Hard music La la Varlope, RARE & t...  \n",
              "17  I-Hard like me, RARE LONDON DE, HANDSOME 2011,...  \n",
              "18  that was the first borderlands session in a lo...  \n",
              "19  this was the first Borderlands session in a lo...  \n",
              "20  that was the first borderlands session in a lo...  \n",
              "21  that was the first borderlands session in a lo...  \n",
              "22  that I was the first real borderlands session ...  \n",
              "23  that was the first borderlands session in a ho...  \n",
              "24  the biggest dissappoinment in my life came out...  \n",
              "25  The biggest disappointment of my life came a y...  \n",
              "26  The biggest disappointment of my life came a y...  \n",
              "27  the biggest dissappoinment in my life coming o...  \n",
              "28  For the biggest male dissappoinment in my life...  \n",
              "29  the biggest dissappoinment in my life came bac...  \n",
              "30  WE FINISHED BORDERLANDS 3 FINALLY YAS! Thank y...  \n",
              "31  WE FINALLY FINALLY FIND BORDERLANDS 3 YES! Tha...  \n",
              "32  Thank you for hanging up everyone! It was fun....  \n",
              "33  WE FINISHED BORDERLANDS 3 UPDATE YAS! Thank yo...  \n",
              "34  WE FINISHED BORDERLANDS 3 AND FINALLY YAS! Tha...  \n",
              "35  WE FINISHED BORDERLANDS 3 FINALLY YAS! Hey you...  \n",
              "36  Man Gearbox really needs to fix this dissapoin...  \n",
              "37  Man Gearbox really needs to fix these disappoi...  \n",
              "38  Man Gearbox really needs to fix this disssapoi...  \n",
              "39  Man Bethesda really needs to fix this dissapoi...  \n",
              "40  Man Gearbox really needs to fix this dissapoin...  \n",
              "41  <unk> Gearbox really time to fix this 10 drops...  \n",
              "42                   Check out this epic streamer!.    \n",
              "43                     Check out this epic streamer!.  \n",
              "44                       Watch this epic striptease!.  \n",
              "45                      Check out our epic streamer!.  \n",
              "46                 Check out this big epic streamer!.  \n",
              "47                    Check<unk> this epic streamer!.  \n",
              "48  Blaming Sight for Tardiness! A little bit of b...  \n",
              "49  A bit of borderland. I was called to work tomo...  "
            ]
          },
          "execution_count": 6,
          "metadata": {},
          "output_type": "execute_result"
        }
      ],
      "source": [
        "df.iloc[0:50]"
      ]
    },
    {
      "cell_type": "markdown",
      "metadata": {
        "id": "1t0u4a84u8xB"
      },
      "source": [
        "Es sieht so aus, dass col1 das Index eines tweets im originalen Datensatz ist. Für jeden originalen Tweet, werden 6 verschiedene Versionen als \"Data augmentation\" im Datensatz hingelegt. <br> Die 6 Versionen haben die selben Werte bei allen Spalten, ausgenomment die letzte Spalte 'col4', die den eigentlichen Tweet enthält. <br> Hier werden je nach Version eine Variation (paraphrasing) vom Text genutzt als \"Data augmentation\". Das ist wichtig, damit das modell nur das Sentiment lernt, und nicht die einzelne Wörter die einen Satz bestimmen und die Variieren können, ohne den Sentiment zu beeinträchtigen. <br>\n",
        "- col2 ist der Name des Produktes.\n",
        "- col3 ist das Sentiment. Das ist der wahre Wert, der vom Modell vorhergesagt werden soll.\n",
        "- col4 ist der Text.\n"
      ]
    },
    {
      "cell_type": "markdown",
      "metadata": {
        "id": "aMyjs0lqu8xC"
      },
      "source": [
        "Für ein einziges Produkt, verschiedene Tweet IDs sind vorhanden"
      ]
    },
    {
      "cell_type": "code",
      "execution_count": 7,
      "metadata": {
        "colab": {
          "base_uri": "https://localhost:8080/",
          "height": 490
        },
        "id": "iUAHOeyru8xC",
        "outputId": "ed3c90e9-df63-4eab-a619-029fb0301487"
      },
      "outputs": [
        {
          "data": {
            "text/plain": [
              "col1\n",
              "2401    6\n",
              "6164    6\n",
              "6141    6\n",
              "6142    6\n",
              "6143    6\n",
              "       ..\n",
              "4678    6\n",
              "4679    6\n",
              "4680    6\n",
              "4681    6\n",
              "9200    6\n",
              "Name: count, Length: 12447, dtype: int64"
            ]
          },
          "execution_count": 7,
          "metadata": {},
          "output_type": "execute_result"
        }
      ],
      "source": [
        "#Wir überprüfen die oben genannte Anmerkung\n",
        "\n",
        "df['col1'].value_counts()"
      ]
    },
    {
      "cell_type": "markdown",
      "metadata": {
        "id": "OL9-9_s0u8xD"
      },
      "source": [
        "12447 verschiedene Produkte"
      ]
    },
    {
      "cell_type": "code",
      "execution_count": 8,
      "metadata": {
        "colab": {
          "base_uri": "https://localhost:8080/"
        },
        "id": "Bp0PNKwRu8xE",
        "outputId": "2b9312aa-4a9f-4e6f-d9c4-e1e2069dfcb4"
      },
      "outputs": [
        {
          "data": {
            "text/plain": [
              "True"
            ]
          },
          "execution_count": 8,
          "metadata": {},
          "output_type": "execute_result"
        }
      ],
      "source": [
        "(df['col1'].value_counts().values ==6).all()"
      ]
    },
    {
      "cell_type": "code",
      "execution_count": 9,
      "metadata": {
        "id": "rk3hjuDfu8xE"
      },
      "outputs": [],
      "source": [
        "def test_group(group):\n",
        "    #This function tests whether the values of col2 and col 3 are constant across all elements of the same group\n",
        "    return pd.Series({'col2': group['col2'].nunique(), 'col3': group['col3'].nunique()})"
      ]
    },
    {
      "cell_type": "code",
      "execution_count": 10,
      "metadata": {
        "colab": {
          "base_uri": "https://localhost:8080/"
        },
        "id": "sGPFYSdWu8xF",
        "outputId": "59596a71-333a-4998-ba36-f9539725f5db"
      },
      "outputs": [
        {
          "name": "stderr",
          "output_type": "stream",
          "text": [
            "/var/folders/yp/s64kzpxd3k95zytpqbx3y1tw0000gn/T/ipykernel_23944/1608293319.py:1: DeprecationWarning: DataFrameGroupBy.apply operated on the grouping columns. This behavior is deprecated, and in a future version of pandas the grouping columns will be excluded from the operation. Either pass `include_groups=False` to exclude the groupings or explicitly select the grouping columns after groupby to silence this warning.\n",
            "  num_unique_values_by_tweet_id = df.groupby('col1').apply(test_group)\n"
          ]
        }
      ],
      "source": [
        "num_unique_values_by_tweet_id = df.groupby('col1').apply(test_group)"
      ]
    },
    {
      "cell_type": "code",
      "execution_count": 11,
      "metadata": {
        "colab": {
          "base_uri": "https://localhost:8080/",
          "height": 455
        },
        "id": "YfRF29Efu8xG",
        "outputId": "fbd7ab02-3920-41ce-c766-abe33eaf9111"
      },
      "outputs": [
        {
          "data": {
            "text/html": [
              "<div>\n",
              "<style scoped>\n",
              "    .dataframe tbody tr th:only-of-type {\n",
              "        vertical-align: middle;\n",
              "    }\n",
              "\n",
              "    .dataframe tbody tr th {\n",
              "        vertical-align: top;\n",
              "    }\n",
              "\n",
              "    .dataframe thead th {\n",
              "        text-align: right;\n",
              "    }\n",
              "</style>\n",
              "<table border=\"1\" class=\"dataframe\">\n",
              "  <thead>\n",
              "    <tr style=\"text-align: right;\">\n",
              "      <th></th>\n",
              "      <th>col2</th>\n",
              "      <th>col3</th>\n",
              "    </tr>\n",
              "    <tr>\n",
              "      <th>col1</th>\n",
              "      <th></th>\n",
              "      <th></th>\n",
              "    </tr>\n",
              "  </thead>\n",
              "  <tbody>\n",
              "    <tr>\n",
              "      <th>1</th>\n",
              "      <td>1</td>\n",
              "      <td>1</td>\n",
              "    </tr>\n",
              "    <tr>\n",
              "      <th>2</th>\n",
              "      <td>1</td>\n",
              "      <td>1</td>\n",
              "    </tr>\n",
              "    <tr>\n",
              "      <th>3</th>\n",
              "      <td>1</td>\n",
              "      <td>1</td>\n",
              "    </tr>\n",
              "    <tr>\n",
              "      <th>4</th>\n",
              "      <td>1</td>\n",
              "      <td>1</td>\n",
              "    </tr>\n",
              "    <tr>\n",
              "      <th>5</th>\n",
              "      <td>1</td>\n",
              "      <td>1</td>\n",
              "    </tr>\n",
              "    <tr>\n",
              "      <th>...</th>\n",
              "      <td>...</td>\n",
              "      <td>...</td>\n",
              "    </tr>\n",
              "    <tr>\n",
              "      <th>13196</th>\n",
              "      <td>1</td>\n",
              "      <td>1</td>\n",
              "    </tr>\n",
              "    <tr>\n",
              "      <th>13197</th>\n",
              "      <td>1</td>\n",
              "      <td>1</td>\n",
              "    </tr>\n",
              "    <tr>\n",
              "      <th>13198</th>\n",
              "      <td>1</td>\n",
              "      <td>1</td>\n",
              "    </tr>\n",
              "    <tr>\n",
              "      <th>13199</th>\n",
              "      <td>1</td>\n",
              "      <td>1</td>\n",
              "    </tr>\n",
              "    <tr>\n",
              "      <th>13200</th>\n",
              "      <td>1</td>\n",
              "      <td>1</td>\n",
              "    </tr>\n",
              "  </tbody>\n",
              "</table>\n",
              "<p>12447 rows × 2 columns</p>\n",
              "</div>"
            ],
            "text/plain": [
              "       col2  col3\n",
              "col1             \n",
              "1         1     1\n",
              "2         1     1\n",
              "3         1     1\n",
              "4         1     1\n",
              "5         1     1\n",
              "...     ...   ...\n",
              "13196     1     1\n",
              "13197     1     1\n",
              "13198     1     1\n",
              "13199     1     1\n",
              "13200     1     1\n",
              "\n",
              "[12447 rows x 2 columns]"
            ]
          },
          "execution_count": 11,
          "metadata": {},
          "output_type": "execute_result"
        }
      ],
      "source": [
        "num_unique_values_by_tweet_id"
      ]
    },
    {
      "cell_type": "code",
      "execution_count": 12,
      "metadata": {
        "colab": {
          "base_uri": "https://localhost:8080/"
        },
        "id": "7v_p_AW5u8xG",
        "outputId": "bbae7de6-e833-4aa4-bb78-7bf9436dbfab"
      },
      "outputs": [
        {
          "data": {
            "text/plain": [
              "(col2\n",
              " 1    12447\n",
              " Name: count, dtype: int64,\n",
              " col3\n",
              " 1    12447\n",
              " Name: count, dtype: int64)"
            ]
          },
          "execution_count": 12,
          "metadata": {},
          "output_type": "execute_result"
        }
      ],
      "source": [
        "num_unique_values_by_tweet_id['col2'].value_counts(), num_unique_values_by_tweet_id['col3'].value_counts()"
      ]
    },
    {
      "cell_type": "markdown",
      "metadata": {
        "id": "x7teW0bwu8xG"
      },
      "source": [
        "The data augmentation hypothesis is confirmed"
      ]
    },
    {
      "cell_type": "code",
      "execution_count": 13,
      "metadata": {
        "colab": {
          "base_uri": "https://localhost:8080/",
          "height": 1000
        },
        "id": "cuZSkrYju8xH",
        "outputId": "6c4619ce-f012-4cfc-a0a0-7df6b1942351"
      },
      "outputs": [
        {
          "data": {
            "text/plain": [
              "col2\n",
              "TomClancysRainbowSix                 2400\n",
              "MaddenNFL                            2400\n",
              "Microsoft                            2400\n",
              "LeagueOfLegends                      2394\n",
              "CallOfDuty                           2394\n",
              "Verizon                              2382\n",
              "CallOfDutyBlackopsColdWar            2376\n",
              "ApexLegends                          2376\n",
              "Facebook                             2370\n",
              "WorldOfCraft                         2364\n",
              "Dota2                                2364\n",
              "NBA2K                                2352\n",
              "TomClancysGhostRecon                 2346\n",
              "Battlefield                          2346\n",
              "FIFA                                 2340\n",
              "Xbox(Xseries)                        2334\n",
              "Overwatch                            2334\n",
              "johnson&johnson                      2328\n",
              "Amazon                               2316\n",
              "PlayStation5(PS5)                    2310\n",
              "HomeDepot                            2310\n",
              "Cyberpunk2077                        2304\n",
              "CS-GO                                2304\n",
              "GrandTheftAuto(GTA)                  2304\n",
              "Hearthstone                          2298\n",
              "Nvidia                               2298\n",
              "Google                               2298\n",
              "Borderlands                          2286\n",
              "PlayerUnknownsBattlegrounds(PUBG)    2274\n",
              "Fortnite                             2274\n",
              "RedDeadRedemption(RDR)               2262\n",
              "AssassinsCreed                       2244\n",
              "Name: count, dtype: int64"
            ]
          },
          "execution_count": 13,
          "metadata": {},
          "output_type": "execute_result"
        }
      ],
      "source": [
        "df['col2'].value_counts() #These are all product names"
      ]
    },
    {
      "cell_type": "code",
      "execution_count": 14,
      "metadata": {
        "colab": {
          "base_uri": "https://localhost:8080/",
          "height": 241
        },
        "id": "5QiBBDawu8xH",
        "outputId": "8a5a8241-e603-431c-88de-249f0b64258f"
      },
      "outputs": [
        {
          "data": {
            "text/plain": [
              "col3\n",
              "Negative      22542\n",
              "Positive      20832\n",
              "Neutral       18318\n",
              "Irrelevant    12990\n",
              "Name: count, dtype: int64"
            ]
          },
          "execution_count": 14,
          "metadata": {},
          "output_type": "execute_result"
        }
      ],
      "source": [
        "df['col3'].value_counts() # 4 possible classes."
      ]
    },
    {
      "cell_type": "code",
      "execution_count": 15,
      "metadata": {
        "colab": {
          "base_uri": "https://localhost:8080/",
          "height": 448
        },
        "id": "8VrQUUmau8xH",
        "outputId": "f200545e-abfb-43d6-d784-f4fe9d604154"
      },
      "outputs": [
        {
          "data": {
            "text/plain": [
              "<Axes: >"
            ]
          },
          "execution_count": 15,
          "metadata": {},
          "output_type": "execute_result"
        },
        {
          "data": {
            "image/png": "[encoded data removed]",
            "text/plain": [
              "<Figure size 640x480 with 1 Axes>"
            ]
          },
          "metadata": {},
          "output_type": "display_data"
        }
      ],
      "source": [
        "df['col3'].hist() #There is no excessively overrepresented/underrepresented classes"
      ]
    },
    {
      "cell_type": "code",
      "execution_count": 16,
      "metadata": {
        "colab": {
          "base_uri": "https://localhost:8080/",
          "height": 335
        },
        "id": "-ecFnfaWu8xI",
        "outputId": "c14aa199-1050-40cc-bf2b-d0b009ca9015"
      },
      "outputs": [
        {
          "data": {
            "text/plain": [
              "count    74682.000000\n",
              "mean       107.811963\n",
              "std         79.798839\n",
              "min          1.000000\n",
              "25%         45.000000\n",
              "50%         90.000000\n",
              "75%        152.000000\n",
              "max        957.000000\n",
              "Name: col4, dtype: float64"
            ]
          },
          "execution_count": 16,
          "metadata": {},
          "output_type": "execute_result"
        }
      ],
      "source": [
        "df['col4'].map(lambda x: len(str(x))).describe() #Tweets range from 1 to 957 caracters"
      ]
    },
    {
      "cell_type": "markdown",
      "metadata": {
        "id": "QPEjwnwBu8xI"
      },
      "source": [
        "We further check the tweets for different classes"
      ]
    },
    {
      "cell_type": "code",
      "execution_count": 17,
      "metadata": {
        "colab": {
          "base_uri": "https://localhost:8080/",
          "height": 424
        },
        "id": "fSqawirFu8xI",
        "outputId": "df676d0c-0f45-49f7-b762-75c25ba246bd"
      },
      "outputs": [
        {
          "data": {
            "text/html": [
              "<div>\n",
              "<style scoped>\n",
              "    .dataframe tbody tr th:only-of-type {\n",
              "        vertical-align: middle;\n",
              "    }\n",
              "\n",
              "    .dataframe tbody tr th {\n",
              "        vertical-align: top;\n",
              "    }\n",
              "\n",
              "    .dataframe thead th {\n",
              "        text-align: right;\n",
              "    }\n",
              "</style>\n",
              "<table border=\"1\" class=\"dataframe\">\n",
              "  <thead>\n",
              "    <tr style=\"text-align: right;\">\n",
              "      <th></th>\n",
              "      <th>col1</th>\n",
              "      <th>col2</th>\n",
              "      <th>col3</th>\n",
              "      <th>col4</th>\n",
              "    </tr>\n",
              "  </thead>\n",
              "  <tbody>\n",
              "    <tr>\n",
              "      <th>0</th>\n",
              "      <td>2401</td>\n",
              "      <td>Borderlands</td>\n",
              "      <td>Positive</td>\n",
              "      <td>im getting on borderlands and i will murder yo...</td>\n",
              "    </tr>\n",
              "    <tr>\n",
              "      <th>1</th>\n",
              "      <td>2401</td>\n",
              "      <td>Borderlands</td>\n",
              "      <td>Positive</td>\n",
              "      <td>I am coming to the borders and I will kill you...</td>\n",
              "    </tr>\n",
              "    <tr>\n",
              "      <th>2</th>\n",
              "      <td>2401</td>\n",
              "      <td>Borderlands</td>\n",
              "      <td>Positive</td>\n",
              "      <td>im getting on borderlands and i will kill you ...</td>\n",
              "    </tr>\n",
              "    <tr>\n",
              "      <th>3</th>\n",
              "      <td>2401</td>\n",
              "      <td>Borderlands</td>\n",
              "      <td>Positive</td>\n",
              "      <td>im coming on borderlands and i will murder you...</td>\n",
              "    </tr>\n",
              "    <tr>\n",
              "      <th>4</th>\n",
              "      <td>2401</td>\n",
              "      <td>Borderlands</td>\n",
              "      <td>Positive</td>\n",
              "      <td>im getting on borderlands 2 and i will murder ...</td>\n",
              "    </tr>\n",
              "    <tr>\n",
              "      <th>...</th>\n",
              "      <td>...</td>\n",
              "      <td>...</td>\n",
              "      <td>...</td>\n",
              "      <td>...</td>\n",
              "    </tr>\n",
              "    <tr>\n",
              "      <th>74677</th>\n",
              "      <td>9200</td>\n",
              "      <td>Nvidia</td>\n",
              "      <td>Positive</td>\n",
              "      <td>Just realized that the Windows partition of my...</td>\n",
              "    </tr>\n",
              "    <tr>\n",
              "      <th>74678</th>\n",
              "      <td>9200</td>\n",
              "      <td>Nvidia</td>\n",
              "      <td>Positive</td>\n",
              "      <td>Just realized that my Mac window partition is ...</td>\n",
              "    </tr>\n",
              "    <tr>\n",
              "      <th>74679</th>\n",
              "      <td>9200</td>\n",
              "      <td>Nvidia</td>\n",
              "      <td>Positive</td>\n",
              "      <td>Just realized the windows partition of my Mac ...</td>\n",
              "    </tr>\n",
              "    <tr>\n",
              "      <th>74680</th>\n",
              "      <td>9200</td>\n",
              "      <td>Nvidia</td>\n",
              "      <td>Positive</td>\n",
              "      <td>Just realized between the windows partition of...</td>\n",
              "    </tr>\n",
              "    <tr>\n",
              "      <th>74681</th>\n",
              "      <td>9200</td>\n",
              "      <td>Nvidia</td>\n",
              "      <td>Positive</td>\n",
              "      <td>Just like the windows partition of my Mac is l...</td>\n",
              "    </tr>\n",
              "  </tbody>\n",
              "</table>\n",
              "<p>20832 rows × 4 columns</p>\n",
              "</div>"
            ],
            "text/plain": [
              "       col1         col2      col3  \\\n",
              "0      2401  Borderlands  Positive   \n",
              "1      2401  Borderlands  Positive   \n",
              "2      2401  Borderlands  Positive   \n",
              "3      2401  Borderlands  Positive   \n",
              "4      2401  Borderlands  Positive   \n",
              "...     ...          ...       ...   \n",
              "74677  9200       Nvidia  Positive   \n",
              "74678  9200       Nvidia  Positive   \n",
              "74679  9200       Nvidia  Positive   \n",
              "74680  9200       Nvidia  Positive   \n",
              "74681  9200       Nvidia  Positive   \n",
              "\n",
              "                                                    col4  \n",
              "0      im getting on borderlands and i will murder yo...  \n",
              "1      I am coming to the borders and I will kill you...  \n",
              "2      im getting on borderlands and i will kill you ...  \n",
              "3      im coming on borderlands and i will murder you...  \n",
              "4      im getting on borderlands 2 and i will murder ...  \n",
              "...                                                  ...  \n",
              "74677  Just realized that the Windows partition of my...  \n",
              "74678  Just realized that my Mac window partition is ...  \n",
              "74679  Just realized the windows partition of my Mac ...  \n",
              "74680  Just realized between the windows partition of...  \n",
              "74681  Just like the windows partition of my Mac is l...  \n",
              "\n",
              "[20832 rows x 4 columns]"
            ]
          },
          "execution_count": 17,
          "metadata": {},
          "output_type": "execute_result"
        }
      ],
      "source": [
        "df[df['col3']=='Positive']"
      ]
    },
    {
      "cell_type": "code",
      "execution_count": 18,
      "metadata": {
        "colab": {
          "base_uri": "https://localhost:8080/",
          "height": 424
        },
        "id": "2pnrvdxlu8xI",
        "outputId": "3a67ebe9-3fad-4986-8bae-3b6f9f797ed4"
      },
      "outputs": [
        {
          "data": {
            "text/html": [
              "<div>\n",
              "<style scoped>\n",
              "    .dataframe tbody tr th:only-of-type {\n",
              "        vertical-align: middle;\n",
              "    }\n",
              "\n",
              "    .dataframe tbody tr th {\n",
              "        vertical-align: top;\n",
              "    }\n",
              "\n",
              "    .dataframe thead th {\n",
              "        text-align: right;\n",
              "    }\n",
              "</style>\n",
              "<table border=\"1\" class=\"dataframe\">\n",
              "  <thead>\n",
              "    <tr style=\"text-align: right;\">\n",
              "      <th></th>\n",
              "      <th>col1</th>\n",
              "      <th>col2</th>\n",
              "      <th>col3</th>\n",
              "      <th>col4</th>\n",
              "    </tr>\n",
              "  </thead>\n",
              "  <tbody>\n",
              "    <tr>\n",
              "      <th>24</th>\n",
              "      <td>2405</td>\n",
              "      <td>Borderlands</td>\n",
              "      <td>Negative</td>\n",
              "      <td>the biggest dissappoinment in my life came out...</td>\n",
              "    </tr>\n",
              "    <tr>\n",
              "      <th>25</th>\n",
              "      <td>2405</td>\n",
              "      <td>Borderlands</td>\n",
              "      <td>Negative</td>\n",
              "      <td>The biggest disappointment of my life came a y...</td>\n",
              "    </tr>\n",
              "    <tr>\n",
              "      <th>26</th>\n",
              "      <td>2405</td>\n",
              "      <td>Borderlands</td>\n",
              "      <td>Negative</td>\n",
              "      <td>The biggest disappointment of my life came a y...</td>\n",
              "    </tr>\n",
              "    <tr>\n",
              "      <th>27</th>\n",
              "      <td>2405</td>\n",
              "      <td>Borderlands</td>\n",
              "      <td>Negative</td>\n",
              "      <td>the biggest dissappoinment in my life coming o...</td>\n",
              "    </tr>\n",
              "    <tr>\n",
              "      <th>28</th>\n",
              "      <td>2405</td>\n",
              "      <td>Borderlands</td>\n",
              "      <td>Negative</td>\n",
              "      <td>For the biggest male dissappoinment in my life...</td>\n",
              "    </tr>\n",
              "    <tr>\n",
              "      <th>...</th>\n",
              "      <td>...</td>\n",
              "      <td>...</td>\n",
              "      <td>...</td>\n",
              "      <td>...</td>\n",
              "    </tr>\n",
              "    <tr>\n",
              "      <th>74665</th>\n",
              "      <td>9198</td>\n",
              "      <td>Nvidia</td>\n",
              "      <td>Negative</td>\n",
              "      <td>Nvidia really delayed the 3070 by 2 weeks.</td>\n",
              "    </tr>\n",
              "    <tr>\n",
              "      <th>74666</th>\n",
              "      <td>9198</td>\n",
              "      <td>Nvidia</td>\n",
              "      <td>Negative</td>\n",
              "      <td>Nvidia did delay by 3070 2 weeks.</td>\n",
              "    </tr>\n",
              "    <tr>\n",
              "      <th>74667</th>\n",
              "      <td>9198</td>\n",
              "      <td>Nvidia</td>\n",
              "      <td>Negative</td>\n",
              "      <td>Nvidia really delayed the 3070 several weeks.</td>\n",
              "    </tr>\n",
              "    <tr>\n",
              "      <th>74668</th>\n",
              "      <td>9198</td>\n",
              "      <td>Nvidia</td>\n",
              "      <td>Negative</td>\n",
              "      <td>Nvidia really only delayed the 3070 2 flight w...</td>\n",
              "    </tr>\n",
              "    <tr>\n",
              "      <th>74669</th>\n",
              "      <td>9198</td>\n",
              "      <td>Nvidia</td>\n",
              "      <td>Negative</td>\n",
              "      <td>Nvidia really delayed the next 2 weeks.</td>\n",
              "    </tr>\n",
              "  </tbody>\n",
              "</table>\n",
              "<p>22542 rows × 4 columns</p>\n",
              "</div>"
            ],
            "text/plain": [
              "       col1         col2      col3  \\\n",
              "24     2405  Borderlands  Negative   \n",
              "25     2405  Borderlands  Negative   \n",
              "26     2405  Borderlands  Negative   \n",
              "27     2405  Borderlands  Negative   \n",
              "28     2405  Borderlands  Negative   \n",
              "...     ...          ...       ...   \n",
              "74665  9198       Nvidia  Negative   \n",
              "74666  9198       Nvidia  Negative   \n",
              "74667  9198       Nvidia  Negative   \n",
              "74668  9198       Nvidia  Negative   \n",
              "74669  9198       Nvidia  Negative   \n",
              "\n",
              "                                                    col4  \n",
              "24     the biggest dissappoinment in my life came out...  \n",
              "25     The biggest disappointment of my life came a y...  \n",
              "26     The biggest disappointment of my life came a y...  \n",
              "27     the biggest dissappoinment in my life coming o...  \n",
              "28     For the biggest male dissappoinment in my life...  \n",
              "...                                                  ...  \n",
              "74665         Nvidia really delayed the 3070 by 2 weeks.  \n",
              "74666                  Nvidia did delay by 3070 2 weeks.  \n",
              "74667      Nvidia really delayed the 3070 several weeks.  \n",
              "74668  Nvidia really only delayed the 3070 2 flight w...  \n",
              "74669            Nvidia really delayed the next 2 weeks.  \n",
              "\n",
              "[22542 rows x 4 columns]"
            ]
          },
          "execution_count": 18,
          "metadata": {},
          "output_type": "execute_result"
        }
      ],
      "source": [
        "df[df['col3']=='Negative']"
      ]
    },
    {
      "cell_type": "code",
      "execution_count": 19,
      "metadata": {
        "colab": {
          "base_uri": "https://localhost:8080/",
          "height": 424
        },
        "id": "YnZlfkMMu8xI",
        "outputId": "828dd569-45e8-4023-daff-ddc0770b0ca8"
      },
      "outputs": [
        {
          "data": {
            "text/html": [
              "<div>\n",
              "<style scoped>\n",
              "    .dataframe tbody tr th:only-of-type {\n",
              "        vertical-align: middle;\n",
              "    }\n",
              "\n",
              "    .dataframe tbody tr th {\n",
              "        vertical-align: top;\n",
              "    }\n",
              "\n",
              "    .dataframe thead th {\n",
              "        text-align: right;\n",
              "    }\n",
              "</style>\n",
              "<table border=\"1\" class=\"dataframe\">\n",
              "  <thead>\n",
              "    <tr style=\"text-align: right;\">\n",
              "      <th></th>\n",
              "      <th>col1</th>\n",
              "      <th>col2</th>\n",
              "      <th>col3</th>\n",
              "      <th>col4</th>\n",
              "    </tr>\n",
              "  </thead>\n",
              "  <tbody>\n",
              "    <tr>\n",
              "      <th>12</th>\n",
              "      <td>2403</td>\n",
              "      <td>Borderlands</td>\n",
              "      <td>Neutral</td>\n",
              "      <td>Rock-Hard La Varlope, RARE &amp; POWERFUL, HANDSOM...</td>\n",
              "    </tr>\n",
              "    <tr>\n",
              "      <th>13</th>\n",
              "      <td>2403</td>\n",
              "      <td>Borderlands</td>\n",
              "      <td>Neutral</td>\n",
              "      <td>Rock-Hard La Varlope, RARE &amp; POWERFUL, HANDSOM...</td>\n",
              "    </tr>\n",
              "    <tr>\n",
              "      <th>14</th>\n",
              "      <td>2403</td>\n",
              "      <td>Borderlands</td>\n",
              "      <td>Neutral</td>\n",
              "      <td>Rock-Hard La Varlope, RARE &amp; POWERFUL, HANDSOM...</td>\n",
              "    </tr>\n",
              "    <tr>\n",
              "      <th>15</th>\n",
              "      <td>2403</td>\n",
              "      <td>Borderlands</td>\n",
              "      <td>Neutral</td>\n",
              "      <td>Rock-Hard La Vita, RARE BUT POWERFUL, HANDSOME...</td>\n",
              "    </tr>\n",
              "    <tr>\n",
              "      <th>16</th>\n",
              "      <td>2403</td>\n",
              "      <td>Borderlands</td>\n",
              "      <td>Neutral</td>\n",
              "      <td>Live Rock - Hard music La la Varlope, RARE &amp; t...</td>\n",
              "    </tr>\n",
              "    <tr>\n",
              "      <th>...</th>\n",
              "      <td>...</td>\n",
              "      <td>...</td>\n",
              "      <td>...</td>\n",
              "      <td>...</td>\n",
              "    </tr>\n",
              "    <tr>\n",
              "      <th>74659</th>\n",
              "      <td>9197</td>\n",
              "      <td>Nvidia</td>\n",
              "      <td>Neutral</td>\n",
              "      <td>Nvidia plans to release its 2017 \"Crypto Craze...</td>\n",
              "    </tr>\n",
              "    <tr>\n",
              "      <th>74660</th>\n",
              "      <td>9197</td>\n",
              "      <td>Nvidia</td>\n",
              "      <td>Neutral</td>\n",
              "      <td>Nvidia does not want to give up its \"cryptoins...</td>\n",
              "    </tr>\n",
              "    <tr>\n",
              "      <th>74661</th>\n",
              "      <td>9197</td>\n",
              "      <td>Nvidia</td>\n",
              "      <td>Neutral</td>\n",
              "      <td>Nvidia doesn’t intend to give away its 2017 ad...</td>\n",
              "    </tr>\n",
              "    <tr>\n",
              "      <th>74662</th>\n",
              "      <td>9197</td>\n",
              "      <td>Nvidia</td>\n",
              "      <td>Neutral</td>\n",
              "      <td>Nvidia therefore doesn ’ t want to give up its...</td>\n",
              "    </tr>\n",
              "    <tr>\n",
              "      <th>74663</th>\n",
              "      <td>9197</td>\n",
              "      <td>Nvidia</td>\n",
              "      <td>Neutral</td>\n",
              "      <td>is doesn’t should I give up its password ‘cryp...</td>\n",
              "    </tr>\n",
              "  </tbody>\n",
              "</table>\n",
              "<p>18318 rows × 4 columns</p>\n",
              "</div>"
            ],
            "text/plain": [
              "       col1         col2     col3  \\\n",
              "12     2403  Borderlands  Neutral   \n",
              "13     2403  Borderlands  Neutral   \n",
              "14     2403  Borderlands  Neutral   \n",
              "15     2403  Borderlands  Neutral   \n",
              "16     2403  Borderlands  Neutral   \n",
              "...     ...          ...      ...   \n",
              "74659  9197       Nvidia  Neutral   \n",
              "74660  9197       Nvidia  Neutral   \n",
              "74661  9197       Nvidia  Neutral   \n",
              "74662  9197       Nvidia  Neutral   \n",
              "74663  9197       Nvidia  Neutral   \n",
              "\n",
              "                                                    col4  \n",
              "12     Rock-Hard La Varlope, RARE & POWERFUL, HANDSOM...  \n",
              "13     Rock-Hard La Varlope, RARE & POWERFUL, HANDSOM...  \n",
              "14     Rock-Hard La Varlope, RARE & POWERFUL, HANDSOM...  \n",
              "15     Rock-Hard La Vita, RARE BUT POWERFUL, HANDSOME...  \n",
              "16     Live Rock - Hard music La la Varlope, RARE & t...  \n",
              "...                                                  ...  \n",
              "74659  Nvidia plans to release its 2017 \"Crypto Craze...  \n",
              "74660  Nvidia does not want to give up its \"cryptoins...  \n",
              "74661  Nvidia doesn’t intend to give away its 2017 ad...  \n",
              "74662  Nvidia therefore doesn ’ t want to give up its...  \n",
              "74663  is doesn’t should I give up its password ‘cryp...  \n",
              "\n",
              "[18318 rows x 4 columns]"
            ]
          },
          "execution_count": 19,
          "metadata": {},
          "output_type": "execute_result"
        }
      ],
      "source": [
        "df[df['col3']=='Neutral']"
      ]
    },
    {
      "cell_type": "code",
      "execution_count": 20,
      "metadata": {
        "colab": {
          "base_uri": "https://localhost:8080/",
          "height": 424
        },
        "id": "-Z9byXGFu8xI",
        "outputId": "4a9e0413-3ec5-4592-96e3-9a0eb740e667"
      },
      "outputs": [
        {
          "data": {
            "text/html": [
              "<div>\n",
              "<style scoped>\n",
              "    .dataframe tbody tr th:only-of-type {\n",
              "        vertical-align: middle;\n",
              "    }\n",
              "\n",
              "    .dataframe tbody tr th {\n",
              "        vertical-align: top;\n",
              "    }\n",
              "\n",
              "    .dataframe thead th {\n",
              "        text-align: right;\n",
              "    }\n",
              "</style>\n",
              "<table border=\"1\" class=\"dataframe\">\n",
              "  <thead>\n",
              "    <tr style=\"text-align: right;\">\n",
              "      <th></th>\n",
              "      <th>col1</th>\n",
              "      <th>col2</th>\n",
              "      <th>col3</th>\n",
              "      <th>col4</th>\n",
              "    </tr>\n",
              "  </thead>\n",
              "  <tbody>\n",
              "    <tr>\n",
              "      <th>102</th>\n",
              "      <td>2418</td>\n",
              "      <td>Borderlands</td>\n",
              "      <td>Irrelevant</td>\n",
              "      <td>Appreciate the (sonic) concepts / praxis Valen...</td>\n",
              "    </tr>\n",
              "    <tr>\n",
              "      <th>103</th>\n",
              "      <td>2418</td>\n",
              "      <td>Borderlands</td>\n",
              "      <td>Irrelevant</td>\n",
              "      <td>Appreciate the (sound) concepts / practices th...</td>\n",
              "    </tr>\n",
              "    <tr>\n",
              "      <th>104</th>\n",
              "      <td>2418</td>\n",
              "      <td>Borderlands</td>\n",
              "      <td>Irrelevant</td>\n",
              "      <td>Evaluate the (sound) concepts / concepts of Va...</td>\n",
              "    </tr>\n",
              "    <tr>\n",
              "      <th>105</th>\n",
              "      <td>2418</td>\n",
              "      <td>Borderlands</td>\n",
              "      <td>Irrelevant</td>\n",
              "      <td>Appreciate the (sonic) concepts / praxis Valen...</td>\n",
              "    </tr>\n",
              "    <tr>\n",
              "      <th>106</th>\n",
              "      <td>2418</td>\n",
              "      <td>Borderlands</td>\n",
              "      <td>Irrelevant</td>\n",
              "      <td>Appreciate by the ( sonic ) electronic concept...</td>\n",
              "    </tr>\n",
              "    <tr>\n",
              "      <th>...</th>\n",
              "      <td>...</td>\n",
              "      <td>...</td>\n",
              "      <td>...</td>\n",
              "      <td>...</td>\n",
              "    </tr>\n",
              "    <tr>\n",
              "      <th>74035</th>\n",
              "      <td>9085</td>\n",
              "      <td>Nvidia</td>\n",
              "      <td>Irrelevant</td>\n",
              "      <td>This is all based on last quarter's earnings. ...</td>\n",
              "    </tr>\n",
              "    <tr>\n",
              "      <th>74036</th>\n",
              "      <td>9085</td>\n",
              "      <td>Nvidia</td>\n",
              "      <td>Irrelevant</td>\n",
              "      <td>Let's see how well they handle the next one wh...</td>\n",
              "    </tr>\n",
              "    <tr>\n",
              "      <th>74037</th>\n",
              "      <td>9085</td>\n",
              "      <td>Nvidia</td>\n",
              "      <td>Irrelevant</td>\n",
              "      <td>Good on them. This stuff all based on earnings...</td>\n",
              "    </tr>\n",
              "    <tr>\n",
              "      <th>74038</th>\n",
              "      <td>9085</td>\n",
              "      <td>Nvidia</td>\n",
              "      <td>Irrelevant</td>\n",
              "      <td>9 Good idea for them. This is all based on ear...</td>\n",
              "    </tr>\n",
              "    <tr>\n",
              "      <th>74039</th>\n",
              "      <td>9085</td>\n",
              "      <td>Nvidia</td>\n",
              "      <td>Irrelevant</td>\n",
              "      <td>goes for them. This is all based on earnings f...</td>\n",
              "    </tr>\n",
              "  </tbody>\n",
              "</table>\n",
              "<p>12990 rows × 4 columns</p>\n",
              "</div>"
            ],
            "text/plain": [
              "       col1         col2        col3  \\\n",
              "102    2418  Borderlands  Irrelevant   \n",
              "103    2418  Borderlands  Irrelevant   \n",
              "104    2418  Borderlands  Irrelevant   \n",
              "105    2418  Borderlands  Irrelevant   \n",
              "106    2418  Borderlands  Irrelevant   \n",
              "...     ...          ...         ...   \n",
              "74035  9085       Nvidia  Irrelevant   \n",
              "74036  9085       Nvidia  Irrelevant   \n",
              "74037  9085       Nvidia  Irrelevant   \n",
              "74038  9085       Nvidia  Irrelevant   \n",
              "74039  9085       Nvidia  Irrelevant   \n",
              "\n",
              "                                                    col4  \n",
              "102    Appreciate the (sonic) concepts / praxis Valen...  \n",
              "103    Appreciate the (sound) concepts / practices th...  \n",
              "104    Evaluate the (sound) concepts / concepts of Va...  \n",
              "105    Appreciate the (sonic) concepts / praxis Valen...  \n",
              "106    Appreciate by the ( sonic ) electronic concept...  \n",
              "...                                                  ...  \n",
              "74035  This is all based on last quarter's earnings. ...  \n",
              "74036  Let's see how well they handle the next one wh...  \n",
              "74037  Good on them. This stuff all based on earnings...  \n",
              "74038  9 Good idea for them. This is all based on ear...  \n",
              "74039  goes for them. This is all based on earnings f...  \n",
              "\n",
              "[12990 rows x 4 columns]"
            ]
          },
          "execution_count": 20,
          "metadata": {},
          "output_type": "execute_result"
        }
      ],
      "source": [
        "df[df['col3']=='Irrelevant']"
      ]
    },
    {
      "cell_type": "code",
      "execution_count": 21,
      "metadata": {
        "colab": {
          "base_uri": "https://localhost:8080/",
          "height": 335
        },
        "id": "pxOGowEau8xI",
        "outputId": "285133d9-4342-420f-8a38-638936ea84cb"
      },
      "outputs": [
        {
          "data": {
            "text/plain": [
              "count    20832.000000\n",
              "mean        95.136617\n",
              "std         77.526184\n",
              "min          1.000000\n",
              "25%         35.000000\n",
              "50%         74.000000\n",
              "75%        133.000000\n",
              "max        692.000000\n",
              "Name: col4, dtype: float64"
            ]
          },
          "execution_count": 21,
          "metadata": {},
          "output_type": "execute_result"
        }
      ],
      "source": [
        "df[df['col3']=='Positive']['col4'].map(lambda x: len(str(x))).describe()"
      ]
    },
    {
      "cell_type": "code",
      "execution_count": 22,
      "metadata": {
        "colab": {
          "base_uri": "https://localhost:8080/",
          "height": 335
        },
        "id": "yPX0Q_kZu8xJ",
        "outputId": "163c8009-a6b2-41ff-90d3-e608c50e55c4"
      },
      "outputs": [
        {
          "data": {
            "text/plain": [
              "count    22542.000000\n",
              "mean       110.401828\n",
              "std         82.095795\n",
              "min          1.000000\n",
              "25%         45.000000\n",
              "50%         90.000000\n",
              "75%        160.000000\n",
              "max        727.000000\n",
              "Name: col4, dtype: float64"
            ]
          },
          "execution_count": 22,
          "metadata": {},
          "output_type": "execute_result"
        }
      ],
      "source": [
        "df[df['col3']=='Negative']['col4'].map(lambda x: len(str(x))).describe()"
      ]
    },
    {
      "cell_type": "code",
      "execution_count": 23,
      "metadata": {
        "colab": {
          "base_uri": "https://localhost:8080/",
          "height": 335
        },
        "id": "OiK8m6slu8xJ",
        "outputId": "a9a773bc-2f84-4ca4-c309-c58af27ff7d5"
      },
      "outputs": [
        {
          "data": {
            "text/plain": [
              "count    18318.000000\n",
              "mean       117.506660\n",
              "std         77.955804\n",
              "min          1.000000\n",
              "25%         60.000000\n",
              "50%        104.000000\n",
              "75%        160.000000\n",
              "max        957.000000\n",
              "Name: col4, dtype: float64"
            ]
          },
          "execution_count": 23,
          "metadata": {},
          "output_type": "execute_result"
        }
      ],
      "source": [
        "df[df['col3']=='Neutral']['col4'].map(lambda x: len(str(x))).describe()"
      ]
    },
    {
      "cell_type": "code",
      "execution_count": 24,
      "metadata": {
        "colab": {
          "base_uri": "https://localhost:8080/",
          "height": 335
        },
        "id": "6fipa6FPu8xJ",
        "outputId": "c1b013ad-3dc1-43b8-d124-0c4bc4d3039a"
      },
      "outputs": [
        {
          "data": {
            "text/plain": [
              "count    12990.000000\n",
              "mean       109.973980\n",
              "std         79.378055\n",
              "min          1.000000\n",
              "25%         49.000000\n",
              "50%         92.000000\n",
              "75%        154.000000\n",
              "max        692.000000\n",
              "Name: col4, dtype: float64"
            ]
          },
          "execution_count": 24,
          "metadata": {},
          "output_type": "execute_result"
        }
      ],
      "source": [
        "df[df['col3']=='Irrelevant']['col4'].map(lambda x: len(str(x))).describe()"
      ]
    },
    {
      "cell_type": "markdown",
      "metadata": {
        "id": "uI-MDQynu8xK"
      },
      "source": [
        "It seems that examples with very few caracters exist in all classes. We need to find the right number of caracters n such that we eliminate all examples with less than n caracters from the training set."
      ]
    },
    {
      "cell_type": "code",
      "execution_count": 25,
      "metadata": {
        "colab": {
          "base_uri": "https://localhost:8080/",
          "height": 1000
        },
        "id": "zmLF7A0Vu8xK",
        "outputId": "6a67542c-3770-4852-e01f-fa06f749ac08"
      },
      "outputs": [
        {
          "data": {
            "text/plain": [
              "col4\n",
              "nan      686\n",
              "         172\n",
              "<unk>    133\n",
              "to        74\n",
              "I         72\n",
              "the       68\n",
              "you       63\n",
              "of        57\n",
              "a         53\n",
              "Wow       48\n",
              "is        46\n",
              "in        44\n",
              "it        31\n",
              "that      30\n",
              "and       29\n",
              "was       26\n",
              "The       23\n",
              "Wow.      23\n",
              "not       22\n",
              "Wtf       20\n",
              "be        20\n",
              "are       19\n",
              ".         18\n",
              "on        18\n",
              "You       17\n",
              "can       16\n",
              "Nice      15\n",
              "what      15\n",
              "at        14\n",
              "We        14\n",
              "Damn      14\n",
              "do        14\n",
              "we        14\n",
              "have      13\n",
              "It        13\n",
              "out       12\n",
              "wow       12\n",
              "my        12\n",
              "by        11\n",
              "will      11\n",
              "your      11\n",
              "this      11\n",
              "for       11\n",
              "about     11\n",
              "or        11\n",
              "there     11\n",
              "..        10\n",
              "an        10\n",
              "just      10\n",
              "wtf       10\n",
              "up         9\n",
              "Woah       9\n",
              "no         9\n",
              "so         9\n",
              "...        9\n",
              "one        9\n",
              "[          9\n",
              "WOW        9\n",
              "Smh        8\n",
              "Fuck       8\n",
              "nice       8\n",
              "has        8\n",
              "they       8\n",
              "as         8\n",
              "our        8\n",
              "he         7\n",
              "The        7\n",
              "who        7\n",
              "Why        7\n",
              "don        7\n",
              "What       7\n",
              "How        7\n",
              "Shit       7\n",
              "me         6\n",
              "WOW.       6\n",
              "Sweet      6\n",
              "us         6\n",
              "all        6\n",
              "had        6\n",
              ":D         6\n",
              "Good.      6\n",
              "from       6\n",
              "see        6\n",
              "Cool.      6\n",
              "fuck       5\n",
              "WTF        5\n",
              "wtf?       5\n",
              "with       5\n",
              "So         5\n",
              "more       5\n",
              "how        5\n",
              "would      5\n",
              "\"          5\n",
              "....       5\n",
              "Nice!      5\n",
              "2          5\n",
              "think      4\n",
              "were       4\n",
              "A          4\n",
              "if         4\n",
              "Wow..      4\n",
              "Woah.      4\n",
              "Awe        4\n",
              "Wtf?       4\n",
              "Very.      4\n",
              "Toxic      4\n",
              "Wtf??      4\n",
              "like       4\n",
              "HUGE       4\n",
              "know       4\n",
              "Neat       4\n",
              "wow.       4\n",
              "WOW!       4\n",
              "Aha!       3\n",
              "did        3\n",
              "LAME       3\n",
              "Whoa.      3\n",
              "Dirty      3\n",
              "damn       3\n",
              "Rip        3\n",
              "Mori.      3\n",
              "3.         3\n",
              "In         3\n",
              "time       3\n",
              "Awful      3\n",
              "Wow!.      3\n",
              "Fine.      3\n",
              "Lame.      3\n",
              "am         3\n",
              "fuck.      3\n",
              "Yooo       3\n",
              "make       3\n",
              "Awww       3\n",
              "Smart      3\n",
              "Aww        3\n",
              "Woah!      3\n",
              "[          3\n",
              "Smh.       3\n",
              ". wow      3\n",
              "DAMN       3\n",
              "Sorry      3\n",
              "Booo       2\n",
              "Welp,      2\n",
              "Local      2\n",
              " .         2\n",
              "Your       2\n",
              "am.        2\n",
              "also       2\n",
              "My         2\n",
              "I'm        2\n",
              "DAMN.      2\n",
              ". A        2\n",
              "I.         2\n",
              "GOAT.      2\n",
              "Day        2\n",
              ". 7.       2\n",
              "STORE      2\n",
              "WHY.       2\n",
              "Love.      2\n",
              "Xbox.      2\n",
              ": D        2\n",
              "Thx        2\n",
              "A A        2\n",
              "Hey        2\n",
              "Our.       2\n",
              "Afome      2\n",
              "🤓🤔.        2\n",
              "Wtf.       2\n",
              "sad        2\n",
              "get        2\n",
              "Trash      2\n",
              "Shit.      2\n",
              "Omg.       2\n",
              "the.       2\n",
              "may        2\n",
              "New        2\n",
              "Bruh.      2\n",
              " .         2\n",
              "why        2\n",
              "Join       2\n",
              "Boah.      2\n",
              "Huge       2\n",
              "Wow …      2\n",
              "This       2\n",
              ".. [       2\n",
              "So.        2\n",
              "Hey.       2\n",
              "WTF.       2\n",
              "to.        2\n",
              "I'm        1\n",
              "CHILE      1\n",
              "I'I m      1\n",
              "this.      1\n",
              "So …       1\n",
              "been       1\n",
              "I Wow      1\n",
              "..  ?      1\n",
              "Oh!        1\n",
              "I So       1\n",
              "What?      1\n",
              "24/20      1\n",
              "Error      1\n",
              "Could      1\n",
              "and!.      1\n",
              "and 4      1\n",
              "Pray.      1\n",
              "Fraud      1\n",
              "a So       1\n",
              "So         1\n",
              "16h.       1\n",
              "4pm.       1\n",
              "4'm        1\n",
              "Gtb.       1\n",
              "Torn!      1\n",
              "Y!         1\n",
              "SO SA      1\n",
              "So im      1\n",
              "and..      1\n",
              "8,         1\n",
              "@ tj       1\n",
              ".. 45      1\n",
              "Best.      1\n",
              "I wow      1\n",
              "O!         1\n",
              "was.       1\n",
              "Nice.      1\n",
              "nice.      1\n",
              "″ Wow      1\n",
              "and.       1\n",
              "\"          1\n",
              ". p]       1\n",
              ". 73]      1\n",
              "12 |       1\n",
              "Vick.      1\n",
              "said.      1\n",
              "2          1\n",
              "Lahm.      1\n",
              "in.        1\n",
              "5.         1\n",
              "4.         1\n",
              "Hmmm.      1\n",
              "That       1\n",
              "WHY??      1\n",
              "I b        1\n",
              "2.         1\n",
              "@xbox      1\n",
              "Life.      1\n",
              "Aha.       1\n",
              "I Aww      1\n",
              "Ahw        1\n",
              ". 6        1\n",
              "7.         1\n",
              "Oh.        1\n",
              "that!      1\n",
              "Sad        1\n",
              "Cute!      1\n",
              "on.        1\n",
              "Loba.      1\n",
              "Idgi.      1\n",
              "LIE!!      1\n",
              "LS!!       1\n",
              "Ah …       1\n",
              "6 The      1\n",
              "You 6      1\n",
              "oh ja      1\n",
              "is.        1\n",
              "7 WOW      1\n",
              "News.      1\n",
              "So .       1\n",
              "So...      1\n",
              "How        1\n",
              ". 1        1\n",
              "1.         1\n",
              "Dumb.      1\n",
              ". 5        1\n",
              "STOP       1\n",
              "WTF??      1\n",
              "Smh –      1\n",
              "haha       1\n",
              "Store      1\n",
              ".          1\n",
              "Day        1\n",
              "I to       1\n",
              "Omg @      1\n",
              ". 13       1\n",
              "Hey        1\n",
              "5 My       1\n",
              "My         1\n",
              ".,         1\n",
              ".....      1\n",
              "WTF        1\n",
              "Since      1\n",
              "C          1\n",
              "I do.      1\n",
              "Fail.      1\n",
              "A Me       1\n",
              "S4 C       1\n",
              "J Thx      1\n",
              "Thx        1\n",
              "6 4        1\n",
              "8.         1\n",
              "he??       1\n",
              "LIVE       1\n",
              "Card       1\n",
              "3 The      1\n",
              "Name: count, dtype: int64"
            ]
          },
          "execution_count": 25,
          "metadata": {},
          "output_type": "execute_result"
        }
      ],
      "source": [
        "df[df['col4'].map(lambda x: len(str(x)))<6]['col4'].map(str).value_counts()"
      ]
    },
    {
      "cell_type": "code",
      "execution_count": 26,
      "metadata": {
        "colab": {
          "base_uri": "https://localhost:8080/",
          "height": 1000
        },
        "id": "_y9F_Wvku8xM",
        "outputId": "84a9e0d5-1c2b-4d24-d942-5528256d6279"
      },
      "outputs": [
        {
          "data": {
            "text/plain": [
              "col4\n",
              "<unk>.    19\n",
              "Damned     6\n",
              "Wow...     6\n",
              "really     6\n",
              "Really     5\n",
              " . .       4\n",
              "Clever     4\n",
              "Jaire.     3\n",
              "<unk>!     3\n",
              "Played     3\n",
              "Fuck u     3\n",
              "Wow .      3\n",
              "Join       2\n",
              "Damn..     2\n",
              "S4 god     2\n",
              "Gianni     2\n",
              "Oh wow     2\n",
              "live:)     2\n",
              "oh wow     2\n",
              "🤓🤔.        2\n",
              "Wtf...     2\n",
              "Kings.     2\n",
              "Medium     2\n",
              "Maybe.     2\n",
              "......     2\n",
              "LIES!!     2\n",
              "I quit     2\n",
              "WTF..?     2\n",
              "Momon.     2\n",
              "@ xbox     2\n",
              "15 Wtf     2\n",
              "CHILLS     2\n",
              "Mercy.     2\n",
              "Crazy.     2\n",
              "I WHY.     1\n",
              "WHY .      1\n",
              "Smh .      1\n",
              "Music.     1\n",
              "16h .      1\n",
              "HELL T     1\n",
              "WTF …?     1\n",
              "HELL O     1\n",
              "I have     1\n",
              "Yooo       1\n",
              "Your       1\n",
              "I Wow.     1\n",
              "46 Wtf     1\n",
              "did..?     1\n",
              "music.     1\n",
              "am smh     1\n",
              "16h 36     1\n",
              "3 That     1\n",
              "SO FAR     1\n",
              "So now     1\n",
              "Puppy,     1\n",
              "WOW...     1\n",
              "Booo..     1\n",
              "or wtf     1\n",
              "and...     1\n",
              "UK |       1\n",
              "I<unk>     1\n",
              "damnn.     1\n",
              "Mori.      1\n",
              "That       1\n",
              "Goats.     1\n",
              "S Nice     1\n",
              "is....     1\n",
              "Wtf???     1\n",
              "31 The     1\n",
              "O Nice     1\n",
              "Go Big     1\n",
              "6<unk>     1\n",
              "Wtf?       1\n",
              "Wrong.     1\n",
              "Oh my!     1\n",
              "O DAMN     1\n",
              "more »     1\n",
              "wtf...     1\n",
              "LIVE |     1\n",
              "a one.     1\n",
              "WTF .      1\n",
              "about.     1\n",
              "Hey .      1\n",
              "S4 for     1\n",
              "Nah ….     1\n",
              "Thrush     1\n",
              "he Smh     1\n",
              "oh smh     1\n",
              "Damn       1\n",
              "13 The     1\n",
              "V HUGE     1\n",
              "O Wow.     1\n",
              "haha I     1\n",
              "GOOD F     1\n",
              "you...     1\n",
              "I'm so     1\n",
              "LET IT     1\n",
              "Big W.     1\n",
              "22 The     1\n",
              "a...!.     1\n",
              "YOOOOO     1\n",
              "No, no     1\n",
              "Omg .      1\n",
              "Wtf .      1\n",
              "Dope 7     1\n",
              "Card       1\n",
              "Pretty     1\n",
              "Silly.     1\n",
              "I Edit     1\n",
              "Got It     1\n",
              ". The.     1\n",
              "nice       1\n",
              "lil pa     1\n",
              "fuck       1\n",
              "I want     1\n",
              "I Love     1\n",
              "Whoa.      1\n",
              "HOLY M     1\n",
              "@ CSGO     1\n",
              "Sloppy     1\n",
              "All to     1\n",
              "an ass     1\n",
              "Oh My.     1\n",
              "I This     1\n",
              "This       1\n",
              "LMAO L     1\n",
              "LO WTF     1\n",
              "15 Smh     1\n",
              "Idgi 7     1\n",
              "Yikes.     1\n",
              "A Wow.     1\n",
              "Name: count, dtype: int64"
            ]
          },
          "execution_count": 26,
          "metadata": {},
          "output_type": "execute_result"
        }
      ],
      "source": [
        "df[df['col4'].map(lambda x: len(str(x)))==6]['col4'].map(str).value_counts()"
      ]
    },
    {
      "cell_type": "markdown",
      "metadata": {
        "id": "fS8pjLENu8xN"
      },
      "source": [
        "## Creating the training dataset"
      ]
    },
    {
      "cell_type": "code",
      "execution_count": 27,
      "metadata": {
        "id": "0BiLcBjJu8xN"
      },
      "outputs": [],
      "source": [
        "df_train_clean = pd.read_csv('training.csv', names= ['tweet_ID', 'product', 'sentiment', 'text'])"
      ]
    },
    {
      "cell_type": "code",
      "execution_count": 28,
      "metadata": {
        "id": "t89Q6f5Uu8xN"
      },
      "outputs": [],
      "source": [
        "#Drop rows with text containing less than n=6 caracters\n",
        "#Shuffle remaining rows\n",
        "#Reset index\n",
        "df_train_clean = df_train_clean.drop(df_train_clean[df_train_clean['text'].map(lambda x: len(str(x)))<6].index).sample(random_state=42, frac=1.0).reset_index(drop=True)"
      ]
    },
    {
      "cell_type": "code",
      "execution_count": 29,
      "metadata": {
        "colab": {
          "base_uri": "https://localhost:8080/",
          "height": 424
        },
        "id": "V_7TxxETu8xN",
        "outputId": "c0cf5a7c-2c45-4eef-db17-5df9d77365f8"
      },
      "outputs": [
        {
          "data": {
            "text/html": [
              "<div>\n",
              "<style scoped>\n",
              "    .dataframe tbody tr th:only-of-type {\n",
              "        vertical-align: middle;\n",
              "    }\n",
              "\n",
              "    .dataframe tbody tr th {\n",
              "        vertical-align: top;\n",
              "    }\n",
              "\n",
              "    .dataframe thead th {\n",
              "        text-align: right;\n",
              "    }\n",
              "</style>\n",
              "<table border=\"1\" class=\"dataframe\">\n",
              "  <thead>\n",
              "    <tr style=\"text-align: right;\">\n",
              "      <th></th>\n",
              "      <th>tweet_ID</th>\n",
              "      <th>product</th>\n",
              "      <th>sentiment</th>\n",
              "      <th>text</th>\n",
              "    </tr>\n",
              "  </thead>\n",
              "  <tbody>\n",
              "    <tr>\n",
              "      <th>0</th>\n",
              "      <td>11922</td>\n",
              "      <td>Verizon</td>\n",
              "      <td>Neutral</td>\n",
              "      <td>The best Verizon Wireless plans in April 2020 ...</td>\n",
              "    </tr>\n",
              "    <tr>\n",
              "      <th>1</th>\n",
              "      <td>3343</td>\n",
              "      <td>Facebook</td>\n",
              "      <td>Neutral</td>\n",
              "      <td>It’s almost as and my Facebook heard me say I’...</td>\n",
              "    </tr>\n",
              "    <tr>\n",
              "      <th>2</th>\n",
              "      <td>5077</td>\n",
              "      <td>GrandTheftAuto(GTA)</td>\n",
              "      <td>Irrelevant</td>\n",
              "      <td>how fucking fucking ops think their gta for re...</td>\n",
              "    </tr>\n",
              "    <tr>\n",
              "      <th>3</th>\n",
              "      <td>6394</td>\n",
              "      <td>FIFA</td>\n",
              "      <td>Negative</td>\n",
              "      <td>Nah i acc don’t think Fifa has already pissed ...</td>\n",
              "    </tr>\n",
              "    <tr>\n",
              "      <th>4</th>\n",
              "      <td>5850</td>\n",
              "      <td>HomeDepot</td>\n",
              "      <td>Negative</td>\n",
              "      <td>I ’ 1 m screaming!</td>\n",
              "    </tr>\n",
              "    <tr>\n",
              "      <th>...</th>\n",
              "      <td>...</td>\n",
              "      <td>...</td>\n",
              "      <td>...</td>\n",
              "      <td>...</td>\n",
              "    </tr>\n",
              "    <tr>\n",
              "      <th>71885</th>\n",
              "      <td>5434</td>\n",
              "      <td>Hearthstone</td>\n",
              "      <td>Negative</td>\n",
              "      <td>I think the only thing I hate about this game ...</td>\n",
              "    </tr>\n",
              "    <tr>\n",
              "      <th>71886</th>\n",
              "      <td>318</td>\n",
              "      <td>Amazon</td>\n",
              "      <td>Neutral</td>\n",
              "      <td>Amazon Echo Studio review: Gorgeous Bass Meets...</td>\n",
              "    </tr>\n",
              "    <tr>\n",
              "      <th>71887</th>\n",
              "      <td>11389</td>\n",
              "      <td>TomClancysRainbowSix</td>\n",
              "      <td>Positive</td>\n",
              "      <td>Really need to get into playing @ Rainbow6Game...</td>\n",
              "    </tr>\n",
              "    <tr>\n",
              "      <th>71888</th>\n",
              "      <td>2557</td>\n",
              "      <td>Borderlands</td>\n",
              "      <td>Neutral</td>\n",
              "      <td>Unpopular Opinion: None of these games is good.</td>\n",
              "    </tr>\n",
              "    <tr>\n",
              "      <th>71889</th>\n",
              "      <td>9614</td>\n",
              "      <td>PlayStation5(PS5)</td>\n",
              "      <td>Positive</td>\n",
              "      <td>That bitch ’ s love</td>\n",
              "    </tr>\n",
              "  </tbody>\n",
              "</table>\n",
              "<p>71890 rows × 4 columns</p>\n",
              "</div>"
            ],
            "text/plain": [
              "       tweet_ID               product   sentiment  \\\n",
              "0         11922               Verizon     Neutral   \n",
              "1          3343              Facebook     Neutral   \n",
              "2          5077   GrandTheftAuto(GTA)  Irrelevant   \n",
              "3          6394                  FIFA    Negative   \n",
              "4          5850             HomeDepot    Negative   \n",
              "...         ...                   ...         ...   \n",
              "71885      5434           Hearthstone    Negative   \n",
              "71886       318                Amazon     Neutral   \n",
              "71887     11389  TomClancysRainbowSix    Positive   \n",
              "71888      2557           Borderlands     Neutral   \n",
              "71889      9614     PlayStation5(PS5)    Positive   \n",
              "\n",
              "                                                    text  \n",
              "0      The best Verizon Wireless plans in April 2020 ...  \n",
              "1      It’s almost as and my Facebook heard me say I’...  \n",
              "2      how fucking fucking ops think their gta for re...  \n",
              "3      Nah i acc don’t think Fifa has already pissed ...  \n",
              "4                                     I ’ 1 m screaming!  \n",
              "...                                                  ...  \n",
              "71885  I think the only thing I hate about this game ...  \n",
              "71886  Amazon Echo Studio review: Gorgeous Bass Meets...  \n",
              "71887  Really need to get into playing @ Rainbow6Game...  \n",
              "71888    Unpopular Opinion: None of these games is good.  \n",
              "71889                                That bitch ’ s love  \n",
              "\n",
              "[71890 rows x 4 columns]"
            ]
          },
          "execution_count": 29,
          "metadata": {},
          "output_type": "execute_result"
        }
      ],
      "source": [
        "df_train_clean"
      ]
    },
    {
      "cell_type": "code",
      "execution_count": 30,
      "metadata": {
        "id": "Klhf4vA9u8xN"
      },
      "outputs": [],
      "source": [
        "#To classify sentiment, a reasonable classifier should use only the tweet text as input. The output is the class (+, -, neutral, irrelevant)\n",
        "X_train, y_train = df_train_clean['text'].values, df_train_clean['sentiment'].values"
      ]
    },
    {
      "cell_type": "code",
      "execution_count": 31,
      "metadata": {
        "id": "Tc5FTS57u8xN"
      },
      "outputs": [],
      "source": [
        "#Label encoding for different classes\n",
        "from sklearn.preprocessing import LabelEncoder\n",
        "class_encoder = LabelEncoder()\n",
        "y_train = class_encoder.fit_transform(y_train)"
      ]
    },
    {
      "cell_type": "code",
      "execution_count": 32,
      "metadata": {
        "colab": {
          "base_uri": "https://localhost:8080/"
        },
        "id": "peOTgUs_u8xO",
        "outputId": "51a0f75b-afa7-4360-c57a-8b08524dbdf7"
      },
      "outputs": [
        {
          "data": {
            "text/plain": [
              "(array(['The best Verizon Wireless plans in April 2020 techfans.co.uk / the-best-veriz... https: / / t.co / fRnxzKECsV',\n",
              "        'It’s almost as and my Facebook heard me say I’m hungry and can’t grab anything during a power outage because every comment post was an ad for the kinda service.',\n",
              "        'how fucking fucking ops think their gta for real. They da were trying to steam roll hundreds of people. I have putting faith behind cops anymore. Fucking ridiculous',\n",
              "        ...,\n",
              "        'Really need to get into playing @ Rainbow6Game definitely gonna be more useful experience than @ DestinyTheGame for WWIII',\n",
              "        'Unpopular Opinion: None of these games is good.',\n",
              "        'That bitch ’ s love'], dtype=object),\n",
              " array([2, 2, 0, ..., 3, 2, 3]))"
            ]
          },
          "execution_count": 32,
          "metadata": {},
          "output_type": "execute_result"
        }
      ],
      "source": [
        "X_train, y_train"
      ]
    },
    {
      "cell_type": "markdown",
      "metadata": {
        "id": "PUZtDVK2u8xO"
      },
      "source": [
        "## Similar checks on the the validation set"
      ]
    },
    {
      "cell_type": "code",
      "execution_count": 33,
      "metadata": {
        "id": "Kjg2aCCQu8xO"
      },
      "outputs": [],
      "source": [
        "df = pd.read_csv('validation.csv', names= ['col1', 'col2', 'col3', 'col4'])"
      ]
    },
    {
      "cell_type": "code",
      "execution_count": 34,
      "metadata": {
        "colab": {
          "base_uri": "https://localhost:8080/",
          "height": 424
        },
        "id": "4e-TrO4gu8xO",
        "outputId": "afd27c98-c7ad-4fc0-eddd-bd0c727d5663"
      },
      "outputs": [
        {
          "data": {
            "text/html": [
              "<div>\n",
              "<style scoped>\n",
              "    .dataframe tbody tr th:only-of-type {\n",
              "        vertical-align: middle;\n",
              "    }\n",
              "\n",
              "    .dataframe tbody tr th {\n",
              "        vertical-align: top;\n",
              "    }\n",
              "\n",
              "    .dataframe thead th {\n",
              "        text-align: right;\n",
              "    }\n",
              "</style>\n",
              "<table border=\"1\" class=\"dataframe\">\n",
              "  <thead>\n",
              "    <tr style=\"text-align: right;\">\n",
              "      <th></th>\n",
              "      <th>col1</th>\n",
              "      <th>col2</th>\n",
              "      <th>col3</th>\n",
              "      <th>col4</th>\n",
              "    </tr>\n",
              "  </thead>\n",
              "  <tbody>\n",
              "    <tr>\n",
              "      <th>0</th>\n",
              "      <td>3364</td>\n",
              "      <td>Facebook</td>\n",
              "      <td>Irrelevant</td>\n",
              "      <td>I mentioned on Facebook that I was struggling ...</td>\n",
              "    </tr>\n",
              "    <tr>\n",
              "      <th>1</th>\n",
              "      <td>352</td>\n",
              "      <td>Amazon</td>\n",
              "      <td>Neutral</td>\n",
              "      <td>BBC News - Amazon boss Jeff Bezos rejects clai...</td>\n",
              "    </tr>\n",
              "    <tr>\n",
              "      <th>2</th>\n",
              "      <td>8312</td>\n",
              "      <td>Microsoft</td>\n",
              "      <td>Negative</td>\n",
              "      <td>@Microsoft Why do I pay for WORD when it funct...</td>\n",
              "    </tr>\n",
              "    <tr>\n",
              "      <th>3</th>\n",
              "      <td>4371</td>\n",
              "      <td>CS-GO</td>\n",
              "      <td>Negative</td>\n",
              "      <td>CSGO matchmaking is so full of closet hacking,...</td>\n",
              "    </tr>\n",
              "    <tr>\n",
              "      <th>4</th>\n",
              "      <td>4433</td>\n",
              "      <td>Google</td>\n",
              "      <td>Neutral</td>\n",
              "      <td>Now the President is slapping Americans in the...</td>\n",
              "    </tr>\n",
              "    <tr>\n",
              "      <th>...</th>\n",
              "      <td>...</td>\n",
              "      <td>...</td>\n",
              "      <td>...</td>\n",
              "      <td>...</td>\n",
              "    </tr>\n",
              "    <tr>\n",
              "      <th>995</th>\n",
              "      <td>4891</td>\n",
              "      <td>GrandTheftAuto(GTA)</td>\n",
              "      <td>Irrelevant</td>\n",
              "      <td>⭐️ Toronto is the arts and culture capital of ...</td>\n",
              "    </tr>\n",
              "    <tr>\n",
              "      <th>996</th>\n",
              "      <td>4359</td>\n",
              "      <td>CS-GO</td>\n",
              "      <td>Irrelevant</td>\n",
              "      <td>tHIS IS ACTUALLY A GOOD MOVE TOT BRING MORE VI...</td>\n",
              "    </tr>\n",
              "    <tr>\n",
              "      <th>997</th>\n",
              "      <td>2652</td>\n",
              "      <td>Borderlands</td>\n",
              "      <td>Positive</td>\n",
              "      <td>Today sucked so it’s time to drink wine n play...</td>\n",
              "    </tr>\n",
              "    <tr>\n",
              "      <th>998</th>\n",
              "      <td>8069</td>\n",
              "      <td>Microsoft</td>\n",
              "      <td>Positive</td>\n",
              "      <td>Bought a fraction of Microsoft today. Small wins.</td>\n",
              "    </tr>\n",
              "    <tr>\n",
              "      <th>999</th>\n",
              "      <td>6960</td>\n",
              "      <td>johnson&amp;johnson</td>\n",
              "      <td>Neutral</td>\n",
              "      <td>Johnson &amp; Johnson to stop selling talc baby po...</td>\n",
              "    </tr>\n",
              "  </tbody>\n",
              "</table>\n",
              "<p>1000 rows × 4 columns</p>\n",
              "</div>"
            ],
            "text/plain": [
              "     col1                 col2        col3  \\\n",
              "0    3364             Facebook  Irrelevant   \n",
              "1     352               Amazon     Neutral   \n",
              "2    8312            Microsoft    Negative   \n",
              "3    4371                CS-GO    Negative   \n",
              "4    4433               Google     Neutral   \n",
              "..    ...                  ...         ...   \n",
              "995  4891  GrandTheftAuto(GTA)  Irrelevant   \n",
              "996  4359                CS-GO  Irrelevant   \n",
              "997  2652          Borderlands    Positive   \n",
              "998  8069            Microsoft    Positive   \n",
              "999  6960      johnson&johnson     Neutral   \n",
              "\n",
              "                                                  col4  \n",
              "0    I mentioned on Facebook that I was struggling ...  \n",
              "1    BBC News - Amazon boss Jeff Bezos rejects clai...  \n",
              "2    @Microsoft Why do I pay for WORD when it funct...  \n",
              "3    CSGO matchmaking is so full of closet hacking,...  \n",
              "4    Now the President is slapping Americans in the...  \n",
              "..                                                 ...  \n",
              "995  ⭐️ Toronto is the arts and culture capital of ...  \n",
              "996  tHIS IS ACTUALLY A GOOD MOVE TOT BRING MORE VI...  \n",
              "997  Today sucked so it’s time to drink wine n play...  \n",
              "998  Bought a fraction of Microsoft today. Small wins.  \n",
              "999  Johnson & Johnson to stop selling talc baby po...  \n",
              "\n",
              "[1000 rows x 4 columns]"
            ]
          },
          "execution_count": 34,
          "metadata": {},
          "output_type": "execute_result"
        }
      ],
      "source": [
        "df"
      ]
    },
    {
      "cell_type": "code",
      "execution_count": 35,
      "metadata": {
        "colab": {
          "base_uri": "https://localhost:8080/"
        },
        "id": "5r9XHy7Mu8xP",
        "outputId": "f4251cc1-49e7-4bae-8fa7-461575c4c3fa"
      },
      "outputs": [
        {
          "data": {
            "text/plain": [
              "1000"
            ]
          },
          "execution_count": 35,
          "metadata": {},
          "output_type": "execute_result"
        }
      ],
      "source": [
        "len(df)"
      ]
    },
    {
      "cell_type": "code",
      "execution_count": 36,
      "metadata": {
        "colab": {
          "base_uri": "https://localhost:8080/",
          "height": 1000
        },
        "id": "MLerYbK7u8xP",
        "outputId": "4d0a6277-5d0e-4758-da45-9fc0bf7d6315"
      },
      "outputs": [
        {
          "data": {
            "text/html": [
              "<div>\n",
              "<style scoped>\n",
              "    .dataframe tbody tr th:only-of-type {\n",
              "        vertical-align: middle;\n",
              "    }\n",
              "\n",
              "    .dataframe tbody tr th {\n",
              "        vertical-align: top;\n",
              "    }\n",
              "\n",
              "    .dataframe thead th {\n",
              "        text-align: right;\n",
              "    }\n",
              "</style>\n",
              "<table border=\"1\" class=\"dataframe\">\n",
              "  <thead>\n",
              "    <tr style=\"text-align: right;\">\n",
              "      <th></th>\n",
              "      <th>col1</th>\n",
              "      <th>col2</th>\n",
              "      <th>col3</th>\n",
              "      <th>col4</th>\n",
              "    </tr>\n",
              "  </thead>\n",
              "  <tbody>\n",
              "    <tr>\n",
              "      <th>0</th>\n",
              "      <td>3364</td>\n",
              "      <td>Facebook</td>\n",
              "      <td>Irrelevant</td>\n",
              "      <td>I mentioned on Facebook that I was struggling ...</td>\n",
              "    </tr>\n",
              "    <tr>\n",
              "      <th>1</th>\n",
              "      <td>352</td>\n",
              "      <td>Amazon</td>\n",
              "      <td>Neutral</td>\n",
              "      <td>BBC News - Amazon boss Jeff Bezos rejects clai...</td>\n",
              "    </tr>\n",
              "    <tr>\n",
              "      <th>2</th>\n",
              "      <td>8312</td>\n",
              "      <td>Microsoft</td>\n",
              "      <td>Negative</td>\n",
              "      <td>@Microsoft Why do I pay for WORD when it funct...</td>\n",
              "    </tr>\n",
              "    <tr>\n",
              "      <th>3</th>\n",
              "      <td>4371</td>\n",
              "      <td>CS-GO</td>\n",
              "      <td>Negative</td>\n",
              "      <td>CSGO matchmaking is so full of closet hacking,...</td>\n",
              "    </tr>\n",
              "    <tr>\n",
              "      <th>4</th>\n",
              "      <td>4433</td>\n",
              "      <td>Google</td>\n",
              "      <td>Neutral</td>\n",
              "      <td>Now the President is slapping Americans in the...</td>\n",
              "    </tr>\n",
              "    <tr>\n",
              "      <th>5</th>\n",
              "      <td>6273</td>\n",
              "      <td>FIFA</td>\n",
              "      <td>Negative</td>\n",
              "      <td>Hi @EAHelp I’ve had Madeleine McCann in my cel...</td>\n",
              "    </tr>\n",
              "    <tr>\n",
              "      <th>6</th>\n",
              "      <td>7925</td>\n",
              "      <td>MaddenNFL</td>\n",
              "      <td>Positive</td>\n",
              "      <td>Thank you @EAMaddenNFL!! \\n\\nNew TE Austin Hoo...</td>\n",
              "    </tr>\n",
              "    <tr>\n",
              "      <th>7</th>\n",
              "      <td>11332</td>\n",
              "      <td>TomClancysRainbowSix</td>\n",
              "      <td>Positive</td>\n",
              "      <td>Rocket League, Sea of Thieves or Rainbow Six: ...</td>\n",
              "    </tr>\n",
              "    <tr>\n",
              "      <th>8</th>\n",
              "      <td>1107</td>\n",
              "      <td>AssassinsCreed</td>\n",
              "      <td>Positive</td>\n",
              "      <td>my ass still knee-deep in Assassins Creed Odys...</td>\n",
              "    </tr>\n",
              "    <tr>\n",
              "      <th>9</th>\n",
              "      <td>2069</td>\n",
              "      <td>CallOfDuty</td>\n",
              "      <td>Negative</td>\n",
              "      <td>FIX IT JESUS ! Please FIX IT ! What In the wor...</td>\n",
              "    </tr>\n",
              "    <tr>\n",
              "      <th>10</th>\n",
              "      <td>3185</td>\n",
              "      <td>Dota2</td>\n",
              "      <td>Positive</td>\n",
              "      <td>The professional dota 2 scene is fucking explo...</td>\n",
              "    </tr>\n",
              "    <tr>\n",
              "      <th>11</th>\n",
              "      <td>1172</td>\n",
              "      <td>AssassinsCreed</td>\n",
              "      <td>Positive</td>\n",
              "      <td>Itching to assassinate \\n\\n#TCCGif #AssassinsC...</td>\n",
              "    </tr>\n",
              "    <tr>\n",
              "      <th>12</th>\n",
              "      <td>11783</td>\n",
              "      <td>Verizon</td>\n",
              "      <td>Negative</td>\n",
              "      <td>@FredTJoseph hey fred, Comcast cut the cable a...</td>\n",
              "    </tr>\n",
              "    <tr>\n",
              "      <th>13</th>\n",
              "      <td>4286</td>\n",
              "      <td>CS-GO</td>\n",
              "      <td>Neutral</td>\n",
              "      <td>CSGO WIngman (Im Silver dont bully) twitch.tv/...</td>\n",
              "    </tr>\n",
              "    <tr>\n",
              "      <th>14</th>\n",
              "      <td>8431</td>\n",
              "      <td>NBA2K</td>\n",
              "      <td>Negative</td>\n",
              "      <td>@NBA2K game sucks... down by 2 with 38 seconds...</td>\n",
              "    </tr>\n",
              "    <tr>\n",
              "      <th>15</th>\n",
              "      <td>9135</td>\n",
              "      <td>Nvidia</td>\n",
              "      <td>Positive</td>\n",
              "      <td>Congrats to the NVIDIA NeMo team for the 1.0.0...</td>\n",
              "    </tr>\n",
              "    <tr>\n",
              "      <th>16</th>\n",
              "      <td>4822</td>\n",
              "      <td>GrandTheftAuto(GTA)</td>\n",
              "      <td>Positive</td>\n",
              "      <td>yeah and it’s fun</td>\n",
              "    </tr>\n",
              "    <tr>\n",
              "      <th>17</th>\n",
              "      <td>3068</td>\n",
              "      <td>Dota2</td>\n",
              "      <td>Negative</td>\n",
              "      <td>fuck my life 😆</td>\n",
              "    </tr>\n",
              "    <tr>\n",
              "      <th>18</th>\n",
              "      <td>10537</td>\n",
              "      <td>RedDeadRedemption(RDR)</td>\n",
              "      <td>Positive</td>\n",
              "      <td>happy birthday red dead redemption that shit c...</td>\n",
              "    </tr>\n",
              "    <tr>\n",
              "      <th>19</th>\n",
              "      <td>8056</td>\n",
              "      <td>Microsoft</td>\n",
              "      <td>Negative</td>\n",
              "      <td>What does that say about Microsoft hardware &amp; ...</td>\n",
              "    </tr>\n",
              "    <tr>\n",
              "      <th>20</th>\n",
              "      <td>2131</td>\n",
              "      <td>CallOfDuty</td>\n",
              "      <td>Negative</td>\n",
              "      <td>The new @CallofDuty for ps5 is 🔥🔥🔥🔥\\nOh God 😭😍</td>\n",
              "    </tr>\n",
              "    <tr>\n",
              "      <th>21</th>\n",
              "      <td>5450</td>\n",
              "      <td>Hearthstone</td>\n",
              "      <td>Neutral</td>\n",
              "      <td>Anyone that plays a bad luck albatross deck in...</td>\n",
              "    </tr>\n",
              "    <tr>\n",
              "      <th>22</th>\n",
              "      <td>2286</td>\n",
              "      <td>CallOfDuty</td>\n",
              "      <td>Irrelevant</td>\n",
              "      <td>Call of duty warzone (livestream) w/ subs #War...</td>\n",
              "    </tr>\n",
              "    <tr>\n",
              "      <th>23</th>\n",
              "      <td>4038</td>\n",
              "      <td>CS-GO</td>\n",
              "      <td>Negative</td>\n",
              "      <td>Finally played Rainbow Six Siege for the first...</td>\n",
              "    </tr>\n",
              "    <tr>\n",
              "      <th>24</th>\n",
              "      <td>526</td>\n",
              "      <td>ApexLegends</td>\n",
              "      <td>Neutral</td>\n",
              "      <td>Umm @PlayApex  when I died it said Bug This pi...</td>\n",
              "    </tr>\n",
              "    <tr>\n",
              "      <th>25</th>\n",
              "      <td>8977</td>\n",
              "      <td>Nvidia</td>\n",
              "      <td>Neutral</td>\n",
              "      <td>#gtc20 -  nice, motivational, and very accessi...</td>\n",
              "    </tr>\n",
              "    <tr>\n",
              "      <th>26</th>\n",
              "      <td>11995</td>\n",
              "      <td>Verizon</td>\n",
              "      <td>Negative</td>\n",
              "      <td>Yo! @Verizon just added a $120 'fee' to my acc...</td>\n",
              "    </tr>\n",
              "    <tr>\n",
              "      <th>27</th>\n",
              "      <td>9449</td>\n",
              "      <td>Overwatch</td>\n",
              "      <td>Irrelevant</td>\n",
              "      <td>They might not be the last team that has to ma...</td>\n",
              "    </tr>\n",
              "    <tr>\n",
              "      <th>28</th>\n",
              "      <td>10193</td>\n",
              "      <td>PlayerUnknownsBattlegrounds(PUBG)</td>\n",
              "      <td>Irrelevant</td>\n",
              "      <td>Best squad yet#pubg #pubgmobile #pubgkenya ins...</td>\n",
              "    </tr>\n",
              "    <tr>\n",
              "      <th>29</th>\n",
              "      <td>2419</td>\n",
              "      <td>Borderlands</td>\n",
              "      <td>Negative</td>\n",
              "      <td>@Borderlands how do I submit a complaint? Your...</td>\n",
              "    </tr>\n",
              "    <tr>\n",
              "      <th>30</th>\n",
              "      <td>8857</td>\n",
              "      <td>Nvidia</td>\n",
              "      <td>Positive</td>\n",
              "      <td>Watching NVIDIA position itself as not just a ...</td>\n",
              "    </tr>\n",
              "    <tr>\n",
              "      <th>31</th>\n",
              "      <td>9704</td>\n",
              "      <td>PlayStation5(PS5)</td>\n",
              "      <td>Positive</td>\n",
              "      <td>I don’t see how this looks like as Xbox contro...</td>\n",
              "    </tr>\n",
              "    <tr>\n",
              "      <th>32</th>\n",
              "      <td>7024</td>\n",
              "      <td>johnson&amp;johnson</td>\n",
              "      <td>Negative</td>\n",
              "      <td>Johnson &amp; Johnson, knowingly sold baby powder ...</td>\n",
              "    </tr>\n",
              "    <tr>\n",
              "      <th>33</th>\n",
              "      <td>8842</td>\n",
              "      <td>Nvidia</td>\n",
              "      <td>Positive</td>\n",
              "      <td>The things I would do for a @nvidia 3090... un...</td>\n",
              "    </tr>\n",
              "    <tr>\n",
              "      <th>34</th>\n",
              "      <td>6650</td>\n",
              "      <td>Fortnite</td>\n",
              "      <td>Negative</td>\n",
              "      <td>Fortnite is running like ass.. fps drops every...</td>\n",
              "    </tr>\n",
              "    <tr>\n",
              "      <th>35</th>\n",
              "      <td>2337</td>\n",
              "      <td>CallOfDuty</td>\n",
              "      <td>Neutral</td>\n",
              "      <td>Great play dude , what a good optic for the mk...</td>\n",
              "    </tr>\n",
              "    <tr>\n",
              "      <th>36</th>\n",
              "      <td>10589</td>\n",
              "      <td>RedDeadRedemption(RDR)</td>\n",
              "      <td>Neutral</td>\n",
              "      <td>I got the horses in the back #PS4live (Red Dea...</td>\n",
              "    </tr>\n",
              "    <tr>\n",
              "      <th>37</th>\n",
              "      <td>12997</td>\n",
              "      <td>Xbox(Xseries)</td>\n",
              "      <td>Irrelevant</td>\n",
              "      <td>This is a really disappointing move by Remedy....</td>\n",
              "    </tr>\n",
              "    <tr>\n",
              "      <th>38</th>\n",
              "      <td>807</td>\n",
              "      <td>AssassinsCreed</td>\n",
              "      <td>Positive</td>\n",
              "      <td>Just finished Assassins Creed Odyssey through ...</td>\n",
              "    </tr>\n",
              "    <tr>\n",
              "      <th>39</th>\n",
              "      <td>11229</td>\n",
              "      <td>TomClancysRainbowSix</td>\n",
              "      <td>Neutral</td>\n",
              "      <td>Solo Q and this freak is spinning as fast as h...</td>\n",
              "    </tr>\n",
              "    <tr>\n",
              "      <th>40</th>\n",
              "      <td>2366</td>\n",
              "      <td>CallOfDuty</td>\n",
              "      <td>Positive</td>\n",
              "      <td>Our eldest has spent so long playing this new ...</td>\n",
              "    </tr>\n",
              "    <tr>\n",
              "      <th>41</th>\n",
              "      <td>9268</td>\n",
              "      <td>Overwatch</td>\n",
              "      <td>Neutral</td>\n",
              "      <td>//The Corruption and Knocking up of Overwatch ...</td>\n",
              "    </tr>\n",
              "    <tr>\n",
              "      <th>42</th>\n",
              "      <td>2216</td>\n",
              "      <td>CallOfDuty</td>\n",
              "      <td>Neutral</td>\n",
              "      <td>@PlayCODMobile @M2Games2 i love the call of du...</td>\n",
              "    </tr>\n",
              "    <tr>\n",
              "      <th>43</th>\n",
              "      <td>316</td>\n",
              "      <td>Amazon</td>\n",
              "      <td>Neutral</td>\n",
              "      <td>Amazon stops accepting new online grocery cust...</td>\n",
              "    </tr>\n",
              "    <tr>\n",
              "      <th>44</th>\n",
              "      <td>1985</td>\n",
              "      <td>CallOfDutyBlackopsColdWar</td>\n",
              "      <td>Positive</td>\n",
              "      <td>Not gonna lie that Black Ops cold war trailer ...</td>\n",
              "    </tr>\n",
              "    <tr>\n",
              "      <th>45</th>\n",
              "      <td>11378</td>\n",
              "      <td>TomClancysRainbowSix</td>\n",
              "      <td>Neutral</td>\n",
              "      <td>MELUSI 4k are you shocked! @Justhoneybadger @s...</td>\n",
              "    </tr>\n",
              "    <tr>\n",
              "      <th>46</th>\n",
              "      <td>5207</td>\n",
              "      <td>Hearthstone</td>\n",
              "      <td>Negative</td>\n",
              "      <td>Never popped the ice block #Hearthstone pic.tw...</td>\n",
              "    </tr>\n",
              "    <tr>\n",
              "      <th>47</th>\n",
              "      <td>7048</td>\n",
              "      <td>johnson&amp;johnson</td>\n",
              "      <td>Negative</td>\n",
              "      <td>You mean the same Johnson &amp; Johnson that suppr...</td>\n",
              "    </tr>\n",
              "    <tr>\n",
              "      <th>48</th>\n",
              "      <td>2274</td>\n",
              "      <td>CallOfDuty</td>\n",
              "      <td>Negative</td>\n",
              "      <td>I’m addicted to call of duty mobile😅</td>\n",
              "    </tr>\n",
              "    <tr>\n",
              "      <th>49</th>\n",
              "      <td>13197</td>\n",
              "      <td>Xbox(Xseries)</td>\n",
              "      <td>Neutral</td>\n",
              "      <td>This could go very well...or horribly wrong.</td>\n",
              "    </tr>\n",
              "  </tbody>\n",
              "</table>\n",
              "</div>"
            ],
            "text/plain": [
              "     col1                               col2        col3  \\\n",
              "0    3364                           Facebook  Irrelevant   \n",
              "1     352                             Amazon     Neutral   \n",
              "2    8312                          Microsoft    Negative   \n",
              "3    4371                              CS-GO    Negative   \n",
              "4    4433                             Google     Neutral   \n",
              "5    6273                               FIFA    Negative   \n",
              "6    7925                          MaddenNFL    Positive   \n",
              "7   11332               TomClancysRainbowSix    Positive   \n",
              "8    1107                     AssassinsCreed    Positive   \n",
              "9    2069                         CallOfDuty    Negative   \n",
              "10   3185                              Dota2    Positive   \n",
              "11   1172                     AssassinsCreed    Positive   \n",
              "12  11783                            Verizon    Negative   \n",
              "13   4286                              CS-GO     Neutral   \n",
              "14   8431                              NBA2K    Negative   \n",
              "15   9135                             Nvidia    Positive   \n",
              "16   4822                GrandTheftAuto(GTA)    Positive   \n",
              "17   3068                              Dota2    Negative   \n",
              "18  10537             RedDeadRedemption(RDR)    Positive   \n",
              "19   8056                          Microsoft    Negative   \n",
              "20   2131                         CallOfDuty    Negative   \n",
              "21   5450                        Hearthstone     Neutral   \n",
              "22   2286                         CallOfDuty  Irrelevant   \n",
              "23   4038                              CS-GO    Negative   \n",
              "24    526                        ApexLegends     Neutral   \n",
              "25   8977                             Nvidia     Neutral   \n",
              "26  11995                            Verizon    Negative   \n",
              "27   9449                          Overwatch  Irrelevant   \n",
              "28  10193  PlayerUnknownsBattlegrounds(PUBG)  Irrelevant   \n",
              "29   2419                        Borderlands    Negative   \n",
              "30   8857                             Nvidia    Positive   \n",
              "31   9704                  PlayStation5(PS5)    Positive   \n",
              "32   7024                    johnson&johnson    Negative   \n",
              "33   8842                             Nvidia    Positive   \n",
              "34   6650                           Fortnite    Negative   \n",
              "35   2337                         CallOfDuty     Neutral   \n",
              "36  10589             RedDeadRedemption(RDR)     Neutral   \n",
              "37  12997                      Xbox(Xseries)  Irrelevant   \n",
              "38    807                     AssassinsCreed    Positive   \n",
              "39  11229               TomClancysRainbowSix     Neutral   \n",
              "40   2366                         CallOfDuty    Positive   \n",
              "41   9268                          Overwatch     Neutral   \n",
              "42   2216                         CallOfDuty     Neutral   \n",
              "43    316                             Amazon     Neutral   \n",
              "44   1985          CallOfDutyBlackopsColdWar    Positive   \n",
              "45  11378               TomClancysRainbowSix     Neutral   \n",
              "46   5207                        Hearthstone    Negative   \n",
              "47   7048                    johnson&johnson    Negative   \n",
              "48   2274                         CallOfDuty    Negative   \n",
              "49  13197                      Xbox(Xseries)     Neutral   \n",
              "\n",
              "                                                 col4  \n",
              "0   I mentioned on Facebook that I was struggling ...  \n",
              "1   BBC News - Amazon boss Jeff Bezos rejects clai...  \n",
              "2   @Microsoft Why do I pay for WORD when it funct...  \n",
              "3   CSGO matchmaking is so full of closet hacking,...  \n",
              "4   Now the President is slapping Americans in the...  \n",
              "5   Hi @EAHelp I’ve had Madeleine McCann in my cel...  \n",
              "6   Thank you @EAMaddenNFL!! \\n\\nNew TE Austin Hoo...  \n",
              "7   Rocket League, Sea of Thieves or Rainbow Six: ...  \n",
              "8   my ass still knee-deep in Assassins Creed Odys...  \n",
              "9   FIX IT JESUS ! Please FIX IT ! What In the wor...  \n",
              "10  The professional dota 2 scene is fucking explo...  \n",
              "11  Itching to assassinate \\n\\n#TCCGif #AssassinsC...  \n",
              "12  @FredTJoseph hey fred, Comcast cut the cable a...  \n",
              "13  CSGO WIngman (Im Silver dont bully) twitch.tv/...  \n",
              "14  @NBA2K game sucks... down by 2 with 38 seconds...  \n",
              "15  Congrats to the NVIDIA NeMo team for the 1.0.0...  \n",
              "16                                  yeah and it’s fun  \n",
              "17                                     fuck my life 😆  \n",
              "18  happy birthday red dead redemption that shit c...  \n",
              "19  What does that say about Microsoft hardware & ...  \n",
              "20     The new @CallofDuty for ps5 is 🔥🔥🔥🔥\\nOh God 😭😍  \n",
              "21  Anyone that plays a bad luck albatross deck in...  \n",
              "22  Call of duty warzone (livestream) w/ subs #War...  \n",
              "23  Finally played Rainbow Six Siege for the first...  \n",
              "24  Umm @PlayApex  when I died it said Bug This pi...  \n",
              "25  #gtc20 -  nice, motivational, and very accessi...  \n",
              "26  Yo! @Verizon just added a $120 'fee' to my acc...  \n",
              "27  They might not be the last team that has to ma...  \n",
              "28  Best squad yet#pubg #pubgmobile #pubgkenya ins...  \n",
              "29  @Borderlands how do I submit a complaint? Your...  \n",
              "30  Watching NVIDIA position itself as not just a ...  \n",
              "31  I don’t see how this looks like as Xbox contro...  \n",
              "32  Johnson & Johnson, knowingly sold baby powder ...  \n",
              "33  The things I would do for a @nvidia 3090... un...  \n",
              "34  Fortnite is running like ass.. fps drops every...  \n",
              "35  Great play dude , what a good optic for the mk...  \n",
              "36  I got the horses in the back #PS4live (Red Dea...  \n",
              "37  This is a really disappointing move by Remedy....  \n",
              "38  Just finished Assassins Creed Odyssey through ...  \n",
              "39  Solo Q and this freak is spinning as fast as h...  \n",
              "40  Our eldest has spent so long playing this new ...  \n",
              "41  //The Corruption and Knocking up of Overwatch ...  \n",
              "42  @PlayCODMobile @M2Games2 i love the call of du...  \n",
              "43  Amazon stops accepting new online grocery cust...  \n",
              "44  Not gonna lie that Black Ops cold war trailer ...  \n",
              "45  MELUSI 4k are you shocked! @Justhoneybadger @s...  \n",
              "46  Never popped the ice block #Hearthstone pic.tw...  \n",
              "47  You mean the same Johnson & Johnson that suppr...  \n",
              "48               I’m addicted to call of duty mobile😅  \n",
              "49       This could go very well...or horribly wrong.  "
            ]
          },
          "execution_count": 36,
          "metadata": {},
          "output_type": "execute_result"
        }
      ],
      "source": [
        "df.iloc[0:50]"
      ]
    },
    {
      "cell_type": "code",
      "execution_count": 37,
      "metadata": {
        "colab": {
          "base_uri": "https://localhost:8080/"
        },
        "id": "DyfcKh8Cu8xP",
        "outputId": "e7466bd5-39f6-4ec1-c3ab-7ceb0810d3ae"
      },
      "outputs": [
        {
          "data": {
            "text/plain": [
              "1000"
            ]
          },
          "execution_count": 37,
          "metadata": {},
          "output_type": "execute_result"
        }
      ],
      "source": [
        "df['col1'].nunique() #Here there is no data augmentation, which makes sense because we don't need it in validation."
      ]
    },
    {
      "cell_type": "code",
      "execution_count": 38,
      "metadata": {
        "colab": {
          "base_uri": "https://localhost:8080/",
          "height": 241
        },
        "id": "xB8WdBDeu8xP",
        "outputId": "d45f7f75-2201-492e-ce92-7c676a847473"
      },
      "outputs": [
        {
          "data": {
            "text/plain": [
              "col3\n",
              "Neutral       285\n",
              "Positive      277\n",
              "Negative      266\n",
              "Irrelevant    172\n",
              "Name: count, dtype: int64"
            ]
          },
          "execution_count": 38,
          "metadata": {},
          "output_type": "execute_result"
        }
      ],
      "source": [
        "#Classes present in the validation set\n",
        "df['col3'].value_counts() #Also more or less balanced"
      ]
    },
    {
      "cell_type": "code",
      "execution_count": 39,
      "metadata": {
        "colab": {
          "base_uri": "https://localhost:8080/",
          "height": 335
        },
        "id": "G2FBzqyHu8xP",
        "outputId": "c48ad667-87c0-4ce0-8a99-eeafcc547908"
      },
      "outputs": [
        {
          "data": {
            "text/plain": [
              "count    1000.000000\n",
              "mean      131.849000\n",
              "std        81.925429\n",
              "min         3.000000\n",
              "25%        67.750000\n",
              "50%       114.000000\n",
              "75%       190.250000\n",
              "max       340.000000\n",
              "Name: col4, dtype: float64"
            ]
          },
          "execution_count": 39,
          "metadata": {},
          "output_type": "execute_result"
        }
      ],
      "source": [
        "df['col4'].map(lambda x: len(str(x))).describe() #Number of caracters is more reasonable: starting from 3."
      ]
    },
    {
      "cell_type": "code",
      "execution_count": 40,
      "metadata": {
        "colab": {
          "base_uri": "https://localhost:8080/",
          "height": 304
        },
        "id": "FxGbbWYQu8xQ",
        "outputId": "b8a3a9a3-72aa-408d-de88-ecb3dbbe6605"
      },
      "outputs": [
        {
          "data": {
            "text/plain": [
              "col4\n",
              "Wow      2\n",
              "WTF      1\n",
              "Damn     1\n",
              "Smh      1\n",
              "Wow..    1\n",
              "wtf      1\n",
              "Name: count, dtype: int64"
            ]
          },
          "execution_count": 40,
          "metadata": {},
          "output_type": "execute_result"
        }
      ],
      "source": [
        "df[df['col4'].map(lambda x: len(str(x)))<6]['col4'].map(str).value_counts() #Almost all texts with few caracters contain clear meaning and could be assigned to a class."
      ]
    },
    {
      "cell_type": "markdown",
      "metadata": {
        "id": "DEDTygZCu8xQ"
      },
      "source": [
        "## Creating the validation dataset"
      ]
    },
    {
      "cell_type": "code",
      "execution_count": 41,
      "metadata": {
        "id": "pM_Qo_tnu8xQ"
      },
      "outputs": [],
      "source": [
        "df_val_clean = pd.read_csv('validation.csv', names= ['tweet_ID', 'product', 'sentiment', 'text'])\n",
        "df_val_clean = df_val_clean.sample(random_state=42, frac=1.0).reset_index(drop=True)\n",
        "X_val, y_val = df_val_clean['text'].values, class_encoder.transform(df_val_clean['sentiment'].values) #Add label encoding transformation"
      ]
    },
    {
      "cell_type": "code",
      "execution_count": 42,
      "metadata": {
        "colab": {
          "base_uri": "https://localhost:8080/"
        },
        "id": "H5MOtANku8xQ",
        "outputId": "6c6774f4-2e22-4df3-bf83-73afb95d418b"
      },
      "outputs": [
        {
          "data": {
            "text/plain": [
              "(1000, 1000)"
            ]
          },
          "execution_count": 42,
          "metadata": {},
          "output_type": "execute_result"
        }
      ],
      "source": [
        "len(X_val), len(y_val)"
      ]
    },
    {
      "cell_type": "code",
      "execution_count": 43,
      "metadata": {
        "colab": {
          "base_uri": "https://localhost:8080/"
        },
        "id": "mwjkwjkCu8xQ",
        "outputId": "1764ae2e-1e61-4db8-a876-17f7bdd9f9ae"
      },
      "outputs": [
        {
          "data": {
            "text/plain": [
              "(array(['Remote working and an increase in cloud-based data is spurring cyber-attacks: Today sees the publication of the Verizon Business 2020 Data Breach Investigations Report which shows that network security is even more important\\xa0... dlvr.it/RX3fdK EXETLOS',\n",
              "        'I actually quite like the design of the ps5. It truly feels like the next generation of a console rather than just being a bulkier box with more power',\n",
              "        'New York charges Johnson & Johnson with insurance fraud over opioid claims\\n\\npageone.ng/2020/09/17/new…\\n\\n$JNJ',\n",
              "        'Chris loves me in borderlands one and two.',\n",
              "        'Check out my video! #LeagueofLegends | Captured by #Outplayed #2020alienwaregames pic.twitter.com/X6kqEW08hw',\n",
              "        'Amazing deal for you!\\n\\nLenovo Legion Y540 9th Gen Intel Core i5 15.6 inch FHD Gaming Laptop (8GB/512GB SSD/NVIDIA GTX 1650 4GB Graphics/Windows 10/Black/2.3Kg),81SY00CKIN for just Rs. 69990.0 from Amazon\\n\\nShop Now!\\nekaro.in/enkr2020091846… https://t.co/wG6Qt6d7fs',\n",
              "        '[PS4] | Assassins Creed Syndicate First Playthrough | Positive Vibes | Road To 800 Followers | live at twitch.tv/xklausmikaelso…',\n",
              "        '@EAMaddenNFL servers down?',\n",
              "        '@SpeakerPelosi this is VERY INTERESTING 🧐',\n",
              "        \"So good I had to share! Check out all the items I'm loving on @Poshmarkapp from @ShopAngryKitty #poshmark #fashion #style #shopmycloset #pier1 #leagueoflegends: posh.mk/7ZpkTUiSf9 https://t.co/pPGBdxFVm6\",\n",
              "        \"April 30 until now, for no apparent reason, BL3 just can't connect to SHiFT at all. What's going on here? I've submitted a ticket 2 days ago to Gearbox but still no respond. Please help. @Borderlands @SHiFTstatus @GearboxOfficial\",\n",
              "        'oooooh shit i think my motherboard is already compatible',\n",
              "        \"Wtf does he think he's living in GTA or something\",\n",
              "        \"surprise i still love #borderlands ' jack pic.twitter.com/hAuwN4M4pS\",\n",
              "        'No i like u motherfucker now kiss me',\n",
              "        \"Donald Trump Jr. - China Lied, People Died: Inside China's Death Labs | Facebook facebook.com/DonaldJTrumpJr…\",\n",
              "        'Pissing people off in FIFA and on twitter 😭😭😭',\n",
              "        'Zombies. Calling it now. 2020 aint over fucking us',\n",
              "        'Making crappy @Immortals til treasure 3 day 1 redd.it/itorke #dota2 https://t.co/BF3iRrkfzB',\n",
              "        'BITCH ASS LEGEND VIP’D MY LITTLE BROTHER ON OUR 2 GAME WIN STREAK SMFH @Ronnie2K @NBA2K pic.twitter.com/GdS3KN9jVj',\n",
              "        'It may look like a WiFi router but design wise it looks better than the Xbox series X. I think it’s unique and slick. I like it imo. You’re lucky that you haven’t gone bald yet 😈',\n",
              "        'West had a bit of hope for a good playoff finish but it’s slowly dying with @G2esports getting worse with every game. At least NA is getting a few wins )\\n#LeagueOfLegends #Worlds2020 #lolesports #LCS #LEC',\n",
              "        'Switzerland opens criminal case against FIFA boss\\xa0Infantino scooplive.org/switzerland-op…',\n",
              "        'Today has been the most fun I’ve had watching and interacting with Overwatch League in a long time.',\n",
              "        'Team JerseyBoys is now also represented on Twitch.\\n\\nWelcome @chucky_CSGO  \\n\\nOur chef of confidence, will offer you content from various games like World Of Warcraft, CS:GO or Valorant on Twitch. \\n\\nClick here for the Twitch Channel: tinyurl.com/y5gm9h74\\n\\n#jerseyboys #twitch https://t.co/OwimJcs4uJ',\n",
              "        \"@AndroidDev I've just noticed an issue while upgrading Android Gradle Plugin from 3.5.0 to 3.6.3, the google compile-testing library is crashing when retrieving resources.\\n\\nAn example and more details are available there:\\ngithub.com/glureau/AGP_3_…\\n\\nIs it something new?\",\n",
              "        \"@GhostRecon @GhostRecon_UK Your PvP server doesn't work... Nobody can connect. And pls delete the scope for drones. They're useless und block syringes...\\n#Bugpoint #Brokenpoint pic.twitter.com/QkTNee6DVZ\",\n",
              "        'This looks like a poster for a 90s action movie and I love every damn bit of it',\n",
              "        '#ProtectorCup #Hearthstone\\n\\nThe Protector Cup #1 is over!\\nHere are your top 3:\\n\\n🥇@Sergio932HS\\n🥈@spectro_cs\\n🥉@cristianhs30\\n\\nThanks @caturix_tribe for providing us with these amazing prizes and we will see you soon with the Protector Cup #2!\\n\\nGGs to everyone that participated! pic.twitter.com/xaPIPRHoFI',\n",
              "        'BTC scammers breach Twitter accounts of Bill Gates, Obama, Google, Apple, Uber dlvr.it/Rbkcdk',\n",
              "        \"we've been crushing CS:GO over at @windailysports ! Congrats @jack94024127 💪🏻\",\n",
              "        '“git gud 5head” -sniping community, probably',\n",
              "        '#QuizTimeMoringsWithAmazon I played this interesting quiz on Amazon - Try your luck for a chance to win exciting rewards amazon.in/game/share/gRE…',\n",
              "        '1.7 million viewers? wtf? and cs:go has more than minecraft and fortnite? seriously pic.twitter.com/NsBHo8i85Z',\n",
              "        'Delivered by our own in-house team, Microsoft Dynamics 365 enhances productivity and increases agility so your organisation can adapt quickly to change.\\n\\nGet in touch today to find out more: razorblue.com/contact-us/ https://t.co/TTN9jmgAaj',\n",
              "        '@NBA2K @2KSupport @LD2K @Beluba  can y’all please fix this !!! pic.twitter.com/yTZ3HA6Xtf',\n",
              "        'enough of this DLC Bullshit just give us a new Splinter Cell Video Game 🤦🏾\\u200d♂️🤦🏾\\u200d♂️',\n",
              "        'I tried to do some of purple invasion stuff tonight but it just turned me into the Sha of Anger. 🤬 So I did mog dungeon runs instead which included a sort of family reunion. 🐉 #bloodelf #hunter #Warcraft #worldofwarcraft #gamer #gaming #gamergirl #screenshot pic.twitter.com/yFoG2NkjTD',\n",
              "        '[Dirty-Gaming] GTA RP !  JJ on Tour, hat eine Villa < 3 twitch.tv/p0werflyyy',\n",
              "        \"Ok I'm blocking this man's he is on a new level of being\",\n",
              "        \":c we are going to miss you in league of legends , but I'm happy for you, I wish best things for you 🥰\",\n",
              "        '@verizon Can you waive some data overage charges? Been tough for folks out here.',\n",
              "        'League of Legends taught me to come to terms with my own disappointing third novel',\n",
              "        '#Amazon Best Seller!\\n\\nScreen Cleaner Kit - Best for LED & LCD TV,...\\n\\n$19.95\\n\\namazon.com/Screen-Cleaner… https://t.co/mrUD2zbLfT',\n",
              "        '@NBA2K you guys gotta fix the shooting bugs bc EVERYTIME I green people are kicked out . My green animation flickers like crazy before also kicking me out , my stats in park are garbage bc of it',\n",
              "        \"Trust in Technology is Important !\\n@satyanadella at #MSInspire \\nI Love the Boomerang in the Background 😍 #MVPBuzz is Sharing Technology Again and Again with New Features ! It's like a Boomerang with the Community and Microsoft 🚀 pic.twitter.com/sUnTR07x5y\",\n",
              "        'Woohoooo Next #ApexLegends comic is out !!! These are getting so juicy !!! \\n\\nyoutu.be/RtEUnyYvjU0 https://t.co/h8humm5KF9',\n",
              "        \"Morning~!!\\nI'm split on playing PSO2 or Borderlands 3 for todays stream. 🤔\\nEither way a stream today is happening and I'm excited to hang out nonetheless!!\\nHope your weekend was well. 💚 :3 pic.twitter.com/X0CrvuK8Pq\",\n",
              "        'A ban for Battlefield 4 player YourDaddyyyyyy has occurred SEE DETAILS: bf4db.com/player/ban/363…',\n",
              "        'This comes as Facebook faces major criticism for its inaction over rampant hate and harassment on the platform.\\n\\n#facebook #markzugerberg #unilever #honda #verizon #cocacola #levistrauss #globalbrands #facebookads #advertisement #advertising #instagram #instagramads #criticism pic.twitter.com/NX77j7ycB5',\n",
              "        \"#NFLdropEA to ea from me your game is horrible the franchise mode is horrible mut is just a way for children to gamble with there mom's credit card face of the franchise is cheese and horrible and to this point I'd rather play a fan game than madden NFL please drop EA\",\n",
              "        'Would love one @EASPORTS_MUT',\n",
              "        '@PlayApex I have problems to buy the battlepass with the new patch',\n",
              "        'Trippy #GhostReconBreakpoint\\n\\nstore.playstation.com/#!/en-us/tid=C… https://t.co/iohsLhVTYd',\n",
              "        'Finally played Rainbow Six Siege for the first time... I have to admit, I prefer it over pulling my hair out in CSGO any day.',\n",
              "        'Watching NVIDIA position itself as not just a leading hardware manufacturer but also providing meaningful software to consumers is a remarkable thing of beauty. What an incredibly lead company with clear focus and goals. Well done @nvidia.',\n",
              "        'happy birthday fortnite',\n",
              "        'The professional dota 2 scene is fucking exploding and I completely welcome it.\\n\\nGet the garbage out.',\n",
              "        '@RockstarGames how the hell is gta online STILL this fucking broken???',\n",
              "        'Our Chinese #overwatch fans will be sad to learn that the matches in China during February and March and being rescheduled. pic.twitter.com/HvaTCPiEOv',\n",
              "        'lol i was looking for something to listen to that was upbeat for 1998 and the first recommendation was my heart will go on, nice job google',\n",
              "        '@BeverlyCitizen Ronald Bellanti is a resident of Beverly, MA and works for Ground Control, an organization he founded as a drunk driving prevention campaign. He took to Facebook to express deplorably racist and violent views. Please help expose him! pic.twitter.com/78RitUkeM2',\n",
              "        'this game looks insane wtf',\n",
              "        'This is dope! Puff is such a great kid.',\n",
              "        'Gaming is my hobby and I love it like and follow if your in to Th a same #gamers #gamerguy #RainbowSixSiege #adictition #addiction #gamestar pic.twitter.com/TnPZYm9PVD',\n",
              "        'A bullshit excuse by Apple. The real answer is because they can’t get the 30% cut of Microsoft’s subscription.',\n",
              "        'Congratulations to our client, Diego Scotti, CMO of @Verizon, on being named an @Adweek Brand Genius. pic.twitter.com/kilCPassn6',\n",
              "        '#RainbowSixSiege where are hereford, plane, chalet and fortress in casual?! I miss the maps!!!',\n",
              "        'This is how much I enjoy #ghostreconbreakpoint and #division2 I love the lore of both titles. #gaming #gamebooks instagram.com/p/B9feINlnn1U/…',\n",
              "        'I’m not gonna spend any more money on #apexlegends until they fix there shit it’s in a worse state then fortnite rn it’s dumb',\n",
              "        'Interesting... (for real, this is really awesome looking!)',\n",
              "        'FIFA 21 soars to the top of the charts this week, with 3.6 million players already in-game in the first 24 hours 🤯\\n\\nNintendo takes five spots in the top 10 and STAR WARS: SQUADRONS holds on to number 2 for the second week in a row bit.ly/3jMUwq2 https://t.co/bWi1uBMAwH',\n",
              "        '.@wandakunpls @Sirhaian Can I just say how fucking much I love Videogames at this point ? I mean its soo insane how @LeagueOfLegends just posts one picture of something we dont really know what it is and now we are trying to understand it and picking the pieces together :D',\n",
              "        'Update: I did not do this\\n\\nI played battlefield 4 instead. Which was a mistake.',\n",
              "        '2.5gbit is SERIOUSLY Threatening NVIDIA Super Review',\n",
              "        'Love GTA San Andreas and red death redemption, also I still have my old ps3 slim, I would love to get this please.',\n",
              "        \"I can't believe that @realDonaldTrump lied.\",\n",
              "        'Solo Q and this freak is spinning as fast as he can to lower the FPS. \\nI thought they took this bs out\\n\\n@Rainbow6Game https://t.co/mlvHMu4qeZ',\n",
              "        \"Hi @FortniteGame \\n\\nI get that you wont remove SBMM in pub games, that's okay. \\n\\nBut WHY THE FUCK do you insist on putting absolute shitters on my team?? \\n\\nWtf.\",\n",
              "        'best of luck !',\n",
              "        'You have no idea how ready I am for this. Give me Twisted Fate! #LegendsOfRuneterra #LeagueOfLegends',\n",
              "        \"@RoboDanjal any chance I could get a list of the maps for the new PUBG TDM?  I can't seem to find a good list anywhere.\",\n",
              "        '‘Skunkworks’ at Johnson & Johnson is rushing to develop a coronavirus vaccine inquirer.com/business/drugs… via @phillyinquirer',\n",
              "        'Sound ON! Enjoy the groove and this little montage I made in tribute to the Desert Eagle, the most powerful, badass, secondary weapon. Ever. #CallofDuty #ModernWarfare #Xbox @JoeCecot @ArtPeasant @Drift0r https://t.co/WookTjkBmZ',\n",
              "        'Its normal people hate Overwatch, becouse the comunnity is so toxic.\\n\\n\"Yo, no one have mic\"\\n2seconds later\\n\"YOU ARE TRASH OMFG, GO TO BED, UNISTALL THE GAME\"\\n\\nFor that you want the people on the voice chat. xD',\n",
              "        'The fact that Chris Godwin isn’t even the highest rated WR from Penn State is an absolute travesty',\n",
              "        'Bought a fraction of Microsoft today. Small wins.',\n",
              "        'Verizon has joined a growing advertising boycott of Facebook over the social network’s handling of hate speech and decision to allow several contentious posts from Donald Trump to remain on its platform\\xa0 ft.com/content/5e9624…',\n",
              "        'my dick is microsoft',\n",
              "        'Say hello to Sasha Hostyn aka Scarlett, the current highest-earning female eSports player in the world!\\nShe hails from Canada and built her amazing career playing Starcraft 2 and Dota 2.\\nMuch respect to this amazing woman and role model!\\xa0\\xa0\\n@onfireScarlett pic.twitter.com/DM71V11ctY',\n",
              "        \"Un-popular opinion Fortnite is kind of the best game i've ever played. I'ts almost like it was thought up by a person who lives alone.\",\n",
              "        'a bit late but I finally got master tier on my best hero redd.it/j4otzm #dota2 https://t.co/sJKembe0no',\n",
              "        'sometimes the melee just doesn’t wanna go for some reason, i swear i have had so many times where i’m like circling the guy and i just don’t get a CQC melee to initiate 😐😂 #GhostReconBreakpoint #HappyMothersDay  youtu.be/ec6G6_5tsKs https://t.co/89cye39LkR',\n",
              "        'Wow',\n",
              "        'just lost a game of league of legends bc my pc just restarted without even asking it, kanker windows',\n",
              "        'Its live time with more overwatch shenanigans yall gunna bullshit around and rage at the game lol see ya there! Theta.tv/spazzxattack',\n",
              "        'Atleast I have Borderlands to cheer me up :(',\n",
              "        'I miss when Hearthstone was simpler',\n",
              "        'Everyone know the story of true life-long friendship, but not everyone knows how big chunk of your life is missing when those ends for some reason. Big THANKS @Marykhln for filling that void with great vibes and conversations.',\n",
              "        \"Another successful stream last night full of laughs & fun while counting down to @CallofDuty COLD WAR ALPHA!! HUGE thanks to all our new subscribers & everyone for the generous donations!! Back at it again this Sunday, don't miss out!! #CallOfDutyBlackOpsColdWar #BlackOpsColdWar pic.twitter.com/yxNVyvwPNl\",\n",
              "        'An easy contest for a chance to win an art book of BF:V. Just fill out the google doc for a chance to win!',\n",
              "        \"@Pinkwardlol so mad you lost that game of CSGO you banned me from your Twitch i'm weakkk\",\n",
              "        '@HomeDepot   Your customer service is atrocious. @RIDGIDPower @RIDGIDtoday impact driver not fixed after 3 weeks. Being given the run around on LSA service agreement. Even w documentation in hand.  #HomeDepot #Ridgidtoday',\n",
              "        \"Damn! Microsoft is going all out in showing off the new Xbox Series X while Sony hasn't made a peep theverge.com/2020/3/16/2115…\\n\\nAs a PlayStation guy, this thing sounds like a screamer.\",\n",
              "        '@PUBGMOBILE \\n ा  #Cheaters #PUBGMOBILE \\nBan this random playre his killed me and my clan teammate  .... I report pubg mobile in game plese strict action against cheater .... pic.twitter.com/CpYYO6kCBZ',\n",
              "        '°_° *Gets bad flashback in movie theater*\\n\\n:) *Realize the Witcher was actually good*',\n",
              "        \"I can get on the phone with @Verizon but I can't get on the phone with @MD_Labor you have to be kidding me pic.twitter.com/AKEm9uWZ2q\",\n",
              "        'More beautiful than most girls i know.. #PS5Reveal #PlayStation5 #PS5 pic.twitter.com/6KP3tewy6r',\n",
              "        \"Today I found out that Windows' Cortana actually sounds like Jen Taylor in America but nowhere else. What the fuck, microsoft?!\",\n",
              "        '@VikramKalabi This is a more reasonable trajectory for PAM4 in NVIDIA’s lineup.',\n",
              "        \"@nvidia🤔 why? But why?  We buy 2 cards convinced that Sli nvidia is the TOP ... AND YOU!  and then!  THAT'S NO GOOD!!  NO NEW GAMES SUPPORT SLI !!  Wow what a disappointment ...Doom eternal... No sorry... Call of duty modern warfare 2019.. No sorry... Good job!\",\n",
              "        'Don’t understand why they port this instead of GTAV on switch, it’ll look much better',\n",
              "        '@6th__man playing red dead redemption-\\n\\n“Oh shit a bear!” *starts running* \\n\\nMe- you can’t out run a bear they run like 40mph \\n\\nHim- what?\\n*immediately mauled by bear*',\n",
              "        'funny, did laugh thank you blue fortnite man',\n",
              "        'Oh shit I got 1 day to finish this fuk',\n",
              "        'Call of duty logic: Nerfs the M4 7 times\\n\\nKeeps helicopter, makes akimbo .357 stupid cheating 🥴',\n",
              "        'It was all totally legal: Johnson & Johnson companies used a super poppy to make narcotics for popular opioid pills. washingtonpost.com/graphics/2020/…',\n",
              "        'How Abhijeet Bhayya ur efforts are incredible and the way you try to satisfy our wishes are very good hope you continue the same with the good health and wealth\\n\\nLove fron Hyderabad',\n",
              "        'same game smh 🤦🏾\\u200d♂️ @NBA2K #NBA2K21Demo #NBA2K21 pic.twitter.com/QRCV7AmeQi',\n",
              "        '100% agree. It’s also so tiresome to play on and boring to look at. I hope when Olympus comes they either rotate it out or we don’t see it much.',\n",
              "        'Red Dead Redemption 2 + Street Fighter V + Cyberpunk 2077 + Resident Evil 3 Remake + Dying Light 2 wn.nr/TXKg9n',\n",
              "        'We did it. We found a way to do a lot of core and play hearthstone at the same time. I Introduce to you, Noz-Core-Mu. The Ultimate Challenge. Do Core until the rope starts burning, then play your turn.\\n(Sorry for bad audio quality) clips.twitch.tv/ShortPunchyPel…',\n",
              "        'wtf I’m going to have to reinforce my desk to support this',\n",
              "        'CSGO, Road to Rio Predictions, North America\\n\\nGroup A \\n1⃣ @EvilGeniuses \\n2⃣ @100Thieves \\n3⃣ @GenG \\n4⃣ @Cloud9 \\n5⃣ @TriumphGamingGG \\n6⃣ Orgless\\n\\nGroup B\\n1⃣ @TeamLiquid \\n2⃣ @mibr\\n3⃣ @furiagg \\n4⃣ @Envy \\n5⃣ Bad News Bears\\n6⃣ @YeahGaming pic.twitter.com/a823Z4VZbj',\n",
              "        'Johnson & Johnson Medical Devices Companies is honored to recognize the dedication of Perioperative Registered Nurses. Join us to discuss resilience and stress management. Register here: bit.ly/37CGPab #NursesChangeLives...and that changes everything. https://t.co/WGeHJn7QPK',\n",
              "        'Anyone notice the ratio between conferred buy vs reviews of the 3080 and 3090 cards? I am getting about 1 to 5. For every 1 card bought to 5 review that are going live! So sad that more people have prerecorded reviews than people have confirmed orders #3080 #3090 @nvidia @Newegg',\n",
              "        \"@GhostRecon Glad you're changing up the game to make it how it should have been on release. Spotted a Typo on Uplay though. pic.twitter.com/qw6DwVBeGZ\",\n",
              "        'Wine drunk playing the new Borderlands 😩\\n\\nGoddess life is a fun life.\\n\\n✨ findom',\n",
              "        '\"Take a chance that love exists and do a loving act\"- Red Dead Redemption 2 giving life advice in the middle of a pandemic',\n",
              "        'shit, time for a recast',\n",
              "        '@BandaiNamcoUS Nobody appreciates removing your games from Nvidia Geforce Now, then adding them back and removing them again.',\n",
              "        '\"you\\'re still not diamond yet?\" #ApexLegends #XboxShare pic.twitter.com/JK37upYT1Z',\n",
              "        'The new Red Dead Redemption’s graphics look incredible!',\n",
              "        '⭐️ Toronto is the arts and culture capital of Canada, it’s no wonder! If you want to start planning, be sure to check out our GTA Real Estate market report for Fall 2020, it has all the info you need to finally make a move! blog.remax.ca/toronto-housin… twitter.com/kevinyoufool/s…',\n",
              "        'Let me know when they fix the trash copy and paste gameplay.',\n",
              "        \"Some milestones and anniversaries here at the Chicopee Home Depot. Congratulations Ed to 29 years with the company and gaining another gold milestone, Tim to 14 years with the company and Mark for gaining another silver milestone. Time does fly by when you're having fun. pic.twitter.com/Dilaa5CUFX\",\n",
              "        'What the fuck is wrong with u guys?\\n@DOTA2',\n",
              "        '@roundedtiktak thank you 👍 #Fortnite #XboxShare pic.twitter.com/zWqOrFk0JN',\n",
              "        '#gtc20 -  nice, motivational, and very accessible Nvidia/AI product fair + related tech talks\\nnvidia.com/en-us/gtc/keyn…\\ninteresting interaction/social activities: braindates, dinner with strangers, ...  and free attendance for universities: reg.rainfocus.com/flow/nvidia/gt…',\n",
              "        'God when 🥺',\n",
              "        'Not gonna lie that Black Ops cold war trailer was probably the best COD teaser I have ever seen',\n",
              "        \"I'm in love @mlssmahut #assassincreedodyssey #assassinscreed #ubisoft @Ubisoft #kassandra #PS4share pic.twitter.com/tbk2cnF1Ou\",\n",
              "        \"Glad I got my #Cyberpunk2077 strategy guide pre-ordered, I was going to do it last week but it was sold out! So I'm glad it back in stock pic.twitter.com/CrmoICs3w2\",\n",
              "        '@EAHelp Hi was booted from battlefield V game and now unable to go online. Seeing a few people on the subreddit say the same. Is there an issue with battlefield servers?',\n",
              "        '@EAMaddenNFL you guys had the audacity to ask me about the connection after I got lagged out. 🥴🥴🥴🥴🥴🥴🥴',\n",
              "        'I’ve got #RedTeam winning round 2! Share who you think will take it and you could win an #iPhone12 Pro with 5G! Which team will get the first :dragon:? Tune in to find out. @Verizon #5GJustGotReal #VerizonWRsweeps twitter.com/i/events/13165…',\n",
              "        \"I'm WHEEZING\",\n",
              "        '@MerlynJD Merlyn, See seriously quirky trio? “LOVE’S POST JOURNAL . . . TOO . . . TOO MUCH.” Rik Love writes his diary as a series of shorts after turning 80—at post time. Rik, his kin and friends are weird, goofy, totally odd characters. Google and enjoy! Riklove.com https://t.co/hE3730tcmH',\n",
              "        'Wendie Renard loses Fifa trophy on a train and appeals for its return dlvr.it/RMNwq2',\n",
              "        'I haven’t watched the NBA in quiet some time. I’ve actually boycotted it most of the year because of the Hong Kong fiasco. But @Dame_Lillard may just bring me back. ITS LIKE HE IS ON A FORTNITE HEATER.',\n",
              "        'While the store now is mess, with PS5 and redesign coming, this is something they could have accounted for or at least left on web version.',\n",
              "        'first game of the day,, eventhough my damage is,,,, embarrassing,.. #ApexLegends #Apexpc #gaming #APEX pic.twitter.com/YxtA8WMCtN',\n",
              "        'This is....odd. @Google suggests the most deadly terrorst attacks were committed by the USAAF. But also acknowledge that September 11, 2001 was the most deadly terrorist attack \"in history.\" \\n\\nAny thoughts on this @searchliaison ? pic.twitter.com/zfJFGLXTMp',\n",
              "        'Looking at pc specs: yeah this will run fortnite at 60 FPS!!!\\n\\nBITCH I DONT CARE FOR OR PLAY FORTNITE',\n",
              "        'It’s ridiculous and embarrassing how unplayable @NBA2K is when there’s any form of lag',\n",
              "        '@NBA2K you guys gotta get Chris smoove as 2k manager. He commentates real basketball, has influence and has the most basketball knowledge when it comes to playing and understanding. Go after him he won’t reach out for a shite job, make the offer make sense',\n",
              "        'red dead redemption got me wanting to move to a mother fucking ranch',\n",
              "        'Aiiight 💪',\n",
              "        \"They took my phone number from me. Thanks @verizon I was rey pay the bill yall couldn't jus give me more time tf\",\n",
              "        '5 years old and it’s in worse condition than Black Ice (Y1S1) was. Can’t get operation “health” again, Ops might develop M.S. and get shackles instead. The only game where the ground or the sky becomes the back of your head Amiright? @Rainbow6Game',\n",
              "        'YOOOOOOO The PS5 design looks so slick, it makes the Xbox Series X look like a boring PC Box. #PS5Reveal',\n",
              "        'Oh yeah happy Fifa 21 day everyone',\n",
              "        '3 years ago this week. 😭\\n\\nSuch a good time for @PUBG and a huge accomplishment for @PLAYERUNKNOWN & his team to put on. \\n\\nThe observer room was insane, so many cables. 😂 \\n\\nLife changing.... thank you. ✌️ pic.twitter.com/6RwnQKs2KC',\n",
              "        'Awesome Gamer',\n",
              "        'Fortnite is bullying me, aren’t they?\\nI. NEED. HIM! pic.twitter.com/3q3yxUxkFY',\n",
              "        '@GhostRecon you telling lights are bulletproof on this game? Fix that shit yo',\n",
              "        'House Democrats say Facebook, Amazon, Alphabet, Apple enjoy ‘monopoly power’ and recommend big changes cnb.cx/2GFvxq0',\n",
              "        '@EAMaddenNFL what is up with these player ratings? I think your algorithm is wrong 😂',\n",
              "        'Whos ready for some zombie royale warzone stream tonight? @GamerRetweets @CallofDuty #Warzone #twitch #streamer #ModernWarfare #gulagking\\n@Pureyo head over to twitch.tv/JustGLN give us a follow and turn notifications on to not miss out on the fun #roadtoaffliate',\n",
              "        \"My goodness @PlayOverwatch your matchmaking in competitive is as shitty as Trumps dick because he's fucking the USA in the ass.\",\n",
              "        'Hey guys, I just hit legend on EU with an incredible winrate of 45%, which seems strange to me, but I take it :D Got a lot of rewards and the new ranks look kinda cool, so overall pretty happy with the changes till now. #Hearthstone pic.twitter.com/X7NqItOKlO',\n",
              "        \"Just don't know why @FortniteGame doesnt seem to care about asia servers the most.They care for every single server region yet not asia.Ppl from south east asia are having such bad ping,fighting japanese with 0 ping while epic just fucks with this new #freefortnite\",\n",
              "        'one of the best kpop moments was at Isac 2020 when all those kpop groups came together and just played a massive fuck off game of PUBG,, tell me that wasn’t iconic',\n",
              "        'Thank you to Matching funds Home Depot RW payment #215545 for your generous donation to support clean water through #teamworldvision! teamworldvision.org/index.cfm?fuse…',\n",
              "        'A ban for Battlefield 4 player rifqipratama has occurred SEE DETAILS: bf4db.com/player/ban/995…',\n",
              "        'Why do parents freak out so much when someone they don’t know adds them on Facebook?😂😂',\n",
              "        'Alright, let’s do it. The road to Gold 2 is now. Apex ranked. Come hang. - twitch.tv/cpatran #gaming #streaming #twitch #TwitchAffilate #TwitchStreamers #twitchstreamer #apexlegends',\n",
              "        \"Can't wait to get it on next gen console... :D #PlayStation5 #CDProjektRED #Cyberpunk2077\",\n",
              "        '#𝐍𝐄𝐖𝐒𝐔𝐏𝐃𝐀𝐓𝐄𝐒 \\n\\nGlobal Cues\\n\\n-World market sentiment looks weak as US indices closed lower.\\n\\n-Tech #shares dragged the US markets and seen heavy selling.\\n\\n-#NASDAQ closes 3% lower lower as @Apple , @amazon , @nvidia slides 4%.\\n\\n#Nifty',\n",
              "        'That Johnson & Johnson Leave In Conditioner Works Good Asf. It Really Defined My Baby’s Hair.',\n",
              "        'A ban for Battlefield 4 player SasoByte has occurred SEE DETAILS: bf4db.com/player/ban/890…',\n",
              "        'Love Speculative Fiction? #Win a $100 #Amazon #GiftCard in this #Facebook & #Twitter #Giveaway via @sffbookbonanza: rafflecopter.com/rafl/display/a…',\n",
              "        'Happy birthday Gautam 😍😍',\n",
              "        'Absolutely love my amazing sister who has made me this absolutely incredible #Dokkaebi bookmark 😍\\n#RainbowSixSiege #R6S pic.twitter.com/WR604R9u5s',\n",
              "        'ps5 kinda ugly doe😭',\n",
              "        'Finnish CS:GO Player Jamppi Sues Valve Over Alleged VAC Ban » TalkEsport,bit.ly/3byCjrT',\n",
              "        '@Verizon  I’m done with y’all, y’all charge too damn much for a cellphone. Plus your service sucks.',\n",
              "        '(NA/PC) Come Vibe With Me. Messing Around In GTA !twitter twitch.tv/milzzz_ttd',\n",
              "        'bruuuhhh wtf is wrong with these gay ass pc players',\n",
              "        '@PlayOverwatch is there like any way to bring back pink mercy and/or atlantic mercy? Id honestly pay good money for those skins. Ik I only started off since september 2019 but they are v beautiful',\n",
              "        '@Ubisoft @Rainbow6Game look at those hacks, let’s get this guy banned, his username is BrownManKiller pic.twitter.com/6D7LKsmvV2',\n",
              "        \"How do I make a girl keysmash?\\nShit this isn't google\",\n",
              "        'Nvidia Gives Positive Forecasts Despite Coronavirus Hit #Nvidia\\n\\ncdrinfo.com/d7/content/nvi… https://t.co/utMxGW1CIf',\n",
              "        'I was inspired by @miserabletop to get assassins creed on switch and now I couldn’t be more excited to leave the party early to go home and play Black Flag pic.twitter.com/yHrybJDYnn',\n",
              "        'Plague of Corruption is #1 on Amazon and # 3 on The NY Times bestseller list. pic.twitter.com/mr2gbN43I9',\n",
              "        'Someone just shared this on Facebook and I had to come find the original because it’s a gem',\n",
              "        'Not this again',\n",
              "        'Bravo @riotgames always know how to get me hyped for the @LeagueOfLegends ranked season super excited💯',\n",
              "        'Microsoft’s Xbox boss just gave an update on one of the Xbox Series X’s most exciting features\\n#GamerNation #Gaming #VideoGames #XboxOne #XboxOneX #XCloud #XboxSeriesX  #RETROGAMINGhttps://bgr.com/2020/02/10/xbox-series-x-specs-vs-xbox-one-backward-compatibility-working-spencer/',\n",
              "        'Call of Duty: Modern Warfare and the problem with its child soldier level - newsychronicles.com/?p=3309&utm_so…',\n",
              "        \"@Borderlands how do I submit a complaint? Your CEO isn't paying his staff their bonuses.\",\n",
              "        \"The next major #Hearthstone update pays tribute to one of World of Warcraft's best expansions. denofgeek.com/games/hearthst…\",\n",
              "        '@Formula yo Alix or formula I am a big fan and it will mean a lot to be in a vid my fortnite username is FrEsH.Ed1ts pls add me',\n",
              "        \"@HomeDepot \\nThis has been the WORST experience we've ever had with Home Depot in Wentzville ! We spent $763.30  on a bad ass machine with a great 5 year warrenty  only to wait for 1 week for it to be dropped off, then it Doesn't even work. Nothing can be done until the 28th!\",\n",
              "        'India Bans 118 Chinese apps including PUBG #PUBG #PUBGMOBILE pic.twitter.com/4RT8ykyxM3',\n",
              "        'Super Eagles move up four places in February FIFA\\xa0rankings best9jamusic.com.ng/sports/super-e… https://t.co/eZcjdiZVje',\n",
              "        'This guy is fucking cracked holeeee', '😅 I love you guys. 😘',\n",
              "        'special shoutouts to microsoft excel 2013',\n",
              "        '@NBA2K @Ronnie2K HOW YA COMING???????? How i fix this bs ??? pic.twitter.com/j7j4jK5O2e',\n",
              "        'Johnson&Johnson to stop selling baby powder in US.\\nThe firm faces thousands of lawsuits that its talc products caused cancer.\\nIt said in Oct that its testing had found no asbestos in its Baby Powder after tests conducted by USFDA discovered trace amounts.\\nbbc.co.uk/news/business-…',\n",
              "        'The OGA Dota PIT Season 3: Europe/CIS looks like it is going to be one heck of a tournament with some of the best teams in Europe competing in it.\\n\\n#Esports #Dota2\\n\\nafkgaming.com/articles/dota2…',\n",
              "        'Series X is fucking huge wtf',\n",
              "        '@wizards_magic Seriously wtf were you thinking This is the worst thing you could possibly do to your player base after these last 2 years. Lost all confidence in you guys as a design team. Back to hearthstone. Fucking sad.',\n",
              "        'Hate the fact Nvidia Filters makes my stream flashy when I’m trying to play warzone...',\n",
              "        'damn just want my 100lp back can’t have shit in league of legends',\n",
              "        '👍 on @YouTube: PUBG MOBILE BEST TIKTOK VIDEOS | FUNNY MOMENTS | ELECTRO ICE ZARD youtube.com/watch?v=V6Erpx…',\n",
              "        'and i cant even get a lvl 1 battle pass. life is unfair 😭',\n",
              "        'Yassss! My team!! RAVENS!!',\n",
              "        'Annnnnnnd one more beautiful #4K #Clutch #RainbowSixSiege pic.twitter.com/BKQoLyigWC',\n",
              "        'Great starting price.',\n",
              "        'Delighted to see FIFA supporting the WHO in the fight against COVID-19. They want to \"Pass the message to kick out Coronavirus\" #HandsElbowFaceDistanceFeel #WashAwayViruses #StaySafe\\n\\nyoutu.be/ZTl-5AjDb48 https://t.co/1Cdy9JindR',\n",
              "        \"Microsoft Apparently Has 16 First-Party Xbox Studios, But That Doesn't Add Up purexbox.com/news/2020/03/m… #Microsoft #Xbox #XboxOne #XboxSeriesX https://t.co/WZHHIwK1GL\",\n",
              "        'This could go very well...or horribly wrong.',\n",
              "        'When pro clubs fucks up the kits',\n",
              "        '@Microsoft Why do I pay for WORD when it functions so poorly on my @SamsungUS Chromebook? 🙄',\n",
              "        'GOD JUST LET ME CUSTOMIZE MY MASSIVE COCK SMH',\n",
              "        'hella good options and i loved all of these games but I gotta go with GTA 4 pic.twitter.com/DCuTj9qa8O',\n",
              "        \"All I'm really hoping to get out of 2020 is a few months of @CyberpunkGame before the Armageddon hits us.\",\n",
              "        'This COD gon take long as hell to download 🤦🏽\\u200d♂️ I’m bout to just fuck wit GTA',\n",
              "        'My experience with ASSASSIN\\'S CREED: ODYSSEY\\n\\n\"WTF? Are those the opening credits? I\\'ve been playing this for days! Where\\'s the Spider-Man disc?\"',\n",
              "        \"Good on Sony. As much as I want to see the new PS5, what's going on right now is so much more important.\",\n",
              "        'Shared via Microsoft Edge: New York City schools ban Zoom due to security concerns and shift to Microsoft Teams – GeekWire geekwire.com/2020/new-york-…',\n",
              "        'Dota 2 making league of legends look good rn',\n",
              "        'The things I would do for a @nvidia 3090... unspeakable! 🧐',\n",
              "        'I don’t see how this looks like as Xbox controller but y’all will say anything. Anyway this is fire.',\n",
              "        'We are pleased to announce the names of the referees approved by the FIFA Referees Committee for the 2020 international lists.\\n\\nBONDO Joshua\\nGOBAGOBA Tshepo Mokani\\nMOSITWANE Tirelo\\nDINTWA Keabetswe\\nMETHIKGA Itumeleng (Women Referee)\\n\\n#WeAreBFA \\n#Congratulations pic.twitter.com/iOhPfXl5Tp',\n",
              "        'Wow',\n",
              "        '\\u2066@Respawn\\u2069 \\u2066@PlayApex\\u2069 #singing\\n\\nCheck out We dont like your singing twitch.tv/videos/5636940…',\n",
              "        'My admiration for this artist grows every year! Just beautiful < 3 @malukah \\nDaughter of the Sea - World of Warcraft - Acoustic Cover by Malukah youtu.be/8m9oI8ahW5s via @YouTube',\n",
              "        \"CSGO matchmaking is so full of closet hacking, it's a truly awful game.\",\n",
              "        'Pre-Covid: Student Game day! Introducing students to Robot Entertainment game as our own form of Leauge of Legends/DOTA2 for our ELL program. They really loved it.  Check it out. Ready Set Heroes.\\nlnkd.in/g-XjTNM\\n#esports  #youth #changeforgood #c…lnkd.in/gXajeCC',\n",
              "        \"Such a shame, but knowing CD Projeckt Red and what they did when they delayed The Witcher 3, it'll be more than worth the wait.\",\n",
              "        'Getting strong Netflix vibes and I like it',\n",
              "        '\"A delayed game is eventually good, but a rushed game is forever bad.\" - \\n\\nShigeru Miyamoto\\nVideo Game Design Legend\\n\\nDevs of #Cyberpunk2077, please take care of yourselves. This is a game we have waited years for, a few more weeks won’t hurt.',\n",
              "        'RED DEAD REDEMPTION 2 \\n#RDOnline #RDR2\\n#DailyChallengers\\nby simba pic.twitter.com/OeBblXui9L',\n",
              "        '@HomeDepot I slightly hate y’all for wasting my time at 2 stores this morning',\n",
              "        'NYUMMM DELICIOUS FINALLY SOME GOOD CONTENT NYUMM THE SKINS THE ASHER',\n",
              "        'this is the absolute FUNNIEST interaction I’ve ever seen on League of Legends pic.twitter.com/NsWyuMdVrX',\n",
              "        'Haha bet you by 4 points @DigitalNutter87 in ranked 😂😂😂😂😂      #ApexLegends #XboxShare pic.twitter.com/ZpRCTBdtvT',\n",
              "        'FUCKKKKKK I CANT WAIT',\n",
              "        'Late night stream with the boys! Come watch some warzone runs as we struggle to get a dub! #warzone #callofduty #battleroyale #facebookgaming \\n\\nFacebook.com/YetiCasual instagram.com/p/CEYfcX0heDs/…',\n",
              "        'We need a third for Ranked right now! #Xbox #ApexLegends #Ranked #Xboxone DM me',\n",
              "        'GTA wouldn’t work in Smash for multiple reasons.\\n\\nThe locations are real world cities. The characters and themes are too adult-oriented. The series is lacking in original music beyond a few main themes.\\n\\nRed Dead Redemption would work though. More original music and less crass.',\n",
              "        'A Classic',\n",
              "        'I will say that playing a Hearthstone PTQ last weekend made me appreciate Magic organized play from the PT-level down, even with its consistent disappointments above that',\n",
              "        'Dart Against Humanity Ep. 79 (S5 E4): The New Not Normal\\n\\nApple: itunes.apple.com/us/podcast/dar…\\n\\nGoogle: google.com/podcasts?feed=…\\n\\nGoogle Play: play.google.com/music/listen#/…\\n\\nSpotify: open.spotify.com/show/7oyFdHIm6…\\n\\niHeartRadio: iheart.com/podcast/256-da…\\n\\nPandora: pandora.com/podcast/dart-a…\\n\\n*Amazon Alexa https://t.co/uCZfIRX9Ip',\n",
              "        'This is so upsetting 😭',\n",
              "        \"I just earned the [Can't Stop Won't Stop] Achievement! #Warcraft #Rhaona #Tichondrius #Sylvanas\",\n",
              "        'Hi @EAHelp I’ve had Madeleine McCann in my cellar for the past 13 years and the little sneaky thing just escaped whilst I was loading up some fifa points, she took my card and I’m having to use my paypal account but it isn’t working, can you help me resolve it please?',\n",
              "        'sometimes i feel like such an old grandma playing games.... a few months ago i bought assassin’s creed origins bc it was on sale and like 20 minutes in i was like “hm... this is too violent for me!” and never touched it again SKSJSBSB',\n",
              "        '#XSXFridgeSweeps The most powerful fridge in the world, is a beast!',\n",
              "        'No one buy battlefield 3 on steam! It doesn’t have an app, it literally runs through a google search. Do not recommend it, it’s a waste of money #SteamSummerSale #SteamSummerSale2020',\n",
              "        'Like @NarwhalSulky I was super surprised to be sent some more Siege swag! Including a headset I shit you not! I think a cheeky giveaway might be in order for that, what do you guys think? #RainbowSixSiege\\nThanks @Rainbow6Game this was super unexpected! pic.twitter.com/pqmVtNmVuH',\n",
              "        'Kings 💯🔥',\n",
              "        \"Oh dear, I'm pleased I'm over 18 😂\\n#xbox #cod #CallofDuty #ModernWafare\\n#CallofDutyModernWarfare pic.twitter.com/MNgNh6jLRo\",\n",
              "        'If i gotta buy my own Ps5 and Xbox this year, NEVER ASK ME TO TAKE YOU OUT TO EAT OR EAT YOUR PUSSY CAUSE IMA TELL YOU TO DO IT YOUR DAMN SELF 😤🖕🏽',\n",
              "        'Congratulations guys finally PUBG UNBAN ho gye thnks @ZakaWaqar  thnks all pubg lover 🌹♥️😍',\n",
              "        \"In Facebook jail for literally nothin... They ain't even tell me what got reported 😂\",\n",
              "        'Amazing how the mainstream media tries to ‘normalise’ muslim criminals and terrorists. @BDUTT painted Burhan Wani as a facebook star, son of a schoolmaster. @washingtonpost made Baghdadi an austere scholar. The Print paints Shahrukh as an aspiring model.',\n",
              "        'Ight @NBA2K false alarm pic.twitter.com/F4GBu2bVKb',\n",
              "        'Happy to be back doing what I love :))',\n",
              "        'The iPhone 12 needs to hurry up cause I need to get it with @Verizon cause @sprint is trash ever since the merger with @TMobile! Like my speed is from the Middle Ages!! #iPhone12',\n",
              "        'Thanks for helping small businesses.  Life blood of this country.',\n",
              "        '‘One of the saddest days of my life’: Queens business leader reflects on what could have been one year after Amazon killed its HQ2 project in LIC  qns.com/story/2020/02/…',\n",
              "        'FIX IT JESUS ! Please FIX IT ! What In the world is going on here.  @PlayStation @AskPlayStation @Playstationsup @Treyarch @CallofDuty negative 345 silver wolf error code pic.twitter.com/ziRyhrf59Q',\n",
              "        \"Hey @Verizon we have tried contacting you in everyway and have gotten nowhere. We have issues and YOU CAN'T BE REACHED! Our experience with Verizon has been SO BAD that we just want out. Maybe @ATT is looking for a new customer.\",\n",
              "        'One of our own @ProfZeroo is live w/ @borderlands 3‼️ 🤘😄🤘 \\n\\nCatch him here: buff.ly/2WmmiP5 \\n\\nSay \"Streamer Shouts\" in chat for a chance to be in a coming\\n@streamer_shouts Shout Out❗️\\n\\n#twitch #stream #Borderlands3 https://t.co/dC7ptjMyFM',\n",
              "        'To all the people who want to play VALORANT and are saying they are gonna pursue it professionally, \\n\\ngo play 100 hours of CSGO, if you still like the game then I think it would be a good game for you, if you are bored out of your mind I would not recommend pursuing it.',\n",
              "        \"It's kind of incredible what games I'll be getting THIS YEAR for the Xbox Series X 😅\\n\\nI'm getting:\\n\\nAssassin's Creed Valhalla\\nWatch Dogs Legion\\nDirt 5\\nFuser\\nThe Falconeer\\n\\n+thanks to gamepass:\\n\\nGears Tactics\\nDestiny 2 Beyond Light\\n\\n+Before Xmas:\\n\\nCyberpunk\\nThe Medium\\n\\n💚💚💚💚\",\n",
              "        \"While it's true that #GhostReconBreakpoint needs a lot of support and fixes, they definitely nailed the atmosphere and ambiance.  Some of these vistas are just incredible.  Here's hoping March 24th brings the changes the game needs. pic.twitter.com/mgHag6dlEM\",\n",
              "        'Check out my video! #LeagueofLegends | Captured by #Outplayed #2020alienwaregames pic.twitter.com/szd2mKYyty',\n",
              "        '@EAMaddenNFL when I first pre ordered it said standard would get to play 3 days early now only the other 2 version thanks a lot smh',\n",
              "        'dead game 😔',\n",
              "        \"Yasss! I'm so excited for this!! Tonight folks! 7:30 BST! Come hang out!!!\\n\\nTwitch.tv/arialthesiren\",\n",
              "        'the implication that seraphine has witnessed jopping by superm and thus superm are officially part of league of legends lore,,, i cant do this anymore only in 2020 would something as absurd as fucking jopping make it into the carefully constructed lore of a billion dollar game',\n",
              "        'friendship ended with mibr\\nnow furia is my best friend',\n",
              "        \"Facebook employees reportedly feel guilty that the company didn't fix a known security risk fast enough to prevent its biggest data breach ever businessinsider.com/facebook-emplo… via @businessinsider\",\n",
              "        \"Johnson & Johnson regains footing - Analysis - 15-04-2020: Johnson & Johnson's stock returned higher with a 4.48% profit, with support from the 50-day ... dlvr.it/RTqQdP\",\n",
              "        \"Activision confirms that 2020's Call of Duty title is Black Ops: Cold War: Know your history, or be doomed to repeat it. dlvr.it/Rf3VSg\",\n",
              "        'FACTS KING TALK THAT SHIT SO MUCH THEY DONT NOTICE',\n",
              "        '@Google and @Apple can you explain promoting a slave market in Kuwait through your apps?????? I am disgusted.',\n",
              "        '@EAMaddenNFL is there a reason OFFLINE franchise lags so much? Every play skips and good luck kicking a extra point. Shouldn’t a OFFLINE MODE have 0 input lag? Please patch this...#fixmaddenfranchise #NFLdropEA #FixMadden21',\n",
              "        'This is about as far as I can go with it for the time being, maybe I will revisit it later, sorry!\\n\\n#LeagueOfLegends #ArtofLegends #Yuumi pic.twitter.com/8iyAdyvwMD',\n",
              "        \"It's great that big companies can't do everything... Otherwise today we would have had yellow pages, Yahoo. #Google wouldn't have been able to give us all the cool product thinking. The optimist in me says @zoom_us is a disrupter and there are many more.. #GoogleMeet @airmeet_com\",\n",
              "        '❤️❤️❤️❤️ keep up the great work king',\n",
              "        'Am I the only one experiencing so many bug with @GhostRecon?',\n",
              "        'Thanks to the amazing team at @Microsoft who generously donated 10 Office 365 licenses to AHA! today. We are so grateful!\\n\\n#accessibleatx #accessible #affordable #integrated #housing #affordablehousing #microsoft #office365 #charity #donation #nonprofit #gratitude #Austin',\n",
              "        'Rocket League, Sea of Thieves or Rainbow Six: Siege🤔? I love playing all three on stream but which is the best? #stream #twitch #RocketLeague #SeaOfThieves #RainbowSixSiege #follow',\n",
              "        'Back at the OG memes... I love the sky base, follow me every day @Cyper for everyday content. #Fortnite #meme #MEMES #lmao #omg #gaming https://t.co/wROS35dZyA',\n",
              "        'I get freaky on that gta bmx bike #PS4share\\n\\nstore.playstation.com/#!/en-us/tid=C… https://t.co/FURxZsrT6s',\n",
              "        '@Hunduks we will never be as happy as we were during the overwatch beta 💀',\n",
              "        \"Nice to bow you\\n\\nThis my Creepypasta/Assassin's creed OC I love this girl to peices I can't believe I haven't posted a drawing of her on twitter time to fix that.  FYI: this chacrter is a one reason I go by BladeMaster122 \\n\\n#Creed #TheCreedFighter #AssassinsCreed #creepypasta pic.twitter.com/BFkNlDpNxx\",\n",
              "        'I’ll never understand how people enjoy overwatch',\n",
              "        'I’m happy with this change. Games have a beginning, middle and end. \\n\\nIt’s all about flow. You should have to keep momentum to streak a second time, not depend on streaks to get you more streaks...',\n",
              "        '#AmazonPrimeDayQuiz  I played this interesting quiz on Amazon - Try your luck for a chance to win exciting rewards amazon.in/game/share/gS1…',\n",
              "        '#RTXOn\\n@Miki21144689 have no one else ^^ but i have a brother, who would be very happy about it, so again #RTXOn @nvid',\n",
              "        \"GIVE @2K THE ABILITIES TO MAKE SIM FOOTBALL GAMES NOW! EFF THAT CONTRACT. @EAMaddenNFL Y'ALL HAVE SWINDLED US ENOUGH! @NFL TELL THEM TO GIVE IT UP, THEY DON'T DESERVE THE EXCLUSIVITY LICENSE ANYMORE!!!!!\",\n",
              "        'Borderlands® 3\\nFirebug (Bronze)\\nSabotage all statues for Ember. #PS4share store.playstation.com/#!/en-us/tid=C… https://t.co/oFsFGEemkq',\n",
              "        'Increased Performance Requires the Right Data\\njimsinur.blogspot.com/2020/08/increa…\\n\\n@TIBCO @Genpact @SoftwareAG @IBM_BPM @pega  @SAP @ibmsystems @Appian @bonitasoft @PNMsoft @Kofax @Nintex @SAP_BPM @Cisco @Google @nvidia @Axway @intel @AuraPortal @Microsoft @RedHat @redhatopen @oracle @bizagi https://t.co/wyio7yedfV',\n",
              "        'fuck fortnite (yes i rage quit)',\n",
              "        'bruh @EAMaddenNFL this h2h game’s been stuck on this screen for 5 minutes smh pic.twitter.com/rYslnyflFj',\n",
              "        'My sona as a vault hunter. Borderlands will always be my all time favorite game series. pic.twitter.com/tMN63snnJE',\n",
              "        'Man I just left the Verizon store to see if I can get my hands on the pre order of the RAZR V4. The employee let me hold the phone and flip it up and now I’m never washing my hands again, I can’t wait til the 15th of February to get it. 🥺🥺💕',\n",
              "        'Hey #jackwagons why dont you get over here and come say hi. Playing some #borderlands 2 and #chatting about #smallstreamer #SmallStreamerCommunity #TwitchStreamers #twitchaffiliate #Roadtopartner #twitch #twitchstreamer #SupportSmallStreamers #WTF over!\\n\\ntwitch.tv/cblack47',\n",
              "        'Man this some GTA shit lol.',\n",
              "        'Good Job @Blizzard_Ent 😡 @BlizzLatAm @Warcraft pic.twitter.com/zyoT3FLEn0',\n",
              "        'Microsoft-Owned Minecraft Will Stop Using Amazon’s\\xa0Cloud teknoids.com/2020/07/20/mic…',\n",
              "        \"That'd be so sad tho\",\n",
              "        'Nice bug @Rainbow6Game pic.twitter.com/MeOpHhpA7D',\n",
              "        \"The latest b_gardiner's Random Musings! paper.li/b_gardiner/131… Thanks to @bjoerndarko @FMScreative #google #seo\",\n",
              "        \"Completed #Fustercluck this weekend, rounding off year one of #Borderlands3. I decided to go back in response and play the original Borderlands again as I had the 4K GOTY version on my PC already. The shooting feels awful. I'm going to try some suggested ini changes tomorrow.\",\n",
              "        'This cricket has been the worst hivemind of fandom I have done this more times than I would love to be better if the Tarzan level in Kingdom Hearts is as bad as Borderlands.',\n",
              "        'Me and bae went paint-balling. I was on my call of duty shit pic.twitter.com/UHXbbuu7T4',\n",
              "        'Yo the new event on PUBG is weird!',\n",
              "        '@VZWSupport   I sent you guys a direct message about an issue with my iPad I bought from Verizon,  Please check it',\n",
              "        '2k games is never the same again 💔😭', '//. Hilarious as fuck 🤣',\n",
              "        'I like the idea behind this and whah it stands for, but don’t see this working',\n",
              "        \"This #PlayStation5 pre order is an absolute....\\n\\nHopefully Xbox goes smoother next week and I'll get two 😒\",\n",
              "        'Playing world of Warcraft! So much fucking fun. I can’t believe I wasted so much time playing games like cod, fortnite, h1. This right here is a REAL mans game.',\n",
              "        \"What does everyone think of @PlayOverwatch open que comp? I've been rolling on sigma but it's hell if you don't have supp players. #overwatch\",\n",
              "        '‘Call of Duty’ Wins First Amendment Victory Over Use of Humvees alphatimenews.com/call-of-duty-w… https://t.co/bmSYMgUEEN',\n",
              "        'Ah fuck here we go again.',\n",
              "        'I mentioned on Facebook that I was struggling for motivation to go for a run the other day, which has been translated by Tom’s great auntie as ‘Hayley can’t get out of bed’ and told to his grandma, who now thinks I’m a lazy, terrible person 🤣',\n",
              "        'Quick 4k, \\n#rainbowsixsiege #rainbowsix #ranked #tomclancy #streamer #stream #mixerfamily #mixerlove #mixer #mixerstreamer #mixerstreamersunite #mixerstream \\n\\nmixer.com/kn_blunt instagram.com/p/B8xYQEHnNBA/…',\n",
              "        'I’m done bro all my stuff got corrupt and I’m downloading game updates now @2KSupport @NBA2K @Ronnie2K',\n",
              "        'Casting this weekend again!\\n\\nExcited who will get point and climb up that ladder for @ItsTheNumberOne 🔥',\n",
              "        'My advice when you suck like me \\n#Fortnite\\n#streamers\\n#Budget2020\\nvm.tiktok.com/ZMJfQKRPy/',\n",
              "        \"This is really interesting for indie RPGs with character portraits for NPCs. A game like The Age of Decadence has dozens of custom portraits, and those cost at least 150 dollars each, likely twice that, so it's a big price to pay for small teams.\",\n",
              "        'Absolutely love this! Thank you so much for such a beautiful version of Lani’thel!',\n",
              "        'THIS IS INSANE!!!!!!!!!!!!!!!!!!!!\\n\\nWHAT WHAT WHAT WHAT WHAT',\n",
              "        'Good fucking day today happy to be back more GTA RP tmr 👊♥️',\n",
              "        'Sorta amusing how #nba2k has such self-centered community managers that have built up such limited goodwill, that when they released a demo identical to 2k20, everyone was vocal about it being trash #NBA2K21 \\n https://t.co/Nw1LMRJGN6',\n",
              "        'One of the MANY reasons why Madden is a sorry ass game.',\n",
              "        '@EAHelp why is my EA account telling me it’s  invalid? Why won’t you let me play Star Wars Battlefront 2 or Battlefield V? Why haven’t you resolved this issue yet? Why do you not want me play EA games?',\n",
              "        'Worked at Macy’s \\n\\nWorked at Chick Fil-A \\n\\nWorked at Home Depot \\n\\nWhich one is the lie?',\n",
              "        'Big💪 nyoos. Numewous gweat companies awe seeing🕵️ fantastic wesuwts. @FDA must myove quickwy RawR  twitter.com/nytimes/status…',\n",
              "        'Play with @PtitDrogo and @BlyOnFire starting at 19 CEST TODAY and get a chance to win awesome prizes from our merch store AND a @Pl4ZMAcom Gaming Booster!\\n\\nSounds like a good deal? \\n\\nThen join our discord at: discord.gg/NaKhTps\\n\\nTomorrow: Hearthstone with @RYE_Viper https://t.co/jKxixjCo29',\n",
              "        'You are not reading this by mistake I can beat you in FIFA',\n",
              "        'Normally i dont put time and effort into people like this but this shows me exactly the kind of people who participate in \\n@Rainbow6Game. Since when is it disallowed to play with IRL friends who are lower ranked than u are. smh pic.twitter.com/7aAhqXw9cZ',\n",
              "        'Facebook is a hub of fake information.',\n",
              "        'While this article says — Marcus no longer ran the company— that is Home Depot he still makes the $$$ in stock. So go ahead and boycott!',\n",
              "        '@EAMaddenNFL hi I am am trying to do the golden ticket challenges and it is not working for me and 10 of my friends so will u be post pointing it or??',\n",
              "        \"I'm loving all the R6 and animal crossing crossovers. Somehow more surprising to me than animal crossing and doom.\",\n",
              "        'HOLYYYYY. Definitely streaming it this weekend👀be on the look out',\n",
              "        'HOW TO IMPRESS INDIAN GIRL\\nsahilyaduvanshi.in/love-at-first-…\\n#impressgirl #mrfaisu #fairness #raipur #chhattisgarh #chomic #boy #mridul #faisu #faisusquad #tiktok #tiktokmemes #impressgirlfriend #memes #pubg #skincare #urvashirautela #workout #ptlife #fair #fairskin #love',\n",
              "        'Choked in an eco round 30 big L❌',\n",
              "        'I may not be the first to observe this, but MacOS has had _all_ the developers who make the internet go, for a decade and a half, and the entire time they have been like \"lol fuck off\"\\n\\nMicrosoft is buying up open source these days. Perhaps a developer-centric laptop is next',\n",
              "        \"I'm not even a part of @CallofDuty community but this shit at @NoahJ456 stream is soooo interesting.\",\n",
              "        '@GhostRecon please fix the MOUNTAIN-00016 error. Its been 3 hours already.',\n",
              "        'Red Dead Redemption 2 broke me, broke my heart. The wild west is a cruel place.',\n",
              "        \"The Nigeria national team has been ranked as the 29th best team in the World and 3rd in Africa in the latest FIFA World rankings. 🇳🇬🦅\\n\\nIt's the first time the team has made the top 30 since May 2013. @ Kano, Nigeria instagram.com/p/CFPZvTOn8Ab/…\",\n",
              "        'Fortnite has these bots that make the game unplayed lmfao literally unplayable because of course you land with just an axe and before you can loot a bot with weapons already on the ground just shoots you before you can even arm yourself lmfao Fortnite right now is a waste of data https://t.co/MmErZUIZyl',\n",
              "        'At this point I’m starting to feel like overwatch 2 was a hoax',\n",
              "        'Best squad yet#pubg #pubgmobile #pubgkenya instagram.com/p/B-Obt_eAA4f/…',\n",
              "        'It is ABSOLUTELY RIDICULOUS that prop hunt is not in fortnite anymore. \\n\\nThe utter DISAPPOINTMENT smh\\n\\n@JakeStateFarm @FortniteGame @KimKardashian',\n",
              "        'congrats to the team at @idSoftware  for winning game of the year',\n",
              "        'Due for an upgrade from my GTX 1060 Windforce and this would be great and needed to enjoy Cyber Punk 2077 with @CalebDorward. #RTXOn',\n",
              "        'I am so exhausted from work this week so probably no borderlands stream today i’m SO SORRY 😭',\n",
              "        'Yo @NBA2K fuck your fake ass garbage ass game',\n",
              "        'The khanjali is the best tank in GTA online pic.twitter.com/pnixQFSBeV',\n",
              "        'See I can get behind it when you explain ya self, controller is only broken when you have it with a PC that makes complete sense. Thank you ninja for actually explaining it and not being a fucking retard like everybody else',\n",
              "        \"some of my irls really think that George Floyd did something wrong after a wrote a whole post on Facebook about how black lives matter!! I don't wanna be friend with racist people I swear I didn't know they're racist I feel bad for knowing them\",\n",
              "        'Thank you @EAMaddenNFL!! \\n\\nNew TE Austin Hooper in the ORANGE & BROWN!! \\n\\n#Browns | @AustinHooper18 \\n\\n pic.twitter.com/GRg4xzFKOn',\n",
              "        'This skin didn’t age well... @LocalPolarBear',\n",
              "        'I want to thank #SSKYWILDKATSSS for letting me run the new Borderlands 3 DLC with him last night. I had a lot of fun!',\n",
              "        '@satyanadella @Microsoft thanks for celebrating #Diversity. We need positive energy these days.',\n",
              "        'Very Nice Demon Hunter Blood Elf Statue!! \\nPainter, photographer - Helen|N.May Sculptor - Vladislav Kortikov\\n#Warcraft #worldofwarcraft  #Wowboost #wowboosting  #WoWClassic #beauty #art pic.twitter.com/F8KS8DayNB',\n",
              "        \"The next one is Borderlands: The Handsome Collection. You're welcome\",\n",
              "        'This skin for Revenant looks dope!! greasygamer.com/threads/this-s… #gg #SmallStreamerCommunity #SmallStreamersConnect #smallstreamer  #SupportSmallStreamers @LaZy_RTs @FearRTs @sme_rt @SGH_RTs @SmallStreamersR @StreamerNetwork @SSS_Retweets @Gr0wthLabs #callofduty #Fortnite #rainbow6',\n",
              "        'twitter.com/pcgamer/status…\\n100 hour workweeks are pretty bad',\n",
              "        'Hey @verizon, is there a known outage in 32828?',\n",
              "        \"Whenever I feel a bit low, The Uncool Club's Facebook group always manages to cheer me up. What a wonderful group of humans 🥺\\n\\n(If you wanna join, feel free! Everyone is welcome ❤️ facebook.com/groups/6127272…)\",\n",
              "        \"It's our pleasure H\", 'fuck...',\n",
              "        '@BlizzardCS what’s going on with Hearthstone for iPad? I deleted the app then redownloaded and it is still saying to restart the app... any idea on when the patch will be live for iOS?',\n",
              "        'PTS would not stop crashing on me tonight. An issue I have never had with @PUBG_US @PUBG @PUBG_Devs going to give it another shot in the AM. Y’all have a good night! 6am central as always 🙏❤️ https://t.co/6MgOA07Izs',\n",
              "        \"Tom Clancy's Rainbow Six Siege is a great game to play with no negatives, welp i guess im back on the grind pic.twitter.com/0Wn3AreahG\",\n",
              "        'Update: Chase emailed me from an anonymous email telling me a close friend showed him my facebook post, that he didn’t know he was doing this, and asked me to take these down. As if another outreach from a random email is not also creepy. No. I’m not taking it down.',\n",
              "        'It’s been a year and a half since Red Dead Redemption 2 came out and I finally have time to play it now. It has completely sucked away 3 days of my life now. Very worth it',\n",
              "        '//The Corruption and Knocking up of Overwatch Babes is a serious Mood atm... pic.twitter.com/QNy4kmgBLV',\n",
              "        'Best game ever!!\\n@MrJCorbs @PlayApex pic.twitter.com/EXZbxe6GGK',\n",
              "        'Even tae playing pubg I won’t ever installing it hahahaha I dislike that game so much',\n",
              "        'League of Legends’ latest champion is a colorful pop\\xa0star smartrobotics.com.ng/2020/10/13/lea…',\n",
              "        'I like the killstreaks',\n",
              "        'By combining product #engagement #analytics, #digitalsignage content can now be continuously optimized.  Learn how Johnson & Johnson drove 38% sales lift in beauty and 62% sales lift in OTC.\\n\\nLearn more: buff.ly/3fCQuPt https://t.co/H09PgAdlCk',\n",
              "        'I started playing Overwatch (on Switch) right when Covee started and the combination of that game on that console has made it the most friendly gaming experience, really zen compared to most lobbies i’ve witnessed',\n",
              "        '@dbongino And real quickly as I have to run to Home Depot and touch everything with my rubber gloves of course. But 7 days ago they predicted in the US up to 2 million deaths do to Covit19. 3 days after that they said 100 to 200 thousand. And a rate of death at less than 2%.',\n",
              "        'Today sucked so it’s time to drink wine n play borderlands until the sun comes up so I can hate myself all day tomorrow.',\n",
              "        'Umm @PlayApex  when I died it said Bug This pic.twitter.com/bzMHzbadOF',\n",
              "        'My 2080 Super feels really inadequate now. #Nvidia',\n",
              "        'Never in my life have i ever fealt this fed up over a game that wasnt overwatch',\n",
              "        'Love having dreams about unboxing fucking gut knife safari meshes in csgo',\n",
              "        \"I'm proud that I created this banner for @Scoobz___ @__scoobz__ \\n\\nEven though it takes me almost 1 day... Sigh need to work faster XD but I'm pretty impress with this work. \\n\\nAnyways, twitch.tv/scoobz___ if you like APEX LEGENDS content, Do help a streamer out!!! 😁✌️ https://t.co/ZEFcPhssUk\",\n",
              "        'Mfs getting excited for theatre mode on cold war when black ops 3 and black ops 4 had one and none yall did shit with it 👍',\n",
              "        'Why does nobody want to sign for my @FGRFC_Official fifa 20 side I’m livid Messi being a pure uppity cunt',\n",
              "        'eSports: Curiosities you probably didn’t know about Red Dead Redemption\\xa02 goalsn.com/2020/02/esport… https://t.co/JMLBSxAUou',\n",
              "        \"@PUBG_Support Hiya! So when'll u be fixing your f'n console game? Been asking a lot and have been very satisfied with your lack of responses ☺️ Just wondering if lagouts are a part of the game like red zones and I'm just not aware or if you just can't fix a 2 year + problem. Thx!\",\n",
              "        'Amazing how toxic the FIFA community is in August.  Congrats @EASPORTSFIFA for creating one of the most toxic communities....right up there with CSGO and RB6.',\n",
              "        'FIFA 20 gets me angry 😶',\n",
              "        'The various people in a bad PvP chat 🤣\\u2060\\n\\nVisit out website at wowroleplaying.com\\nTwitch.tv/wowroleplaying\\n\\n#warcraftmemes #warcraft #worldofwarcraft #alliance #horde #battleforazeroth #azeroth #forthealliance #forthehorde  #warcraftphotography #videogames #twitchtv #mmorpg https://t.co/w3aNoVPLAH',\n",
              "        'As much as I don’t like the Amazon business model nobody going to tell me to wear an ineffective cloth mask... so @HomeDepot @cvspharmacy @Walmart @SamsClub Target just lost all my business to Amazon... this lunacy is out of control @realDonaldTrump @CensoredCinder @BreitbartNews',\n",
              "        'I will be boycotting Home Depot I can shop other places they no longer get my money again Americans buy a book of stamps from the postal office as many as you can that will keep them running',\n",
              "        \"Still my favourite Assassin's Creed games ❤️ pic.twitter.com/8JApw7WrUl\",\n",
              "        '14.39 Carats TCW 100% Natural Beautiful Amethyst Oval Cabochon Gem by DVG DVG... amazon.com/dp/B07WG5QYS7/… via @amazon',\n",
              "        \"New project out later with everyone's favorite #Hearthstone cult 👀\",\n",
              "        \"Today's the day that early access to Black Ops Cold War beta on PS4 starts. Too bad I don't have a code. Sucks being broke. Have fun whoever is able to play. https://t.co/jXUcYjatSE\",\n",
              "        'Why Google sucks: Google regulates undocumented workers by misinforming white surpemacy',\n",
              "        'Very interesting read! I agree more women should have careers in Cybersecurity! \\n\\nAre Women Better At Cybersecurity Than Men? What A Study Showed About Password Security And More bit.ly/3fDK96k #passwords #womenintech #Cyberintelligence #Cyberpunk2077 https://t.co/xiG31G5DfR',\n",
              "        'happy birthday red dead redemption that shit changed my life what a crazy experience',\n",
              "        'Had a pretty amazing time streaming tonight, pubg was alot of fun! Thanks to everyone who came and hung out❤❤',\n",
              "        'I love this list',\n",
              "        '@PlayStation I love PlayStation and all but why the fuck do errors keeping occurring on @NBA2K ??',\n",
              "        'THE MADDEN CURSE HAS BEEN BROKEN. NOW GIVE THE COVER TO @Lj_era8 @EAMaddenNFL @EASPORTS_MUT',\n",
              "        'Until Jul 16: Red Dead Redemption 2 is $39.99 ($10 off) @ Amazon\\n\\nPS4: amzn.to/37yuuAb\\nX1: amzn.to/2SMbHgX https://t.co/20uoQRcwdW',\n",
              "        'this is the current status on the gold making, monthly token purchased if i dont find a stable source of income this will be bad in 3 months mithril and flamebloom were broke  by some sellers #Warcraft! pic.twitter.com/l7XmqXWpZ0',\n",
              "        'Big shout to @icklenellierose for reminding me how great Assassins Creed Black Flag is, and how I never finished it.\\n\\nStuck at home with a broken car whilst my PS4 and Switch are at my girlfriends, with Doom and ACNH, my PS3 (and Gamecube) are all I have. \\n\\nGonna finish this! pic.twitter.com/MrQDAjiYVG',\n",
              "        'Congratulations to UC CS:GO A taking it 3-2 over NKU A in the runback last night to win their bracket! Amazing play from all members of the team',\n",
              "        'Transvaginal mesh: Johnson & Johnson fined $344m for deceptive marketing to women\\n\\ntheguardian.com/business/2020/…',\n",
              "        'Ugh. I remember staring at Lina and drooling for days and even made her, just her, my screensaver. She looks so freaking good.',\n",
              "        'My League of Legends started having FPS spikes two days ago. Is this a sign I should stop playing?',\n",
              "        \"All my success in the past came from people that don't know a single thing about me. Time to go back to that audience.  I'm done with Facebook, not catering to that crowd anymore.\",\n",
              "        '@realDonaldTrump your plans to rush a vaccine out are fucked now buddy',\n",
              "        'Assassins creed odyssey 🔥🔥🔥🔥 probably my favorite out of the series',\n",
              "        '@FredTJoseph hey fred, Comcast cut the cable and now Verizon stays calling me to shut that too pic.twitter.com/CPWSrmueDg',\n",
              "        '@FortniteGame Making the storm water was the most retarded thing anyone could come up with. Smfh it’s like y’all wanna ruin ur own game 🤦\\u200d♂️',\n",
              "        'News from : GamesRadar+! :\\n   \\nRetailers are emailing customers to advise them that not all Xbox Series X pre-orders can be hono...\\n\\n  Download the #app ApplayGames for more news, videos and #games information:\\n  play.google.com/store/apps/det…\\n\\ngamesradar.com/retailers-are-…',\n",
              "        'Is our illiterate community thinks PUBG game is a killer then they must ban all the knives, guns, limit vehicle speed to 20 km/h and all the buildings in the country should be less than 10 ft height because they also cause thousands of deaths per year.\\n#UNBANPUBG',\n",
              "        'Still stuck on this madden.  Forgot i was streaming while working 😂😂😂@MoBeSoSlim  @MissFoxxybrown @yeynotgaming @Bink_GGAB @Refuse2HoldBack @good2be_ATaylor \\n\\nIm tryna play yard tho who down?',\n",
              "        'My games crew had a League of legends clash yesterday, and this is how all of my texting apps looked like.\\nI love these assholes xD pic.twitter.com/NT3CfSlteN',\n",
              "        '@RockstarGames I’m a veteran of gta and have been for years  and  absolutely lov the game but you really really really need to sort your game out hard!!!!!',\n",
              "        'Old lady threatened me and said she was going to cancel her Verizon service because I told her we dont work on computers and cant fix it......like bro what🤣🤣',\n",
              "        'i think that this PS5 behavior shit shining light on the fact that we want it cause its free not cause we cannot get it our selves who does not like free',\n",
              "        \"My main reason for wanting the #PS5 is because the next God of War will eventually be on it. Until I get that announcement, I'll probably be waiting on it. Especially since RE8 will be on PC anyways. :3 Overall I'm excited for the games though! :D\",\n",
              "        'Rip whole inventory on gamdom crash and stay skinless forever :)',\n",
              "        '@fpsnoted hello fake csgo pro',\n",
              "        \"Google  your name + horror + aesthetic.\\nI don't exist enough so I had to use my middle name too😆🤓 pic.twitter.com/nkKXdSW8OR\",\n",
              "        'My favourite 4 games\\nGod of War\\nRed Dead Redemption 2\\nUncharted 1\\nRise of the Tomb Raider',\n",
              "        'I actually really liked Assassin’s Creed 1',\n",
              "        'Im so glad @REALTOKYOJETZ made is alota y’all aint even peep that was her going viral on facebook rapping in a car a few years back. God is good 💕',\n",
              "        'All these memes of man beggin there girls for Ps5’s are so pathetic 😂',\n",
              "        \"now i'm just offended\",\n",
              "        'Thank you to everyone who joined me on my kerfuffle of a stream tonight. Monster hunter then battlefield then back to monster hunter. Jeez my teammates need to make up their minds lmao #twitch #MonsterHunterWorld #battlefield4 #swordandshieldonlychallenge',\n",
              "        'Sales decline in U.S. & Canada due to cancer claims. So the company decides to victimize people in the Third World.',\n",
              "        'Cyberpunk 2077 Outrage Blows Up! CD Projekt Red Devs Dispute & Call Out Crunch Story Misinformation buff.ly/3nw6Z3P',\n",
              "        '@EAMaddenNFL is Madden NFL 21 still charging $60 to stuff ads for MUT down our throats? All I want to do is take #minshewmania to the #SuperBowl',\n",
              "        'I love PlayStation in general. They always have my type of exclusives, more so than XB, but the PS5 design is not for me at all. I know I’ll get one eventually, but imma hide that thing somehow when I do lol',\n",
              "        'Africa Esports Championship is back with an exciting Season 2!💥\\n\\nFeaturing League of Legends, Tekken 7, FIFA21 & PUBG Mobile. \\n\\n🗣️Calling all #Zambian players to sign up now\\n👉To register visit: aec.africa\\n\\n @EsportsAfreeca #Gematrix #AEC2020 #Zambia https://t.co/oUmPCQvZSY',\n",
              "        'Like almost all the times. Ubisoft = problem. Will we receive these rewards later too @Ubisoft?',\n",
              "        'That’s the best one wtf?',\n",
              "        'Congratulations to all nominees, including our leader Amy Hall, for their Award of Excellence nomination! \\n\\nThe 37th Annual #AWMDFWGALA is going virtual on Facebook and YouTube Live this October 8th from 6-7PM to celebrate the fantastic work of our media community. pic.twitter.com/5WgCeXRPAy',\n",
              "        'Just beat my kill record in Team Rumble #Fortnite pic.twitter.com/HLNhEdKufO',\n",
              "        'PTA PUBG ban is unconstitutional in nature because it violates  article 18 of the constitution of the islamic republic of pakistan. The employees involved should be suspended\\n #PTALiftBanOnPUBG\\n#unbanpubginpakistan \\n#SavePakistanEsports \\n @PTAofficialpk @ZakaWaqar pic.twitter.com/Pxh87DXB2Z',\n",
              "        'Mori😻😻😻😻',\n",
              "        \"Watch StrapxAxHolic on Twitch! I think I'm pretty good at #ApexLegends twitch.tv/strapxaxholic?…\\n#twitch #StreamingLive #APEX #twitchtv\",\n",
              "        'Hey @verizonfios @verizon @VerizonSupport Why is my internet speed 360Mbps down\\\\327Mbps up when I pay for 1Gig symmetric services?\\n#verizonfios #fiosfail #speedtest #fiosfam\\n\\nTest is performed over a wired connection with CAT8 SFTP 40GB cables.\\nspeedtest.net/result/c/7cf7b…',\n",
              "        'i have just dreamed i was playing league of legends with korone and i was playing support shaco with a controller.........it was so vivid..............',\n",
              "        'TI9 BEST Plays & EPIC Moments The International 2019 Dota 2 zonestream.cx/ti9-best-plays…... https://t.co/DvexFpHvwg',\n",
              "        'It’s happening. Peasants are going to war for companies again.',\n",
              "        'Dusty depot 😌😌', 'This looks kinda clean!',\n",
              "        'How many of you have bought the season 6 battle pass for Modern war zone? Personally it’s fucking sicko mode 🔥🔥🔥\\n•\\n•\\n•\\n•\\n•\\n#CallofDutyModernWarfare #CallOfDuty #Warzone #XboxSeriesX #PlayStation5 #season6 #battlepass #COVID19 #youtubers #fun #videogames #mw #xbox #viral pic.twitter.com/rZR47HAdWV',\n",
              "        'GM Fam!!! hope you are all up and being great today.... jus wanted to take a second to thank all my followers for the support you guys are truly awesome💪🏾👍🏾🙌🏾... #stateofdecay2 #ghostreconbreakpoint #RedDeadRedemption2 #SmallStreamerCommunity',\n",
              "        '@whoisaddison I made a fortnite montage for you:)',\n",
              "        '♥️ Suikoden 2\\n1️⃣ Alex Kidd in Miracle World\\n😢 Persona 3\\n😂 Soul Calibur 2\\n🤬 League of Legends\\n⚠ Nier Automata',\n",
              "        'I wanna do this shit',\n",
              "        'John Legere is up to his old tricks again, mocking Verizon on social\\xa0media tech.dsmenders.com/john-legere-is… https://t.co/PjK8DB02kz',\n",
              "        'At the start of the gen we had these were a few of the cross gen titles on both consoles\\n\\nAssassins Creed Black Flag\\nBattlefield 4\\nCall of Duty Ghost\\nDestiny\\nWatch Dogs\\nMetal Gear Solid\\nThief\\nThe Evil Within\\n\\nWe got these exclusives\\n\\nKillzone\\nInfamous \\nDriveclub\\nKnack pic.twitter.com/JxUhGaKoh0',\n",
              "        'Preparing Pi Day activities for next month? Add this one to your list! (Thanks @D_EttaWhitlock for sharing!)',\n",
              "        \"Sony: doesn't announce the price \\n\\n#PlayStation #PlayStation5\\xa0 #Playstation5reveal #PS5\\xa0 #PS5Reveal\\xa0 #PS5memes \\n\\nle Pakistani awam: pic.twitter.com/KuvRxpUhwj\",\n",
              "        'Flip The Fuck Out!!!! Cyklon30001189  just joined the Kingdom on Mixer mixer.com/deduke #mixerPartner #mixer #streamer #Xbox #CallofDuty',\n",
              "        'Itching to assassinate \\n\\n#TCCGif #AssassinsCreedBlackFlag #AssassinsCreed #TheCapturedCollective pic.twitter.com/vv8MOGtCjw',\n",
              "        \"See😒😒😒 this the mess I'm talking about smh. Tryna play before I head into work ugh. Now I gotta wait 🤬🤬 #ghostreconbreakpoint instagram.com/p/CFKOwBiFdrv/…\",\n",
              "        'lets stop using good, popular songs for shitty fortnite montages please. it’s just a disgrace to the song.',\n",
              "        'Amazon stops accepting new online grocery customers as it cuts hours at Whole Foods stores dailymail.co.uk/news/article-8… https://t.co/jn7OMaLq3n',\n",
              "        \"@PlayCODMobile @M2Games2 i love the call of duty, more unfortunately i'm having a lot of audio bug, every time i'm playing the BR mode of the game, the audio just stops, then i have to close it and open dnv the device i'm using is iOS.\",\n",
              "        '@GhostRecon #GhostReconBreakpoint just took down a Terminator pic.twitter.com/qjrq9IC3be',\n",
              "        'what a joke #TomClancysRainbowSixSiege #XboxShare pic.twitter.com/flxOM0xVub',\n",
              "        'Dang there goes my birthday present but maybe this will be better',\n",
              "        \"This guy is one of the best content  creators i know . He's different  and unique !!!! Watch out for him.\",\n",
              "        '😎 @Crystallize99 became the top of EU MMR leaderboard! Congrats! 💪\\n\\n📰: navi.gg/en/read/text/6…\\n#navination #Dota2 https://t.co/RFBDlPN7sO',\n",
              "        '@Rainbow6Game I got removed from the game, because I lost connection and now I cant join the match anymore which will result in me getting a half hour ban pic.twitter.com/Cyevf77veM',\n",
              "        '🤔 Not sure where all your data is going? Frustrated by your kids using it all immediately? 😠 With the My Verizon app, the power is in your hands! ⚡ Download it now in the App store and via Google Play. 👍',\n",
              "        'Nice 👍 Follow 👉@pcgeekinfo👈\\nTwitter 👉@pcgeekinfo 👈\\nYouTube 👉youtube.com/pcgeekinfo👈\\n\\n#drdisrespect #rgblights #pcgaming #pcmasterrace #pcsetup #pc #gamer #gaming #amd #ryzen #nvidia #titanrtx #meme #intel #pcgamer… instagram.com/p/B7hZxc1hUpF/…',\n",
              "        'I thought dis nigga meant in her ass 😔', '@ your wow buddy',\n",
              "        'I really, really hope Microsoft don’t do the taking away previously multi-platform stuff. It fucking sucks, it’s always fucking sucked.',\n",
              "        'Want awesome hosting for #gmod #minecraft #teamfortress2 #rust #csgo etc visit (link: zap-hosting.com/smithtainment) and use coupon code \"Guushi-9103\" at checkout for 10% off #gamehosts #gamehost #hosting #serverhosts #websitehost #gamedev #win #unturned #mchosting #gameserver #hype',\n",
              "        'Biggest Gold Grubber yet and best game with Reno Jackson using his new updated zero cost hero power #Hearthstone #Battlegrounds pic.twitter.com/K48Xh5MkMA',\n",
              "        'Watch The New PlayStation 5 Demon’s Souls\\xa0Trailer myglnews.com/watch-the-new-…',\n",
              "        'cs go ranked! ENG/CRO #fresh twitch.tv/vugidrugi',\n",
              "        'A ban for Battlefield 4 player ItzAwwZy has occurred SEE DETAILS: bf4db.com/player/ban/117…',\n",
              "        \"Assassin's Creed III\\nI loved the opening! It makes you want to play the games before it! I will enjoy this more when I beat the other ones 1st! pic.twitter.com/oKwZXbNWXw\",\n",
              "        '@Xbox @majornelson I’d love to bring home a new Xbox Series X, but they are all sold out. So the emails are VERY misleading. Just sayin.',\n",
              "        'Across the Fourwinds is the first book of the Maidstone Chronicles #YAfantasy series. The beginning of a wondrous journey. (Amazon Reviewer) @MaidstoneBooks smarturl.it/ll9ggf https://t.co/daktuplybe',\n",
              "        '@RockstarGames I legit can’t open or set my fucking camp I’m red dead redemption you need to let gta die! And fix rdr2!!!I IT PISSES ME OFF THE THE GAMES BEEN OUT FOR A YEAR AND YOU HAVNT DONE SHIT!',\n",
              "        'AMD really got so scared of Nvidia’s ampere that they quit making GPUs and switched to bikes',\n",
              "        'FUCKING FINALLLLYYYYYYYYY',\n",
              "        \"Excited for #BlackOpsColdWar? \\nUp your gameplay with high speed and response that doesn't compromise on image quality and sound.\\nbenq.com/en-us/knowledg…\\n#COD #gamingmonitor\",\n",
              "        \"I can't stand your ass OMG!\",\n",
              "        'Rock on Mr. Black and keep being the most honorable cowboy in Red Dead Redemption 2 brother!! Cya next time!! 👍 🤘 pic.twitter.com/0ieH2Y86Q4',\n",
              "        \"It's Very Interesting If We Get Something For Smartphones By Nvidia\",\n",
              "        'Congrats to the NVIDIA NeMo team for the 1.0.0 release candidate!\\nReally excited to see NeMo embracing Hydra as the way to take control over the configuration madness that is machine learning! :)',\n",
              "        '\"Great storytelling, peppered with detail that brought the world to life make this easy to recommend.\" Amazon Reviewer. #mystery #cosycrime #readindie mybook.to/ClencherMill https://t.co/C5LIhX0T2x',\n",
              "        'another reason why QT is superior 😌',\n",
              "        'This official Microsoft Trailer of #microsoftflightsimulator is simply stunning. Wow! I have to upgrade my PC asap\\nyoutube.com/watch?v=gKIBNs…',\n",
              "        'Red Dead Redemption 2 – Xbox One bit.ly/2WC9CXM #videogames https://t.co/TSEGBIniLz',\n",
              "        'wtf',\n",
              "        \"Call of duty warzone (livestream) w/ subs #Warzone youtu.be/7BhH_pjOMU4 via @YouTube Please come watch this AMAZING Call of Duty Warzone stream from this AMAZING streamer! It'd be really, really nice to give him some views and likes as well! 😀 #COD #CallofDuty #Warzone\",\n",
              "        'Thank you waqar bhai finally pubg unbanned 😍😍😍😍\\n#WaqarZaka pic.twitter.com/PgeaDhPtNc',\n",
              "        '@NyxJacob Thanks for entering Grand Summoners #OnePunchMan #instantwin #sweepstakes 🎉\\n\\nWatch the video to see if you won a $100 Amazon gift card! ✨Retweet every day for another chance to win!🌟\\n\\nPlay GS Global now for a FREE ★5 One Punch Man Unit!👊 https://t.co/WDX2C4Vy6u',\n",
              "        'Adrian Thomas, the vice president of the scandal-ridden medical and pharmaceutical giant Johnson & Johnson , rounded off the group. Thomas is responsible for pandemic care at J&J, including the development of vaccines against Ebola, dengue and HIV. And there was also Martin',\n",
              "        \"I SAW A TWEET ABOUT HOW IT'S A STORY TOLD OVER AND OVER CUZ THEY'RE MAD MEN DIED IN THE WAR AND IT DIDN'T HAVE BATTLEFIELD 1 TREATMENT, I CAN'T EVEN THINK OF ANOTHER WW1 MOVIE PPL WOULD EVEN KNOW\",\n",
              "        'A Bigram Poem inspired by WileyEd:\\n Amazon Personalize \\n Personalize can \\n can now \\n now use \\n use 10X \\n 10X more \\n more item \\n   -Ed Wiley',\n",
              "        \"Am I the only one who doesn't want to go back to work? Now I've had a taster of it, I really do like being a full time streamer 😭😭 #Streamer #StreamersLife #ModernWarfare #CallOfDuty #Fortnite #Minecraft\\nGo follow my page please everyone let's blow it up\\nFacebook.com/SteveCavGaming\",\n",
              "        'ryan makes me feel like such a baby i love it i love him so much i just wanna feed him a burrito bowl and hold his hand and suck him off while he plays overwatch and go on cute culvers dates w him AAAAHHH im in fucking LOVE',\n",
              "        'Good to know👇',\n",
              "        'In L6 mi remember when the two man dem did a fight over a FIFA match.\\n\\nTo be honest it was more of a personal disrespect than the actual game.\\n\\nBUT STILL.',\n",
              "        'Wilson 💛',\n",
              "        '@PlayApex servers are whack 🙃🤷🏻\\u200d♂️ #ApexLegends pic.twitter.com/A1pzbN3jg7',\n",
              "        'Seems like #Playstation has the marketing deal for #CallOfDutyBlackOpsColdWar \\n\\nFeels good to be treated well by Playstation 🙌',\n",
              "        'a man on top for that fortnite song',\n",
              "        'Covid19 Vaccine: Big shock to Corona vaccine, Johnson & Johnson stops all\\xa0trials thekhabarbharat.com/india-english/…',\n",
              "        'When I search for a game and a map comes up that I don’t want to play and I leave it should be black listed from my que. SBMM is dumb and I hate it @CallofDuty',\n",
              "        'I just earned the [Rare to Well Done] Achievement! #Warcraft',\n",
              "        \"I didn't have massive success in #IndieApril but I am happy because I saw two reviews on Amazon today. And they made what has been a crappy week in my personal life, a little better\\n#ReviewMay #Darkfantasy\\nHere's one detailed review\\n#NeverGiveUp you will find your audience ☺️ pic.twitter.com/ysjlEgGY7w\",\n",
              "        'AOC you make some very ignorant comments\\nWhen you come to Wi, can we meet .',\n",
              "        '#XSXFridgeSweeps \\n😂 Amazing',\n",
              "        'the NVIDIA Broadcast amp came out right now and suddenly, I find myself practicing... pic.twitter.com/YHpZj8h8wT',\n",
              "        'First Community ban with 13/11 K/D after killing someone via shooting his exposed legs. I wonder that me who struggled getting 1+ K/D would be suspected hacking, why that 30/0 K/D guy was not the first one, or is this the complement for my skill? #BattlefieldV #CommunityGames pic.twitter.com/jFbEfGFNV7',\n",
              "        'May is gonna be awesome 😍',\n",
              "        '@GhostRecon so far playing the new update, the stamina is pointless even on extreme if you have upgraded it and have a ration never runs out, losing bullets on reload is pointless when you have like 300/400 rounds, Sam fisher missions are buggy as hell, good thing no gear level',\n",
              "        'Woooooo! @juice_ez just hit gold rank in #RainbowSixSiege!!! Nice job man!\\nStop by and check him out sometime!!\\n\\n#HourPower #streamer #twitch',\n",
              "        \"Seeing Amazon Prime marketing Borat by getting him in TikToks, vlogs, YouTube videos is amazing.\\n\\nWorld's changing, if you still doubt the power of an online audience, it's time to quit.\",\n",
              "        'OneSearch, Verizon Media’s new search engine, sounds awfully familiar dlvr.it/RNFth4 https://t.co/Imf8rzmzCc',\n",
              "        'This is chilling',\n",
              "        'Madden NFL 21\\n[PS4 - 65] metacritic.com/game/playstati…\\n[XONE - 69] metacritic.com/game/xbox-one/…\\n[PC] metacritic.com/game/pc/madden…\\nGameSpot: \"With far more technical issues than normal and large chunks of recycled content, Madden NFL 21 feels more like an update than a brand-new game.\" https://t.co/vRrgu2aspc',\n",
              "        \"I'm excited to announce our partnership with @VolvicDE. The cooperation with Volvic is an exclamation mark in German esport. At the same time, it's an award for our success in @LeagueOfLegends and the tremendous efforts of our team and staff behind the scenes. Thank you! pic.twitter.com/c6eLixSdZK\",\n",
              "        \"I'm getting a lot out of Red Dead Redemption 2 right now, the game enables me to do a lot of dumb things and generally be an idiot.\\n\\nfeelsgoodman\",\n",
              "        'The Nvidia Shield is my daily driver but I like to recommend the Roku platform as it has nearly universal app compatibility.',\n",
              "        'Fuck my mates #CallOfDuty #ModernWarfare #CallOfDutyModernWarfare #PS4 #PS4share pic.twitter.com/rq7o2ruIAP',\n",
              "        'This man is so wholesome 😭💖',\n",
              "        'This card is magnificent. \\n#nba2kmyteam #sfcrabs #pinkdiamond #sprewell #NBA2K #spree #myteam #cards #Grinding #NBA2K20 pic.twitter.com/2IqsF9zQw0',\n",
              "        '1. buy CS:GO or TF2 item off SCM\\n\\n2. enjoy it for 1 week\\n\\n3. want something else\\n\\n4. sell that item (lose money cuz valve fees)\\n\\n5. buy new item\\n\\n6. repeat until money gone',\n",
              "        'Suspicion and Anger Towards Microsoft Rises After Windows 10 Search Failure \\ntech.slashdot.org/story/20/02/09… \\n\\nEven local file searches on users\\' own PC\\'s were failing, yet Microsoft blamed a \"third-party networking fiber provider\".',\n",
              "        \"Thanks @RockstarGames , you're rock stars!  #RedDeadRedemption pic.twitter.com/ztc25UcGRl\",\n",
              "        \"LMAO...this country is fvcked up. JFC, just saw a Johnson & Johnson commercial--You know, the folks with toxic talc causing cancer--talking about how they're working round the clock for a #Covid19 #Vaccine.\\n\\nLine up folks! Roll up your sleeves.\",\n",
              "        'Never popped the ice block #Hearthstone pic.twitter.com/BCsZlhJHPF',\n",
              "        'dont forget tpci is partnering with t*ncent  for a mobile pokemon league of legends and league being league aside, t*ncent is a really shady+shitty company and will likely be featured',\n",
              "        'I have a brand new pc drivers are all up  to date and all but game is still crashing what is going on @Rainbow6Game',\n",
              "        'Johnson & Johnson to stop selling talc baby powder in U.S. and Canada j.mp/3e1YtDV (Reuters) https://t.co/dsaUTgb5p9',\n",
              "        'A look into progress on the Rivian and Amazon co-developed electric delivery vehicle youtu.be/lKpOE8eulXM it’s kinda wild that Alexa and Tesla are becoming the most important car OSs (instead of android and iOS)',\n",
              "        'Best trailers this decade\\n\\n1)CS GO\\n2)Baahubali 2\\n3) The Dark Knight Rises',\n",
              "        'Squadwipe turn n burn #ApexLegends #XboxShare pic.twitter.com/leg3GbD82j',\n",
              "        '#ModernWarfare sd the best fps out! was in love with #RainbowSixSiege but the toxic community and random operator nerfs based on players \"frustration levels\" lost me, #ApexLegends is dope too tho, #fortnite is cool, pubg made about 100 mil and only added new landing controls gg',\n",
              "        \"@IngameLeader is a social enterprise that uses esports to help at-risk-youth 'get off the streets' & improve their mental health 🥰 - Throw some love their way by following them!  #esports #csgo #LeagueOfLegends #FollowTheIngameLeader\",\n",
              "        'Congratulations to Borderlands Research Institute for their recent grant in the amount of $80,000 from PCQC. BRI is dedicated to the study of Montezuma quail in the Trans-Pecos region in order to better understand its population projection. #quailhunting #quailconservation pic.twitter.com/JgjgyBt4U1',\n",
              "        'Bro I had an abusive internet boyfriend that used to call me a stupid bitch whenever niggas used to like my pics on facebook and I used to beg him to not be mad at me. I was such a stupid bitch FOR REAL',\n",
              "        'The Russians from cs:go are starting to invade Osu...',\n",
              "        'xboxaimbot.com is the greatest site  to get free modz  #fortnite #pubg #aimbot #cheats #apex #xbox #playstation #gamer #xboxone #vbucks #switch #warzone #pubgmobile',\n",
              "        \"Stream on Borderlands 3 tonight at 8pm! \\nCome and say hi, it's always a pleasure to see on on the stream guys ☺️\",\n",
              "        '🎉NOW 99¢ \\nA notorious Blockade Runner\\nA mysterious Heiress\\nAn inconvenient Secret...\\n❤️THE TROUBLE WITH MISBEHAVING ❤️\\n#Amazon US buff.ly/2onOvp2          \\n#iTune buff.ly/2GSFjCw\\n#AmazonDeals #RomanceBooks #Kindlebargain https://t.co/q4phKJUtVv',\n",
              "        'So yesterday, I decided to go back to Overwatch... and I forgot just how much I loved playing it. Now all I want to do is play it and do nothing else >.< I mean, the event is on atm.. gotta get me that Pharah skin as I have Anas already! 💛',\n",
              "        \"@NBA2K if 2K21 anything like 20 again I'm never buying a game from y'all again. Make the game like 2K16\",\n",
              "        'WTF HAPPENED SJDKDKS #GhostReconWildlands #PS4share\\n\\nstore.playstation.com/#!/en-gb/tid=C… https://t.co/B80CZPXmfL',\n",
              "        'YOUR PATHETIC Freeze Cannot Stop MY MINIONS | Hearthstone Daily Moments Ep.1465 gameforce.jp/hearthstone%e3… https://t.co/H0Q9zjH8GF',\n",
              "        \"Stupid 19-year-olds who write bad poetry need to get away from the computer and talk to real people who don't believe in vampires.\",\n",
              "        '@HenTwitch  go team happy hen house 🏠',\n",
              "        'anyone who thinks that otherwise perfectly quality media can’t be ruined by it’s message, ethos, or aesthetic needs to sit down and explain why they don’t like the call of duty games, especially if they’re a shooter fan',\n",
              "        '#WorldCupAtHome: Five African matches you would love to see from FIFA googlehits.com/worldcupathome… https://t.co/Lvr8g2vhsn',\n",
              "        'What does that say about Microsoft hardware & software security - The Man gets hacked',\n",
              "        'This is @xMusti070 and he is trolling people again... 😂😂\\n\\n#sco #bciw #troll #battlefield5 #bfv #onlyinbattlefield',\n",
              "        'Dow off 50 points at midday; P&G, Merck, Exxon, Chevron, Home Depot pace retreat on.mktw.net/2Xaf3Lg',\n",
              "        'Had fun in Red dead redemption tonight! Thanks all to who tuned in! clips.twitch.tv/TsundereLightR…',\n",
              "        'I do like this hearthstone pic.twitter.com/ef2LVsY44m',\n",
              "        'Free Cyberpunk 2077 Stick Bug over here\\nyoutu.be/rsHt9rTahgg\\n#Cyberpunk2077 #stickbug #cyberpunk https://t.co/GzMpgSpygq',\n",
              "        'First we had code leaf, and now we have the pleasure to present code shoe thx @PlayApex pic.twitter.com/gTabW18JhP',\n",
              "        'Just finished Assassins Creed Odyssey through @Shadow_Official @Shadow_NA from the beginning to the end. Thanks for the amazing gaming experience on your service 👏',\n",
              "        'Youre doing gods work 😔✊✊',\n",
              "        'EA bans prominent FIFA streamer Kurt0411 from all its games over toxic\\xa0behaviour tinyurl.com/yxyvwh2q https://t.co/3vXkirxvOq',\n",
              "        'Score Streaks are the worst thing to happen in Black Ops Cold War 😫😫',\n",
              "        'I’m honestly super hyped for this next @Rainbow6Game season, but I’m gonna miss old house',\n",
              "        '@TMobile you guys are really slow in Tuba city.  Az.  Makes people go to Verizon.',\n",
              "        '@G2esports: brings together a european league of legends super team that won the mid season invitational and almost won the world championship\\nalso g2: is 6th on the domestic leaderboard',\n",
              "        '@Rainbow6Game @SpearheadBeer best combination for enjoying the Pro-leagues before I head to Montreal to see the finals live. pic.twitter.com/O5gX0vf2Gz',\n",
              "        'Flank with 9 kills #battlefieldV  #BFV #PS4share\\n\\nstore.playstation.com/#!/tid=CUSA005… https://t.co/aUOvyejztc',\n",
              "        'Fucking imba this demon hunter',\n",
              "        'This was crazy disrespectful. The other QBs could see the field from the locker room',\n",
              "        'Funny how this issue is not HUGE during this pandemic. In fact, it only states that T-mobile is affected but I’m a Verizon customer and I can’t even call out... #Tactics',\n",
              "        'fuck my life 😆',\n",
              "        \"Early adopters get arsed once again.\\nAs I've promised the low price tags will come with at a price.\\nGigabyte confirms #RTX3070 16GB and #RTX3080 20GB for October 2020\\nQuestion who needs 16 or 20GB VRAM? If you want to use it some years at 4k makes sense\\n@WSV_GUY\\n#NVIDIA #rtx3000\",\n",
              "        \"@EAHelp I haven't been able to log on to Battlefield V on XBox One and a friend encountered the same issue. We just can't go in and data won't sync. However, BF1, NHL 20 and all other games I have appear to be fine though. Why is that?\",\n",
              "        'zysola.blogspot.com/p/welcome.html… #zysola #tech #technews #techworld #technology #innovation World of Warcraft had been rated for Xbox Series X in Brazil The l',\n",
              "        'This has to be my favourite cinematic in all of World of @Warcraft pic.twitter.com/zlCC1HsQ3l',\n",
              "        \"This dangerous 'party drug' has been everywhere — even on Amazon nbcnews.com/feature/nbc-ou… via @nbcnews\",\n",
              "        'This is fantastic!',\n",
              "        'People who killed Michael or Trevor at the end of gta probably doing hooligan shenanigans right about now',\n",
              "        'It’s now been over 18 years since I was a beta tester on Xbox Live. It’s been amazing to watch online gaming grow in that time along with the innovation Live has brought to the industry. \\n\\nGreat memories and looking forward to many more next-gen.✌🏻#Xbox #XboxSeriesX #XboxShare pic.twitter.com/M8QO42Y2Pf',\n",
              "        \"Playing through the second week of Galakrond's Awakening. Still no decent internet, but maybe later this week. twitch.tv/old_guardian #Hearthstone #Twitch\",\n",
              "        \"Playing through the Witcher 3 again and the Novigrad's quests and the atmosphere make me even more excited for the @CyberpunkGame. Can't wait to get to the Night City.\",\n",
              "        'This was easily the best Fifa. First time with secondary divisions, off the ball control, free kick spin and placement. And an original soundtrack to vibe to. Unmatched. #fifa #EASPORTSFIFA #fifa2004 pic.twitter.com/LMzXeAgopr',\n",
              "        'Eivor can crush me with her thighs', 'Holy shit',\n",
              "        \"I'm getting some Resident Evil vibes from my characters original look. #TomClancysGhostReconWildlands #TomClancysGhostRecon #TomClancy #GhostReconWildlands #GhostRecon #Ubisoft pic.twitter.com/LWLp9XAPej\",\n",
              "        'Praise and Shame for\\xa0Facebook mockpaperscissors.com/2020/06/18/pra…',\n",
              "        '@Rainbow6Game when will you ban mnk/cronos players on console? The game will die on ps/xbox because of that cheater. 😭',\n",
              "        'FIFA 20 is honestly the biggest pile of shit excuse for a game ever created. The game is played at 2 miles an hour. Slow clap for EA.',\n",
              "        'I have noticed streamers I watch who are now playing other games other than Battlefield V are more relaxed as well as having a better state of mind.  Has Battlefield V really had such a impact on peoples mental health?  It seems so.  #BattlefieldV',\n",
              "        'MELUSI 4k are you shocked! @Justhoneybadger @simmyster06 @walkerpool @Mdassassin007 @OWahid65 #Rainbowsixsiege pic.twitter.com/0ACuQjtvGL',\n",
              "        'Trump reportedly clashes with AT&T, Verizon, and T-Mobile over spam texts so make an AI to filter this as everyone hates spam in every single thing. theverge.com/2020/7/23/2133…',\n",
              "        '@PlayApex  can you guys please fix the disconnect reconnect issue it really sucks getting penalized in ranked for a disconnect and dying you need invincibility or something we’re you can get killed cuz it’s really bullshit',\n",
              "        'Omg FOV Slider 😍',\n",
              "        \"Hella excited for tonight, as always! 👀\\n\\nI'll be participating under @AceOfPyrite's leadership, and I'm looking forward to a terrific evening of #RainbowSixSiege!\\n\\nIf you're looking for some Siege to watch, swing by and say hello, from 19:00 BST! 👍\\n\\ntwitch.tv/rainbowsix_uk\",\n",
              "        'yeah and it’s fun',\n",
              "        'Washington: US pharmaceutical company Johnson & Johnson said Monday it had paused its COVID-19 vaccine trial because one of its participants had become sick.\\n\"We tamilnaduchronicle.com/johnson-johnso… https://t.co/ReEi1SDPsc',\n",
              "        'I’m addicted to call of duty mobile😅',\n",
              "        'Why didn’t anyone think of this acronym for BLM (Batteries Lives Matter) @Microsoft pls fix this problem and give us built in batteries like how @Sony has for their controllers damn!',\n",
              "        'By far my best stream without a raid!! We were hovering around 12-15 viewers for about an hour and gained a boat load of follows. Much love!! #WubbleNation #fortnite #savetheworld pic.twitter.com/ONtb94ufAj',\n",
              "        'This was a very messed up little duel #battlefieldclips #battlefieldmemes #bf #battlefield #battlefield4 #twitch #twitchstreamer #twitchaffiliate #twitchtv #twitchclips #twitchgamer #youtube #youtuber #youtubers… instagram.com/p/CDWTLDhjUmF/…',\n",
              "        'This is so cool!', 'Fuck I missed this',\n",
              "        '@Warcraft Can you explain this bullshit? Thanks pic.twitter.com/Wel3cU4KnZ',\n",
              "        \"@UPS 2 bad she was not n place wen ups cust reps decided 2oss my $1600 last nov 2019! Wen ur reps won't do something 2 a oid disaster ur. Rand integrity s called n2 question. Trust means a lot. 2 mo ths disability benefit!\",\n",
              "        'A ban for Battlefield 4 player Gariblak has occurred SEE DETAILS: bf4db.com/player/ban/196…',\n",
              "        'Super happy to work with @WIHSesports to make this opportunity happen for students.',\n",
              "        \"Yo! @Verizon just added a $120 'fee' to my account under #COVID19 protection without my permission and I am forced to pay it! Check your bills carefully!\",\n",
              "        'Rue it´s so beautiful😍❤️\\n\\n#Fortnite #FortniteArt #FortniteSeason3 #digitalart #digitaldrawing pic.twitter.com/OrQuuDxMvJ',\n",
              "        'This is amazing!',\n",
              "        'Stupid little fucking baby children  are just full-grown adults copy-pasted in microsoft Paint and squeegee-ed down disproportionately but with the same lack of dancing skills at public weddings',\n",
              "        'Shipped first GPU-enabled production code through #bravetools! #LXD  makes it easy to passthrough host hardware and @nvidia drivers, while bravetools abstracts configuration and makes it easy to automate for all future releases 🚀 #AI #devops #OpenSource \\n\\ngithub.com/bravetools/bra… https://t.co/92K5MYIaXx',\n",
              "        'The best thing I could’ve done for my #mentalhealth was delete Facebook.',\n",
              "        'This is a really disappointing move by Remedy. Bought Control day one with the season pass but will only get the PS5 upgrade if I rebuy everything again repackaged in the Ultimate Edition??',\n",
              "        \"I FINALLY finished Borderlands 3! It's taken a while, but I'm so proud of myself. :D Now onto the Guns, Love, and Tentacles DLC, I'm so excited! I love Wainwright and Hammerlock so much and they make a great couple, so seeing them get married will be awesome!\",\n",
              "        'So glad I never joined Facebook.',\n",
              "        'Driving through New Mexico is like driving through Red Dead Redemption',\n",
              "        'We may not be able to stream today you lot we have a problem Xbox is not letting me stream Fifa 21 and it’s so annoying I’ll try and find ways arround it and might still be able to stream but if not I’ll keep you updated on when I’ll be live again 😢',\n",
              "        \"Welp, #ghostreconbreakpoint 's immersive update got delayed until later next month... pic.twitter.com/rqk5e2fE10\",\n",
              "        \"It's about fricking time!\",\n",
              "        \"If only it was that simple, if you read the comments most customers are complaining about how shady they are with information. Its tacky and disgusting to see especially when nothing fully good has came out. Wait dont mind waiting, just let us know before we get our Hope's up\",\n",
              "        'Grand Theft Auto V PR #PORTUGALIA   adymonteiro.live/home',\n",
              "        'Dude I hope next Battlefield brings back moments like these that make you rethink reality. I loved those. #onlyinbattlefield.',\n",
              "        'Amazon Hit From All Sides as Crisis Highlights Growing\\xa0Power thealexanews.com/gadgets/amazon…',\n",
              "        \"How is banning #PUBG going to fix anything? All it's gonna do, is make everything worse. What do they expect people to do in this lockdown?\",\n",
              "        'Red Dead Redemption pic.twitter.com/qNN6Cnz5YQ',\n",
              "        'I knew Home Depot was so fucking toxic when I’d be told “you’re not doing your job how we want you to” but when a customer wanted to reward my services and tell the managers, they’d be like ok and?',\n",
              "        \"I wanna play Shooty McLootyguns with more people (Borderlands 3). Recently solo'd the Maliwan Takedown mission and Torgue's Slaughterhouse 3000 on Mayhem 3. Was some of the most intense and fun FPS gameplay I've had in years.\",\n",
              "        \"I started getting back into playing Battlefield Hardline.\\n\\nIt's different than the other games, but very interesting urban warfare and interesting weapons and gadgets.\\n\\n#BattlefieldHardline\",\n",
              "        'WTF',\n",
              "        'Watching @LuluLuvely vids always hype me up 🔥 LETSA GOO! @PlayApex',\n",
              "        'Playing fifa with my girl.  She got her first goal against me and someone won’t shut up 😩',\n",
              "        'had to go underground to get a double kill 😂\\n#GhostReconBreakpoint pic.twitter.com/kLrt7khDBg',\n",
              "        'Please explain how this is possible! How can they let companies overcharge for this? It’s a scam! @amazon shame on you! pic.twitter.com/MQB7BUPthx',\n",
              "        'Failed pubg mobile youtu.be/Qz00Pth41sw via @YouTube',\n",
              "        'Joe Buck is excited when  Hearthstone',\n",
              "        \"I couldn't make day 2 of MT Madrid despite getting a tremendous amount of support from my friends & everyone in the Hearthstone community. \\n\\nTruly disappointed in myself. I'm sorry :(\",\n",
              "        'Amazon has the coolest shit I never thought I needed so I just purchased these hooks that attach to the passenger seat so that you can hang your purse!!!! I’m so excited',\n",
              "        'Great job guys @Peter_shirley and @withyounotsmwhr',\n",
              "        'Shadowverse  looks cool but it looks like hearthstone mean that I could get addicted to it and that’s the fear i fear',\n",
              "        \"Wtf is going on with the new Playstation update? Now we can't make open parties anymore or see anyone else's parties unless you're invited.. @AskPS_UK Also on top of that the Siege servers are connecting. I definitely won't finish my battlepass in time. @Rainbow6Game\",\n",
              "        'Finally finished Red Dead Redemption 2 after nearly a year and a half of play. How does something so immersive, with so much detail on such a grand scale even manage to get produced? Its nothing short of both an engineering and artistic miracle',\n",
              "        '#XSXFridgeSweeps\\nI need this in my life so badly',\n",
              "        \"instead of using suitcases for moving to uni and having to find a place to put them in buying boxes from home depot and then recycling them... i think i'm a genius\",\n",
              "        'They had a lawsuit over the opiates and the baby powder scandal why would they trust J&J?',\n",
              "        'I am dota 2 dota 2 i like happy  -  Casey',\n",
              "        'Thank you \\n For wanting me to stay home and play some of FIFA\\n\\n@EASPORTSFIFA @EAHelp pic.twitter.com/7Vw03AfLay',\n",
              "        '$1000 wasted',\n",
              "        '@GhostRecon There has been a sound issue since the latest update, when playing with friends, you can hear their weapons when they are firing them, just clicking sounds or no sounds at all. Please fix:)',\n",
              "        'Red Dead Redemption 2! Now live on twitch.tv/marcel_kiefer',\n",
              "        '👍 on @YouTube: PUBG BEST KILLS | 48 SQUAD KILLS | 26 SOLO KILLS | Skreams Gaming | BEST KILLS RECORD | Dadaabhihai youtube.com/watch?v=7Jc7dz…',\n",
              "        'Know Your History...unless it involves China....because like....we have investors and shit...',\n",
              "        '@XboxP3 delay the Xbox Series X what’s the point now that Halo has been delayed.',\n",
              "        'No fucking thank you 🖕🏻🖕🏻🖕🏻',\n",
              "        'my ass still knee-deep in Assassins Creed Odyssey with no way out anytime soon lmao',\n",
              "        'Man FIFA 19 was my game despite how shit it was, shame I can’t play FIFA 20 so I can wanna rip my brains out again',\n",
              "        'I got the horses in the back #PS4live (Red Dead Redemption 2)  live at youtu.be/9BVKh67OaEI',\n",
              "        'So much for Draenor flying. 😂', 'MOTHER. OF. GOD.',\n",
              "        'I love u guys', 'It was true epic, omfg',\n",
              "        '🤣👉 @KEEMSTAR Ya know, the social media STI?\\n\\n🤡 is going after the video game blogger @TheQuartering 👈😏\\n\\nWhy?! Who fuckin’ cares. 🤦\\u200d♂️ Just wanted to point out where KEEM is at in life. 🤣 Painfully lame.\\n\\n#gamers #PS5 #XboxSeriesX',\n",
              "        '\"league of legends is honestly the best game ever created\"',\n",
              "        'Sigh... you’re a god damn idiot',\n",
              "        'Red Dead Redemption 2\\n@RockstarGames\\n#RDR2 #RedDeadOnline \\n#OutlawsForLife \\n#PS4share pic.twitter.com/QHk7zNRwM8',\n",
              "        'GTA Online Best Vehicle Discounts (17th September 2020) - GTA 5 Weekly C... youtu.be/-7FxZ2XzbRI',\n",
              "        'mixer.com/SirDover357?ut… #Mixer #SmallStreamersConnect #ApexLegends #Ranked #Pathfinder',\n",
              "        'This week in Disruptive Tech, curated by @rmnth \\n\\n1. PUBG Ban 📵: A twist in the tale\\n\\n2. Why Facebook’s political-ad ban is trying to tackle the wrong problem\\n\\n3. When law enforcement 🚓 meets predictive algorithms 👨🏻\\u200d💻\\n\\nfoundingfuel.com/column/this-we…',\n",
              "        'Delete techies pls fck u @DOTA2',\n",
              "        'release the woltk expansion the best one from far @BlizzMilkfat @Blizzard_Ent @Warcraft @mikemorhaime Day7 pic.twitter.com/FgplmASTT8',\n",
              "        'Doing anything in extreme will cause  consequences...banning pubg is not the solution! #UnBanPubg',\n",
              "        '@PlayApex  @Respawn  Hey Respawn,just now played the first quest for this season.....OH Boy You did a great job on the story and the PVE Mode....Cant wait for the next one....Awesome work',\n",
              "        \"So after the past 9 days of streaming on the bounce, and last nights insanely brilliant session on #BrightPaw, i've decided to take a couple of days off stream until Thursday night where i will be trying out the new Borderlands 3 DLC with @SirCuddlyPants!\\n\\nPsi Out! 👊❤\",\n",
              "        \"but.... the new nvidia 3000 series gpus are also looking appealing. a 3070 has better performance than the 2080 for  half the price... that's crazy. I'm struggling between saving up for a 3070 or saving up for a ps5....\\n8:14 PM · Sep 16, 2020·T\",\n",
              "        'All most got that ace in ranked #xboxclips #RainbowSixSiege #clutchwin clutch.win/posts/breezier…',\n",
              "        'Really!!!!!! @CallofDuty @InfinityWard #CallofDuty #Warzone #ModernWarfare\\n\\nstore.playstation.com/#!/en-gb/tid=C… https://t.co/qTVaWqj9Gk',\n",
              "        'Smh',\n",
              "        \"I used to think Ellison was an ok guy, this just PROVES that Trump is into making ALL his friends money, and screwing with people.  I'm sorry Microsoft :( ...stupid POS POTUS!!!\",\n",
              "        'the chopper shot is stunning 🔥',\n",
              "        'Really enjoying the new 50bmg in #ModernWarfare , find it very satisfying hitting little clips like this (im not the best sniper but enjoy it) #CallofDuty\\n\\nThe Build I use is:\\nDictator barrel\\nTac laser\\nTac-Wrap stock\\nStippled grip\\nSleight of hand https://t.co/xZbblCYUZI',\n",
              "        '@EAMaddenNFL adjust @K1 ratings you clowns disrespected him GOING OFF',\n",
              "        'Man nothing makes me feel dumber than trying to play hearthstone',\n",
              "        'Congratulations to @ninamanning78 on publication day. Hope you have a fabulous day and that your book flies 😊📚🎉',\n",
              "        'Bout to fuck around and stream. \\n\\n@PlayApex grind and @Brawlhalla afterwards. \\n\\nmixer.com/ShinobiSZN #BitGang https://t.co/aBUpN6yjfV',\n",
              "        'Leaked FIFA 21 GTA 6 gameplay\\nopen the link for LEAKED nudes/photos of:\\nLana Rhoades\\nRiley Reid\\nAbella danger\\nMia Malkova\\nEva elfie\\nBrandi love\\nmia khalifa \\natumn falls\\nNicole Aniston\\nLena Paul\\n-Elsa jean\\n-harry styles\\n-john Cena\\n-bts\\n-zsmitty\\n-Zoe Laverne\\nbit.ly/32e2jXt',\n",
              "        '10 year olds trading on the stock market is scary news. It can instill good financial habits/curiosity. BUT. Equally high chances of it going the opposite way: seeding gambling tendencies, heavy losses from trading F&Os, or worse - this becoming the next Blue Whale. Not worth it.',\n",
              "        'the ps5 got fortnite? alr rip xbox',\n",
              "        'The recent Warzone and Modern Warfare patch has leaked tons of Black Ops: Cold War details including singleplayer campaign description, editions, and potential release date.  \\n\\n#CallofDuty #BlackOpsColdWar #ModernWarfare #Warzone bit.ly/3j6HYci',\n",
              "        \"Johnson&Johnson paused all it's trials related to covid-19 vaccines because one of it's volunteers developed an unexplained illness,then this! FOH!\",\n",
              "        \"When you're very bad and everything is panic, #Rainbow6 brings out my instinctual brain pic.twitter.com/5n8I9y3bIF\",\n",
              "        'Team Shy Military are your Runners-up in PUBG PC at the Showdown tournament organized by Gamer.LK. we wish them the very best in the upcoming tournaments. 💚💚\\n\\n#TM #Brotherhood #GreenArmy #TeamSpeak #1xBET #TMPUBG https://t.co/TR2AM06C2X',\n",
              "        '\"I\\'m really sorry for you, son, it\\'s a hell of a thing.\" - Arthur Morgan being diagnosed with Tuberculosis on Red Dead Redemption 2.',\n",
              "        '@EAMaddenNFL franchise and face of the franchise are both terrible. @NFL #NFLdropEA #NFLDROPSEA',\n",
              "        'Red dead redemption 2 #RDR2 #letsplay #playthrough youtu.be/JoysFxH2r9o',\n",
              "        '@EpicGamesTR @FortniteGame   My save the world glithced our and I didn’t get my 300 vbucks from save the world for daily log in. I pressed claim it worked but they are not showing up.',\n",
              "        'Love starting my day on twitter getting blessed by this Demon 🐺🔥',\n",
              "        '“sick of sidemen stans” oh you mean the people who called you out on your bullshit when you were too fucking lazy to post IMPORTANT petitions and to speak up and spread awareness for an important movement? but you had the time to post about fucking fifa and acted as if you +',\n",
              "        'You know how you buy consoles for specific games, I dead ass bought this card so that I can get the absolute best experience from @CyberpunkGame I want to absolutely immerse myself in this game. @NVIDIAGeForce ray tracing, all of that, I want it all. pic.twitter.com/neA45IHUvo',\n",
              "        'Damn', 'bro this is FIRE',\n",
              "        'Apple is a no for me, they don’t innovate anymore',\n",
              "        \"Ending season 3 by stealing someone else's kill and eliminating the kill leader. #Apexlegendsclips #gaming #gamer #youtubegaming #gamergirl #ApexLegends #XboxShare https://t.co/LsYMPnrl5d\",\n",
              "        \"5 games, 5 Mutuals\\n\\nPokémon\\nBorderlands (p much all)\\nSims 4 (haven't played in forever tho)\\nSpiderman PS4\\nSpyro Reignited\\n\\nUuuh I'm not good at this either\\n@CiaranStrange @Sasspiria @orionsuccs @msmarquise8\\nBleh\",\n",
              "        'Yuumi - super cool fucking cat\\nBraum - such a good person\\nNeeko - damn funny\\nJanna - she would take good care',\n",
              "        '@PlayApex @GH057ayame figure this.... @Rainbow6Game is the most simple concept... but an amazing game and still thriving after YEARS of success. you know why? they only listen to the comp scene..... figure it out shit bags',\n",
              "        'Bashing FIFA for no reason \\n\\nYou all are proving how insecure you hate lingers are from shehnaaz and her popularity \\n\\nJust because FIFA supports shehnaaz and SidNaaz \\n\\nOHh Myy Gawwwd\\n\\n#WeLoveFifaFooz',\n",
              "        '@idfckathy thank u for getting me the ps5 💙',\n",
              "        'GAMING GONE WRONG #11 - Fail Compilation (Red Dead Redemption 2, CS:GO, Black Ops 4 Funny Moments) funnyfails.video/gaming-gone-wr…',\n",
              "        '@IISirPootnickII  computer having some issues may die at any point. Going to chance a steam anyway. Cant sign into steam so be playing some @LeagueOfLegends  while we keep trying to get on. twitch.tv/iisirpootnickii #LootGoblinGaming #LeagueOfLegends',\n",
              "        'Good morning! It was so hot and gross last night I ended up pulling an all nighter go me!\\n\\nOn the plus, made some good progress on my Vindicator from #Cyberpunk2077 silver linings n all :) pic.twitter.com/1wcndhILCo',\n",
              "        'Communication is Key. We bust they ASS 😂',\n",
              "        'i used to work at home depot and all i can say is that their security can’t touch u or make u give them the merchandise and most of the younger employees don’t care if ur slick enough',\n",
              "        'Google Pixel 3A review: a $399 phone with a great camera - tinyurl.com/y97ha6ql https://t.co/jYzUPqFMgY',\n",
              "        'damn @HomeDepot you really telling me to relapse like common man this shit aint cool :(',\n",
              "        'followed you , DM and let me at least share on here facebook etc. reggae is magical',\n",
              "        'Hi guys I just got red dead redemption and I have no idea how anything works but a pack of wolves just killed me and stole my bear pelt so I rage quit and I’m gonna take a break from this game for the foreseeable future.',\n",
              "        \"With Johnson & Johnson baby powder still being available in some markets, we want to alert you of the damages that these talc-based products may cause. Learn more about J&J's lawsuit. bit.ly/3gnsDna https://t.co/PhzQyI0Cqz\",\n",
              "        'Former Arsenal and West Ham player Alex Song has taken his case to FIFA after being sacked by FC Sion.\\n\\nThe 32-year-old was one of nine players to lose his job when the Swiss side proposed reducing the wage bill of the first team as an emergency measure during the coronavirus',\n",
              "        'Fuck everyone who has got the RTX 3080 🖕🏻I haven’t even got a good enough pc to put one in @NVIDIAGeForce @nvidia',\n",
              "        'Check out my video! #LeagueofLegends | Captured by #Outplayed #2020alienwaregames pic.twitter.com/RiQQQ50YZF',\n",
              "        'You mean real life crack epidemic?',\n",
              "        '18th of Aug, 2020 🥳\\nHappy birthday to these amazing players 🎂\\n\\n@Shackerlol\\n@Zhandia\\n@TeamDynamicsLoL #Beyond\\n@TeamAsterCN @Sccc_CN\\n@Team_UNQ #19teen\\n\\n(Pic Credit: @riotgames, @StarLadderDota2)\\n#LeagueOfLegends #dota #dota2 #esports #HappyBirthday pic.twitter.com/vzrVuVJ57j',\n",
              "        'holy balls this is unreal',\n",
              "        'I can’t wait to play the beta this weekend! Oh wait...\\n\\nI have an Xbox. \\n\\nNever mind.',\n",
              "        \"I don't know what you people have been doing on this app, but I told someone I'd buy my own PS5 and now she's insulting me. :/\",\n",
              "        'FUCKING FINALLY',\n",
              "        'It was a good day in #ApexLegends #XboxShare pic.twitter.com/LZ6B1OiPtt',\n",
              "        'why can i hear my little sister arguing with people on PubG',\n",
              "        \"Let's all agree to completely trash the inevitable facebook, apple, and google commercials that come out and show people high fiving and hugging again once this is over. Priding themselves on keeping us connected.\",\n",
              "        'Nice game @EAMaddenNFL 👍 pic.twitter.com/csVm607lov',\n",
              "        'Dumb Lucky☘️   (Fortnite Montage) youtu.be/psWjTNkBQbE via @YouTube',\n",
              "        'Why would you fuck your way to the bottom exactly?',\n",
              "        '@Rainbow6Game actived the ranked',\n",
              "        'die with honor stfu and press ur bkb',\n",
              "        \"Red Dead Redemption 2 leaves Xbox Game Pass on September 7.\\n\\nIf you haven't bought it already, highly recommend it! pic.twitter.com/ms65GBzWml\",\n",
              "        '🚨New Video 👀\\n\\nFlying Is Dangerous (Battlefield 1 Random/Funny Moments #2)\\n\\nSo Much Flying ✈️\\nSo Much Randomness 😝\\nTo Many Laughs 😂\\n\\nHope you all enjoy\\n\\nLink\\nyoutube.com/watch?v=dembIl… https://t.co/X0Pamociho',\n",
              "        'Update: I actually finished Odyssey. I wish the three-ponged questline structure was communicated a bit more clearly but that game is a lot of fun once it hits its stride. twitter.com/iv_javy/status…',\n",
              "        'Fuck buying one for my man I’m gonna buy one for myself 👀',\n",
              "        '@WarcraftDevs this would be incredible!',\n",
              "        \"I've never been this tierd in my entire life #LeagueOfLegends #struggle pic.twitter.com/PvI9sX4c7W\",\n",
              "        'AWESOME !!  BONECAKES...with strawberries and original maple syrup please !!!\\n☠️☠️☠️ 😍 ☠️☠️☠️\\n@BunnieKat1962 @OctoberBones @searcher9090 @Homenutt_1 @SkellyIce  @DeathsLastLaugh @CryptMidwest @RJCrowtherJr @1carolinagirl @Figster017 @lesliea10115 @Vampire4me @MadmMonstrosity',\n",
              "        \"*runs around aimlessly on Red Dead Redemption 2 online... completely forgetting she's supposed to be getting animals for the trader role*\",\n",
              "        'After playing today, I’m gonna just say it...\\n\\nWorlds Edge is a better map than King’s Canyon 🤷\\u200d♂️\\n\\n@PlayApex #ApexLegends https://t.co/uMQrfbFLmQ',\n",
              "        'BLACK OPS COLD WAR OFFICIAL REVEAL! (New Trailer Thoughts) youtu.be/5YgBjhf96zY via @YouTube I can’t wait bro! Love the video, getting me hype 😅🙏 @RealThunder402',\n",
              "        'Cant wait',\n",
              "        'Oh boy I bet the responses to this in the comments will be very level-headed and not at all a barrage of outrage and anger.',\n",
              "        \"Sony dropping pre-orders fearing #RTX3000 series card, hoping people buy their 500$ console instead of rtx 3070, lol this has been one hell of a month 😅🤣, if it wasn't for Nvidia, neither MS or Sony would pull the veil off for Prices and pre-orders https://t.co/gZfEX6MZdn\",\n",
              "        'World of Warcraft Nonsense w/ Viewers! twitch.tv/kreaterage',\n",
              "        'Get ready for the weekend with our Special ⭐ Offers!\\n\\nWith Marvel Spider Man, Assassins Creed: Black Flag, Call of Duty: Infinite Warfare and many others this week!\\n\\nVisit nzgameshop.com/special-offers to get a great deal! https://t.co/HqTRoEvpP2',\n",
              "        'A Death is here! :)\\n\\nApp Store→goo.gl/C2RGXc\\nGoogle Play→goo.gl/YjvqXr\\n\\n #Breeding game #Death https://t.co/DdCN922mdy',\n",
              "        'Holy shit, how pissed off do you have to be to be able to toss a fucking fridge like that?!',\n",
              "        'FUT’s menu stuff this year is the best it has ever been by far, you can easily make coins and build a fantastic team without spending a peny. Brilliant.\\n\\nHowever the gameplay, how scripted it is and AI dominant it is, along with the awful servers EA have make it unbearable.',\n",
              "        'All the new overwatch skins are so ugly RIP',\n",
              "        'Whoever created the “undo” button on Microsoft Word is a genius',\n",
              "        'waow all these ps5 games are retracting their announcements for pc ports surely these are all just coincidental mistakes :o',\n",
              "        'me: *can’t sleep*\\n\\nRandom Facebook article I didn’t care about 5 hours ago: “How Kylie Jenner is dealing with trolls calling her ugly”\\n\\nme: https://t.co/CvzGcOZDEE',\n",
              "        'For more then 3 weeks now 2k uk hasnt drawn a winner for their borderlands 3 collector edition giveaway. I mean I think thats funny that companies can just do fake giveaways and not be called out on it. youtube.com/watch?v=-HUh50…',\n",
              "        '#Cyberpunk2077 has been delayed again!\\nTo pass the time, why not grab an exciting #cyberpunk #book ?\\n#BehindBlueEyes is as if #BladeRunner and #GhostintheShell had a baby.\\nDark, gritty, sexy and full of action! \\namazon.com/gp/aw/d/B088GS…\\n#cyborg #amreading https://t.co/kOgYRly4Xs',\n",
              "        '#Madden20 should make cross play a thing in the next madden! Also gift sending! Streamers would love this and it would help promote the game more with more youtubers being able to send gifts cross platform. @EA_KRAELO @EASPORTS_MUT @EAMaddenNFL',\n",
              "        'Shame @weemanronza had to get me in the first round of the FIFA tournament this week. By all accounts a nice guy and a good player. But there’s no gettin by The Bud. #ParkIt',\n",
              "        'Red Dead Redemption 2 Load Times\\nXbox Series X: 38 Seconds\\nPS5: 10-12 Seconds\\n#XboxSeriesX #PS5 Yet again Sony still have the better machine',\n",
              "        'Maybe the greatest musical moment in a video game ever.',\n",
              "        'Ummm Wth....\\n#ApexLegends pic.twitter.com/eXcHRvG16o',\n",
              "        'The ultimate pruning machine! @stihlusa GTA 26 has a 4\" bar and chain. Super lightweight making it perfect for landscapers or homeowners looking for a smaller machine vs manually trimming with a… instagram.com/p/B74-nElB3eG/…',\n",
              "        'The e-commerce giant, along with Google, Apple and Facebook, are being investigated for potential violations of US antitrust law. bit.ly/3hrySXL',\n",
              "        'Tempting 😖',\n",
              "        '@VZWSupport I ported my number over to my Verizon account. Phone calls work. SMS is totally broken now.  Nothing in or out that way anymore. My Verizon app is also still broken. Not a great experience so far.',\n",
              "        'It’s nice not to have facebook anymore but I can’t say I hate it when my cuz tells me the latest drama. Like how Jeremy Beuss’ skinny white ass tries to spout ‘correct’ gender roles and anti abortion/women’s health while he displays internalized homophobia and toxic masculinity',\n",
              "        'I will live stream back in a bit my PS4 is acting weird sorry! #ps4 #PlayStore #PS4share #battlefield4 #games #videogames #twitchtv #twitchgamer #twitchgaming',\n",
              "        'A San Diego Superior Court judge ordered Johnson & Johnson to pay $343.99 million for hiding the dangers and risks of its surgical mesh product for women. on.nbc7.com/ZLL0BIq',\n",
              "        'the us army is doing mythic key carries fuck me. just straight up dog this is depressing',\n",
              "        'Microsoft Surface Headphones 2 review: perfect for work-from-home life lnkd.in/erMDv65',\n",
              "        'Why Google sucks: Google white-washes uniformed publics by categorizing bias',\n",
              "        \"🎥  🎥  We're gonna try to save some historical place with bad gameplay and poor decision making.  Don't miss it in @assassinscreed odyssey.\\n\\nNetwork by @NETGEARgaming\\nPowered by @CYBERPOWERPC\\nSwag from @TheMarvelFactor\\n\\nOnly on @WatchMixer now at mixer.com/itsPlanB https://t.co/jRYamXkrlt\",\n",
              "        '@NBA2K THIS IS YOUR GAME. OWN UP TO THIS CRAP!',\n",
              "        'I used a voice changer and pretended to be a girl in a csgo match last night and now my DMs are flooded xD',\n",
              "        \"finally completed assassin's creed odyssey so now comes the best part of finishing anything: reading the tvtropes page\",\n",
              "        '@PUBG PLEASE SORT OUT THE GAME CRASHES!',\n",
              "        'Exciting news! Verizon, Ericsson and Qualcomm are first in the world to achieve #5G peak speed of 5.06 Gbps! #TeamEricsson t.eric.sn/2HHzpaI',\n",
              "        'One game of fifa tonight and I’m done. Pressing LB to change player and it’s taking literally 3 seconds to do it. Same with passing and changing direction. Sham of a game',\n",
              "        'Great play dude , what a good optic for the mk2 Carbine too 👌',\n",
              "        'Johnson & Johnson ends baby powder sales in US & Canada after lawsuits posit links to cancer… but will keep selling it elsewhere — RT World News rt.com/news/489146-jo…',\n",
              "        \"Watching You Kalloori Perfect Situation Mystic River Tampa Prescott Dak Johnson Marcus Lego Harry Potter: Years 5-7 Mille Lacs Leonard Kawhi Ivan Rakitic Chilton Dan Glazer Jeff Carter Julio Garcia Algemarin L Borderlands 2 I'll Always Love You\\n\\nloveok.store/best-online-sh… https://t.co/AP6H8thDzT\",\n",
              "        \"@overwatchleague @PlayOverwatch @CocaCola @CocaColaCo I'm slightly disappointed to find out the coke cups in front of the OW watchpoint panelists are empty... Who wouldn't want a big class of coke to drink while casting?? #overwatch #Overwatchleague\",\n",
              "        \"Morning Year 4! This week's English has got me all excited. Explore this wonderful story and decide which tasks you want to complete...see where your learning takes you this week. 🐵 Google Classroom updated. @NFollinStMarys pic.twitter.com/JBFUpRjL59\",\n",
              "        'It was a battle all game long 🤺\\n\\nAll the best action from #CHIvWAS in our @Verizon match highlights.\\n\\n#NWSLFallSeries | #VerizonCommunityShield https://t.co/yqZPtkoac0',\n",
              "        'Are u crazy gloating as if u r his fan n not a responsible journo. Sorry expected u change but drummer never change. Why don’t u write a book u worshipper',\n",
              "        'Fifa 20 is the worst fifa of all time!',\n",
              "        'A Zip a hop and a step and a BAM YOURE DEAD 🎯🎯🎯 @SGH_RTs @SlimmDizzyXO #ApexLegends #XboxOne #SquadWipeSunday pic.twitter.com/rYGEja12DL',\n",
              "        '@BlizzardCS so when i try to buy overwatch with a credit or debit, all it does is load and then it says \"something went wrong. Select another payment method or try again later.\" Help I have been trying for a hour now',\n",
              "        \"This doesn't even make sense\", 'Yeeeee hell ya',\n",
              "        'BRO I JUST BOOTED UP GTA, WENT TO THE STORE, AND THAT BITCH STILL LOADING',\n",
              "        '@PlayApex you got a bug when a game ranked is ended, my friend get 10 min penality and he dont leave the game .',\n",
              "        'Ahh man, I have zero friends on\\nTwitter so I will tag @SecondYellowCrd. A great guy and a great FM player.',\n",
              "        \"Yup, There's a Zombie Plague in World of Warcraft Shadowlands ift.tt/30XBoyt\",\n",
              "        '“These niggers are people too!”\\n\\n-Johnson & Johnson',\n",
              "        'Shark 270 #4GLTE Wireless Cellular Revenue #Meter is #Verizon certified and allows you to collect #energy usage and power quality data easily over the air. Get your #demo here: bit.ly/4gltedemo',\n",
              "        'Ghost of tsushima is a better assassins creed game than modern assassins creed',\n",
              "        '#Pubg is no more available on Android Playstore and ios\\n#pubg_banned',\n",
              "        'Good luck paying 70 dollars for a broke, buggy and incomplete game that will definitely have microtransactions despite the price. #XboxSeriesX #PlayStation5',\n",
              "        'Red DEAD Redemption 2 online streamlabs.com/warrenarroyo/h…',\n",
              "        \"Don't jump me... @CSGO #CSGO\\n\\n🔗 medal.tv/clips/16016123… https://t.co/8BAmw54jyL\",\n",
              "        '#BattlefieldV This is becoming a joke at this point... we havent heard anything since they got back and this is the best they can give us? no actual information on anything. It seems like they havent listened to any feedback to what this community wants.',\n",
              "        \"Time to play some #Overwatch with @helldoom on my #MiNotebookHorizonEdition. This game mode has 1 tank hero vs 6 dps heroes and it's absolutely nuts! pic.twitter.com/BIgx0vDwbm\",\n",
              "        'Now the President is slapping Americans in the face that he really did commit an unlawful act after his  acquittal! From Discover on Google vanityfair.com/news/2020/02/t…',\n",
              "        'Sad I got a point to say anyone say gta 6 look crazy get life stop saying everything that happens in real life comparing to video game that is not even out your sad piece of shit people there lady that got hit by that car just lost her life show respect or could be u',\n",
              "        '@PlayHearthstone when do you guys thinking to remove op AMALGADON from the game? It is so unfair',\n",
              "        'Shitting around | Borderlands 3 | Part 5.5 twitch.tv/slayer3000bot',\n",
              "        \"You literally have fanboys all over the games industry who just can't wait to take cheap shots at Microsoft & xbox. Online services and features, digital stores and the cloud are where things are headed. Google and Amazon have tremendous reach. To ignore the threat is dumb.\",\n",
              "        \"Old screencaps from Assassin's Creed Odyssey when I found the wonder woman armour for Kassandra, and this nightmare of a horse.. pic.twitter.com/7shmVBGSV9\",\n",
              "        \"Assasins creed odyssey is good, like really really good. I'm shocked at how different this game is compared to early installments and very happy I purchased it.\",\n",
              "        'All the 14 yo’s shitting on me in fortnite catch me irl I swear I’ll rock yo shit',\n",
              "        '#Azure Microsoft unlocks the full potential of the smart building ecosystem azure.microsoft.com/blog/microsoft…',\n",
              "        'Our #HISAPerth #OBIawards ceremony is taking place this Friday 29 May. Celebrating the Outstanding, Best + Inspiring work staff + students within #PerthCollegeUHI have done this year. Streaming LIVE 12 noon Friday @HISAPerth Facebook page. 🏆\\n#TeamHISA #Awards #IWouldLikeToThank pic.twitter.com/rE3iY9T66p',\n",
              "        '@googlechrome Every time I open Google Keep, it crashes Chrome. Super annoying. Trying to add to my to do list!',\n",
              "        \"Half are political accounts, most of them I haven't interacted with in a few months, three NVidia accounts, two of them I have only even replied to once, and the only person who I know IRL is in the second row. How did this happen pic.twitter.com/nvqUiUYKOJ\",\n",
              "        \"s1mple - The BEST CS:GO Player In The World! - HLTV.org's #1 Of 2018 youtu.be/NnOA1e3myaQ @YouTubeより\",\n",
              "        'Its game day for Microsoft and #Xbox \\n\\n7 years old waiting an entire generation for a comeback i hope they hit a grandslam #XboxGamesShowcase #XboxSeriesX',\n",
              "        'Johnson & Johnson is about to enter phase 3 trials of a COVID vaccine that only works in one dose, they claim.\\n\\nRemember how J&J was found guilty of having cancer causing baby powder?\\n\\nAsk yourself honestly: do you trust these Pharma companies? I don’t ...',\n",
              "        'You mean the same Johnson & Johnson that suppressed reports of asbestos contamination in their talc products for decades??? Wonder how many died??? And Birx says; \"Randomized controlled studies show NO evidence of improved outcome with HCQ.\" LIAR???\\nyoutu.be/77TMszubRU4',\n",
              "        'Johnson & Johnson, knowingly sold baby powder containing asbestos for decades and are now tasked with producing #COVID19 #vaccine... along with corporate criminals #Glaxosmithkline - who received the 2nd largest fine in corporate history for their various crimes. Trust them? 😳',\n",
              "        'Yaaaas! \\n\\nI want to see Keanu animated in anime 😆',\n",
              "        'to the guy that keeps tryna hack my battle.net account you can fucking have it all you get is overshit, level 20 wow classic orc and half finished basic set for hearthstone',\n",
              "        \"Johnson & Johnson pauses COVID-19 vaccine trial over patient exhibiting an 'unexplained illness'  twitter.com/i/events/13158…\",\n",
              "        'Nothing like getting two leavers in the game that would have promoted you. I love league of legends👍👍👍👍👍🤡',\n",
              "        'They might not be the last team that has to make this difficult decision. #update #overwatchleague #nyxl #overwatch #overwatch2 #blizzard #games #lockdown pic.twitter.com/dI1HTl4mcV',\n",
              "        'I’m gonna say this again @imjustbait is the funniest meme page ever 😌',\n",
              "        'Planning on spending my entire night playing Red Dead Redemption and getting stoned and I have absolutely no regrets',\n",
              "        'Pretty cool to see the next gen games being announced and stuff. I’m more excited to see how the official #PS5 and #XboxSeriesX logos look on marketing graphs.',\n",
              "        \"Pls guys stop, I'm tired to give you more like of these 🤣🤣🤣\",\n",
              "        '@PlayHearthstone a 1 Mana hero power that deals one damage makes a 1/1 token hero power that costs double absolutely not worth playing. Did you guys think about it when you made DH? That you took the most underpowered class, and made it unusable on ladder? Did that not occur to u',\n",
              "        \"@chaplinez70 morning. You might not agree with me and I mean no disrespect to anyone but I feel having an international break during this pandemic is a terrible idea. I don't understand what the guys at FIFA are thinking but its just not right.\",\n",
              "        'just re-installed NVidia drivers using this guide if-not-true-then-false.com/2015/fedora-nv… and... no, @firefox is still laggy with @figma',\n",
              "        'Yo lowkey I feel like amazon is always charging me random amounts for shit I didnt buy',\n",
              "        'Still my favorite CoD teaser EVER! 🥰\\ntwitter.com/Call0fDutyWiki…',\n",
              "        'Johnson & Johnson Stops Selling Talc-Based Baby Powder In U.S. And Canada standaside.us/johnson-johnso…',\n",
              "        'It was ab fab seeing the 6 bungalows built in #walsden by @localitynews member @CVCLT1 with support from @Calderdale & many others. Highlights are seeing @dawsonjohn & family, and Andrew Bibby and his spade! Trustees going beyond the call of duty @CommLedHousing (brand colours!) pic.twitter.com/xKQnayVdHk',\n",
              "        'You can catch up with all of \"The Xbox Has No Games Podcast\" right here:\\n\\nintromediagaming.com/home/the-xbox-…\\n\\nOne of the best Xbox Podcast out here\\n\\n#Xbox #XboxSeriesX #XboxSeriesS https://t.co/CmlRJsgZyk',\n",
              "        'I love @Rainbow6Game so much 💙',\n",
              "        'The trailer is dropping in around an hour and 28 minutes, cant wait!\\n\\n #apexlegends @PlayApex @apex_intel pic.twitter.com/0o1GPNYa3d',\n",
              "        'So #Maria was playing FIFA today.',\n",
              "        'Oh dear god my computer is gonna get fried from all this',\n",
              "        'this quarantine got me bored af playing call of duty anyone wanna call 🙈',\n",
              "        'New video on now go check it out here we go again its terrifying. visage youtu.be/O4BLsMOEiGA via @YouTube\\n#gaming #gameplay #horrorgames #horror #isolation #scarygames #pc #pcgames #games #stayathome #youtube #youtuber #nvidia #geforce #pcmasterrace',\n",
              "        'Very much looking forward to getting new info on the #PS5',\n",
              "        'HOW DID I MISS THIS I CANT EVEN BLAME SCHOOL ARE YOU KIDDING ME',\n",
              "        '#nba2k is a fucking joke', 'Wow..',\n",
              "        '@NBA2K game sucks... down by 2 with 38 seconds left and my team intentionally fouls',\n",
              "        'I just earned the [5 Daily Quests Completed] Achievement! #Warcraft',\n",
              "        'Our eldest has spent so long playing this new Call of Duty game, I’m not convinced he even knows what day it is, let alone how long lockdown has lasted. I’d normally object, but I think I’d rather deal with that, than him being frustrated about being stuck at home.',\n",
              "        'Hehe I love my thumbnail for my upcoming Microsoft and Bethesda video.',\n",
              "        'Going through this right now, great reporting by @NightCityLifeDE',\n",
              "        'Go check his channel out, he’s super underrated 😊',\n",
              "        'Plain Janie. Smart Janie. She’s the good sister that never causes any trouble. Meet her in \"Janie\\'s Secrets\" now. #romance #family #thriller #suspense  @Jeanelia1964 available at Amazon --> allauthor.com/amazon/45291/ https://t.co/UfoeYQaMZc',\n",
              "        'And the US WANTS TO TRUST THIS COMPANY with a VACCINE?\\n\\nJohnson & Johnson knew for decades that ASBESTOS lurked in some of its baby powder - nbcnews.com/health/health-…',\n",
              "        \"Stop acting like your not educated stop with the bs you know devs don't have dx12 ultimate ffs at least don't lead people on with bs pic.twitter.com/hKMnlLiTzm\",\n",
              "        'More FIFA? Leslie Steiger must be joking! See the horrible thing here ift.tt/2Y1TBtO :///',\n",
              "        'My friend plays korean version pubg and blackpink hylt is bg music omgg I love it pic.twitter.com/5sKOTZyvGa',\n",
              "        'Yogg Saron’s Puzzle Box is quite possibly my favorite card in the game.  Secrets and Puzzle Box make for truly crazy insane WTF moments.  So fun even when it’s a shitshow.  🤣 #Hearthstone',\n",
              "        'Not gonna lie. The FIFA 2021 and PS5 combo is sounding really nice right now.',\n",
              "        'Amazon Best Sellers: Best Sports Collectibles ift.tt/32vpc7x \\n            100 Vintage Football Cards in Old Sealed Wax Packs - Perfect for New Collectors\\n         ift.tt/2Re9Pfb ift.tt/2Q5Pvfw April 05, 2020 at 11:31AM',\n",
              "        'fucking dope. might actually pick it up again',\n",
              "        'Verizon Wireless customers faced service issues in Peoria area, company says dlvr.it/RTh0Qy',\n",
              "        'Preordered @EAMaddenNFL for @PlayStation can’t wait!',\n",
              "        'Just so god Damn beautiful 😍 #PS5 pic.twitter.com/N14QKPrftj',\n",
              "        'Too greedy?\\n#Hearthstone pic.twitter.com/caa4J0ZUKF',\n",
              "        'You might need a Business Lawyer when your business has been threatened with a lawsuit.  \\n\\n#BusinessLawyer #GTA #Etobicoke',\n",
              "        'A truely masterpiece indeed. 2018 may be the most exciting, but this is the most emotional.\\n\\nOutstanding job to remark the end of an era in gaming history\\n\\n#TrueSight #TeamNigma #DreamOG #TI9 #Dota2',\n",
              "        \"tHIS IS ACTUALLY A GOOD MOVE TOT BRING MORE VIEWERS.\\n\\nI was one of those people who got hooked into csgo by watching tournaments first before playing the game. And seeing these players grew is like a netflix docu series for me. Can't wait for 2021.\",\n",
              "        'This is my 143rd twitter account, I keep getting suspended. Pelosi ruined my life, I should be able to have a voice. If you dont know me, just google \"SnaggleTooth Salon\"\\n\\nI gave her bush an Afro. I may release the video.\\n\\nRT & Please Follow, and I\\'m full of shit & begging again.',\n",
              "        'Thanks for watching me play #Hearthstone tonight!\\n\\nThanks for getting into the giveaway! \\n\\nNew earlier stream coming for the EU contingency! https://t.co/7vDZ9rIw6Z',\n",
              "        'woops made a bunch of boomer men mad on facebook lmfaoooo pic.twitter.com/3yijBzv2Fs',\n",
              "        '🌄 Red Dead Redemption 2 pic.twitter.com/2XBlcpjLxL',\n",
              "        'Damn so hard decision atm. If I wanna join @Warcraft EU influencer program I need to stop datamining 🧐. Hmmm, what should I do 🤔',\n",
              "        '@Rainbow6Game servers.... where they at????? Tired of getting disconnected from every single game. #RainbowSixSiege pic.twitter.com/2lS3iMC8Ki',\n",
              "        'Johnson & Johnson stopped their #COVID19 trial because a participant got an unexplained illness. The @FT tweet needs commas. @JNJNews',\n",
              "        'I talk way too much shit when playing Hearthstone Battlegrounds for someone that started a week and a half ago.',\n",
              "        'That’s kap AF this mf blank out everywhere',\n",
              "        \"EXTRAORDINARY: Podcast about Deanna Berg's fight against bilateral ovarian #Cancer & her determination to hold Johnson & Johnson to account over its negligence in selling talc-based baby powder. \\nwitnesspodcasts.com/shows/verified…\",\n",
              "        \"Holy smokes I'm really enjoying my Libram Paladin ONLY deck!\\n\\nyoutu.be/Xjo21NvyWQA\\n\\n#hearthstone #YouTube #twitch #paladin #blizzard\",\n",
              "        'The real path to \"Valhalla\" is main story without side quests. It\\'s so fuckin relieving ♥️🔥 #AssassinsCreedValhalla #Ubisoft',\n",
              "        \"feels good to get a Victory in #ApexLegends with your high school buddies. we are all in our late 20's now.  @VictorpMeraz4  @NOLDRAY #FreaksAndGeeks deserved a second season!!!\",\n",
              "        \"@NBA2K: REALLY you guys won't give the old retired players $1000000 a year and you guys are making a killing on this game no wonder Charles Barkley and other NBA stars are missing from the game every year it doesn't make any sense youtu.be/k8iYgGFzs4E\",\n",
              "        'This is insane! Makes me want to upgrade my GPU',\n",
              "        \"BBC News - Amazon boss Jeff Bezos rejects claims company acted like a 'drug dealer' bbc.co.uk/news/av/busine…\",\n",
              "        'Don’t tweet much but here’s what I’ve been up to on the island. Not playing much #overwatch anymore but great fun watching and building the comp lounge. 4v4 though... #ACNH #owl #AnimalCrossing https://t.co/Hnq6uYO8iq',\n",
              "        'Removing mcree’s noose because ur pussies enit @PlayOverwatch',\n",
              "        'WHY DOES IT HAVE THREE VERSIONS WTF 😭😭😭😭',\n",
              "        '“the Free Software movement is dead. Linux doesn’t exist in 2007. Even Linus has got a job today,” Bill Hilf, #microsoft in mainstream media headline (they removed the article later) techrights.org/2007/07/27/bil…',\n",
              "        'Played pubg for the first time in a long time and loved it. Will be posting clips tonight!',\n",
              "        'Fortnite is running like ass.. fps drops everywhere wtf?',\n",
              "        'Congratulations to our very own @JulienMid and @Value247 for being selected on Team @Yassuo for the upcoming League of Legends Twitch Rivals! 🔥\\n\\nWill Value secure the three-peat? Will Julien pick up his first championship? Find out next week! 👀\\n\\n#MUWIN // @TwitchEsports pic.twitter.com/PMbu3fiBOJ',\n",
              "        'Great Wallpaper ! @CyberpunkGame',\n",
              "        'Help me win this awesome CS:GO giveaway from Idle-Empire! wn.nr/dmjyt5',\n",
              "        'Red Dead Redemption 2 - Xbox - jogando no Game Pass \\n\\nm.mixer.com/valtinhoroberto\\n\\n(#game)',\n",
              "        'ps5 looks NICE, I love white ;_;',\n",
              "        'Leaked memo excoriates #Facebook’s ‘slapdash and haphazard’ response to global political manipulation dlvr.it/RgbzJD https://t.co/M7JAMQeF7e',\n",
              "        'Nvidia GeForce Now: Google Stadia rival suffers another\\xa0blow news89.net/nvidia-geforce… https://t.co/9ijNjV7L4C',\n",
              "        \"Was literally just gushing about how stoked I am to play this in April! That's okay... I'm patient. I'm sure it will be worth the wait ❤\",\n",
              "        'borderlands 3 is so good',\n",
              "        'Time to show my love to a good streamer! Head on over to @T_KNOCKOUT_ s channel! Hes doing some #RainbowSixSiege right now! Show him some love ❤',\n",
              "        \"Red Dead Redemption 2 [Day 8] Can I shoot Micah? I don't like Micah. twitch.tv/nightmarebearer\",\n",
              "        'Quality tweet.',\n",
              "        'CSGO WIngman (Im Silver dont bully) twitch.tv/lprezh',\n",
              "        \"‘League Of Legends’ K-pop group K/DA announces comeback single, 'The Baddest'\\n#entertainment #announces #baddest #comeback #entertainment #...\\ninsidexpress.com/entertainment/…\",\n",
              "        \"I just earned the [That's Val'sharah Folks!] Achievement! #Warcraft pic.twitter.com/pJ3luJuVer\",\n",
              "        'Lol I set up this string of tinder dates a while back where I would just bail on them without messaging them. I figured I would save them the disappointment. I made up excuses later like “oh you know socially this just works out fo me and makes me money so work but maye next year',\n",
              "        'this pic is so cute why',\n",
              "        'Big news. Numerous great companies are seeing fantastic results. @FDA must move quickly! twitter.com/nytimes/status…',\n",
              "        \"What the actual heck @fortnite you clearly have enough money but you dick wds just don't learn the mistake. Thanks for ruining my weekend\",\n",
              "        \"guess i'll broke.\",\n",
              "        'World Of Warcraft Attacked By Losers Who DEMAND Plot Changes Due To \"Racist Material\"\\n youtu.be/a0JU1vOsZK0',\n",
              "        '#amazonpayquizI played this interesting quiz on Amazon - Try your luck for a chance to win exciting rewards amazon.in/game/share/g4G…',\n",
              "        'Definitely getting this 🔥',\n",
              "        'Team 5 what a great media/announcement day. You guys always manage to surprise the Hearthstone community when we think we’ve seen it all. Keep up the phenomenal work. @PlayHearthstone #Hearthstone pic.twitter.com/qsQFw4ZA6v',\n",
              "        'I played this interesting quiz on Amazon - Try your luck for a chance to win exciting rewards amazon.in/game/share/gVU… \\n#QuizTimeMorningsWithAmazon',\n",
              "        'World Of Warcraft: Classic Continues To Suffer Botting Issues As Fans Grow Irate happygamer.com/world-of-warcr… \\nGames News #Blizzard #MMORPG #PCMAC #WorldOfWarcraft #WorldOfWarcraftClassic #Gaming https://t.co/WQCo9oitj1',\n",
              "        'The newest assassins creed looks so FREAKING SICK AND I CANNOT WAIT.',\n",
              "        'OH GOD \\nnever turn on new @nvidia fps limiter, cause MASSIVE tearing on 144hz\\\\144fps',\n",
              "        'Xbox Series S leak reveals $299 price dlvr.it/Rg9PDy',\n",
              "        '#writingcommunity I just want to take a second to give a SO to the microphone in Microsoft Word. I said “etymologically unrelated” and it actually got it right. WOW we have come a long way baby!\\n\\n#Microsoft #microsoftword',\n",
              "        'Facts, bitch can’t even get that ps5 😩😂 for me lol',\n",
              "        \"@jimbcbs4 Hey Jim, we disagree on politics and policies but the greeter that cussed you at Home Depot was so out of line... \\nI'm so sorry that others have made you deal with that.\",\n",
              "        'Shoutout to my brother @CoconutBrah for probably spending over 1000 hours in Custom games with me by now 😂  #RainbowSixSiege',\n",
              "        'Coronavirus Vaccine Race Gets Desperate: Johnson & Johnson Posts Losses, Cases\\xa0Spike websfavourites.com/science-and-te…',\n",
              "        \"@Rainbow6Game Hey so i was playing ranked when the entire lobby's ping shot up, everyone was kicked except a buddy of mine, he cancelled the match but we all have bans now, what to do?\",\n",
              "        'Words of gratitude - trevorphilipsstanaccount: I love how the GTA V Tumblr fandom in particular has been creating, through talented and beautiful artistic material, fanfics and interesting and deep debates, a complex and rich study of the... tmblr.co/Z3AEPWYrTEVY4e…',\n",
              "        \"my friends are playing dota 2 and i can't understand shit, but it's entertaining as hell\",\n",
              "        'Is there anything not wrong with this game why cant i claim the credits @PlayCODMobile such a joke.... #CallofDutyMobile #CODm #CoDMobile #CallofDuty https://t.co/0geOGc0Egq',\n",
              "        'So I was doing Lower Blackrock Spire with my guild, at one point we started sharing our Warcraft stories while chatting on discord, things got weird. Our tank who is a girl told us all women are batshit crazy after hearing one of my stories.\\n\\nI might have to start suckin dick now',\n",
              "        'ok now this is gonna be a top 3 cod',\n",
              "        'I played this interesting quiz on Amazon - Try your luck for a chance to win exciting rewards amazon.in/game/share/g4G…',\n",
              "        'We love orbs',\n",
              "        'Johnson & Johnson Beats Q1 Estimates, Raises Dividend\\n\\n“Johnson & Johnson $JNJ stock rose 4.7% as of 12:30 PM ET today. Investors are optimistic about the company’s strong first-quarter results and a dividend hike.”\\n\\n#johnsonandjohnson #earnings #dividend\\nmarketrealist.com/2020/04/johnso… https://t.co/i61Bk0GdRH',\n",
              "        'Anyone that plays a bad luck albatross deck in hearthstone is a literal cop. \\n\\nFucking fun police. pic.twitter.com/jY6TRq351e',\n",
              "        'I hate that music',\n",
              "        '@PTAofficialpk why u wanted to ban pubg is there any personnel fight with pubg corp? Pls unban this game. If thousands of people requested u to ban this game then see now more than lakh people are requesting to unban. Dont take pubg as your pride problem.\\n#ImranKhanPUBGKholo',\n",
              "        'Wow @NBA2K y’all gotta do something about this',\n",
              "        'I’m just gonna say it - Overwatch essentially being nominated for LGBTQ+ game of the year is worse than if Rise of Skywalker was nominated for LGBTQ+ film of the year. At least in Rise of Skywalker if you slow the footage down and zoom in you can see gay shit if you squint.',\n",
              "        'bhopping in csgo is so cozy',\n",
              "        'Platinum is the best loot @Borderlands #PS4share pic.twitter.com/oxBbrsPbV2',\n",
              "        'NOT FREE TO USE !!!! Recent work #Fortnite pic.twitter.com/P9VMUtkt49',\n",
              "        'Remember Me was one of the finest stealth games i had the opportunity to play, and I think remastering it on the @Xbox X would be a boss move.',\n",
              "        'Hated packing this one but at least it sold and arrived safely..lol\\n.\\n#resellercommunity #flipping #thriftshopping #thrift #goodwill #yardsalefinds #yardsale #garagesale #americanpickers #ebay #amazon #sourcing… instagram.com/p/CBBFX5RFQHW/…',\n",
              "        'Johnson & Johnson Covid-19 vaccine study paused due to unexplained illness in participant statnews.com/2020/10/12/joh…',\n",
              "        '@verizonfios frustration! on hold for 30min, finally talk to a rep, says she has to call me back due to static (which i didn’t hear). it’s been 4hours and still haven’t heard from her. terrible customer service experience!  @Verizon',\n",
              "        \"Guns, Love, and Tentacles is out now, and here are 5 reasons we're excited to #KeepPlaying @Borderlands newest DLC. bit.ly/39vMyMe https://t.co/bbuM6kbHkw\",\n",
              "        'I am very interested in this',\n",
              "        '@EAMaddenNFL  this game so trash pic.twitter.com/sCUc6dtHeB',\n",
              "        'the constant mouse clicking is what always got me',\n",
              "        'This fat juicy son of a crackhead BITCH! My go to answer is always, your mother!',\n",
              "        'I won 5 achievements in Red Dead Redemption 2 for 117 TrueAchievement pts trueachievements.com/gamer/Yoneko',\n",
              "        '#Indigo Urgent Care looks to Microsoft Teams and Microsoft’s Power Platform to help deliver quality care and world-class patient experience lnkd.in/eAzWmuB',\n",
              "        'ON BORDERLANDS TWO THERE IS A FUCKING DRAGON SOMEONE HELP ME',\n",
              "        \"I can't find confirmation anywhere but it looks like @fenix_app has quit muting keywords. If Talon can strip the imaginary sports from my timeline, I may need to switch.\\n\\nBlaseball: like fandom + PUBG, but at least the mute filters worked for PUBG\",\n",
              "        'Worst thing about #PUBG banned is that all the players didn’t knew this ban till the App shown error in playing as non of them is in Social Media nor watch any NEWS 🤣🤣\\n\\n#PUBGMOBILE',\n",
              "        '3.7k to 3.2k 🙃 I LOVE DOTA 2 PUTANG INA',\n",
              "        'Really good in-depth video, highly recommend.',\n",
              "        \"if you kill someone to make a point \\n\\nof how Google \\n\\nand Vice and the Ny Times \\n\\nplay to the life science companies \\n\\nthey'll use a horrible photo of you ...\",\n",
              "        \"Well that's not helping to reassure me my data is safe with @google\",\n",
              "        'Shout-out to my mom for being selfish and not carrying me a measley 2 months extra so that I could exist in the World of Warcraft universe 💔\\nSo much for me being the favorite child!!',\n",
              "        'The new @CallofDuty for ps5 is 🔥🔥🔥🔥\\nOh God 😭😍',\n",
              "        'Grand Theft Auto 5 (EU) for a good Price g2a.com/r/quicksellgta',\n",
              "        \"In 1982, Johnson & Johnson's Extra Strength Tylenol was recalled because seven people had died after taking it. #haitian #music\",\n",
              "        'I know I trash BO1 multiplayer any chance I get but in all honesty I wouldn’t mind a Black Ops remaster. Nothing could ever be as worse as MW2019. Get to work on it...',\n",
              "        'Shitting on non preorder kids \\n\\nTwitch.tv/GreasySunnyvale \\n\\n#BlackOpsColdWar #ColdWarBeta https://t.co/xQFpzkUQe0',\n",
              "        \"my dopamine receptors have been fucked by league of legends. i can no longer play a game unless it's competitive and it feels bad\",\n",
              "        \"@Borderlands need help with my game. For some reason my character is lagging, no matter whose hose or solo and my game is up to date. And it's really frustrating any ideas would\",\n",
              "        'LETS FUCKING GOOOOOOOOOOOOOOOOOOOOOOOOOOOOOOOOOOOOOOOOOOOOOOOOOOOOOOOOOOO'],\n",
              "       dtype=object),\n",
              " array([3, 3, 2, 2, 2, 2, 3, 1, 0, 2, 1, 3, 0, 3, 3, 2, 1, 0, 2, 2, 1, 2,\n",
              "        1, 0, 2, 1, 1, 3, 2, 2, 3, 0, 2, 2, 3, 1, 1, 2, 0, 0, 0, 1, 3, 3,\n",
              "        1, 3, 3, 2, 0, 2, 1, 3, 1, 2, 1, 3, 3, 3, 1, 2, 3, 3, 3, 0, 3, 3,\n",
              "        3, 3, 3, 1, 3, 3, 2, 1, 1, 3, 0, 2, 1, 3, 2, 1, 2, 0, 0, 1, 3, 2,\n",
              "        1, 2, 3, 3, 1, 3, 2, 0, 3, 1, 0, 0, 2, 0, 1, 3, 0, 0, 3, 3, 1, 2,\n",
              "        2, 1, 2, 3, 1, 1, 2, 0, 1, 2, 2, 2, 1, 2, 2, 1, 2, 2, 2, 1, 3, 2,\n",
              "        3, 0, 1, 3, 1, 0, 2, 1, 3, 3, 3, 1, 1, 2, 2, 0, 3, 0, 2, 2, 2, 1,\n",
              "        1, 2, 3, 2, 1, 1, 1, 3, 3, 0, 1, 1, 2, 1, 2, 1, 3, 1, 2, 3, 0, 0,\n",
              "        2, 3, 1, 3, 0, 2, 0, 2, 1, 2, 1, 0, 0, 3, 2, 2, 2, 3, 1, 2, 1, 3,\n",
              "        2, 2, 1, 2, 0, 1, 1, 0, 0, 3, 3, 1, 2, 2, 1, 3, 1, 1, 0, 1, 3, 3,\n",
              "        3, 3, 0, 2, 1, 1, 2, 3, 3, 1, 1, 3, 3, 1, 3, 3, 0, 3, 2, 0, 1, 3,\n",
              "        3, 3, 3, 2, 1, 0, 3, 2, 3, 2, 2, 1, 3, 2, 2, 1, 2, 1, 1, 0, 1, 3,\n",
              "        2, 0, 2, 3, 2, 0, 2, 3, 3, 3, 1, 1, 1, 2, 3, 3, 2, 2, 1, 1, 0, 1,\n",
              "        0, 2, 3, 2, 2, 1, 1, 2, 3, 3, 1, 3, 3, 0, 3, 1, 3, 1, 3, 2, 0, 1,\n",
              "        2, 2, 1, 1, 3, 2, 2, 2, 3, 2, 1, 1, 2, 3, 1, 2, 0, 1, 1, 3, 1, 3,\n",
              "        3, 1, 0, 1, 0, 2, 1, 0, 0, 0, 3, 3, 3, 1, 1, 1, 2, 1, 2, 0, 2, 1,\n",
              "        1, 1, 3, 3, 0, 2, 2, 0, 1, 1, 0, 1, 0, 0, 1, 0, 0, 2, 1, 3, 0, 2,\n",
              "        3, 1, 3, 3, 0, 3, 3, 0, 1, 0, 0, 1, 1, 2, 3, 2, 3, 2, 3, 1, 0, 3,\n",
              "        3, 3, 2, 3, 2, 1, 1, 3, 2, 3, 1, 2, 1, 1, 1, 0, 3, 1, 3, 2, 3, 2,\n",
              "        1, 0, 3, 3, 3, 1, 2, 2, 2, 3, 0, 2, 3, 1, 1, 0, 3, 1, 1, 2, 3, 3,\n",
              "        3, 1, 1, 1, 2, 2, 0, 0, 3, 3, 0, 2, 1, 0, 1, 2, 1, 1, 2, 1, 3, 2,\n",
              "        0, 0, 2, 2, 1, 3, 2, 0, 2, 3, 0, 2, 0, 2, 3, 0, 2, 0, 2, 0, 3, 3,\n",
              "        0, 2, 2, 1, 1, 3, 0, 2, 1, 2, 2, 2, 0, 1, 2, 3, 2, 2, 0, 3, 3, 2,\n",
              "        1, 3, 3, 2, 1, 3, 3, 3, 2, 0, 3, 2, 1, 0, 3, 2, 2, 0, 2, 0, 0, 3,\n",
              "        0, 0, 1, 2, 0, 2, 1, 2, 2, 0, 0, 3, 0, 3, 2, 2, 3, 2, 1, 1, 2, 3,\n",
              "        2, 0, 3, 3, 2, 1, 3, 1, 1, 1, 1, 2, 3, 3, 2, 3, 2, 0, 0, 2, 0, 2,\n",
              "        2, 3, 1, 2, 2, 0, 0, 1, 3, 1, 0, 2, 3, 3, 2, 3, 3, 3, 0, 1, 3, 3,\n",
              "        0, 2, 2, 1, 2, 1, 1, 2, 1, 2, 3, 2, 3, 2, 0, 2, 3, 3, 2, 1, 2, 2,\n",
              "        1, 1, 1, 2, 2, 1, 2, 3, 3, 2, 1, 1, 0, 2, 3, 3, 1, 0, 0, 0, 1, 3,\n",
              "        3, 0, 2, 1, 0, 3, 1, 0, 0, 1, 3, 1, 2, 3, 1, 1, 2, 1, 3, 3, 1, 2,\n",
              "        2, 1, 1, 1, 2, 0, 3, 3, 1, 1, 3, 0, 2, 1, 2, 3, 1, 1, 2, 3, 2, 1,\n",
              "        1, 3, 2, 2, 2, 3, 3, 3, 0, 3, 0, 2, 2, 2, 0, 1, 3, 3, 3, 3, 2, 2,\n",
              "        3, 1, 2, 3, 3, 1, 1, 0, 2, 0, 0, 3, 1, 2, 2, 0, 2, 1, 2, 1, 0, 1,\n",
              "        3, 1, 3, 0, 2, 2, 3, 1, 1, 3, 2, 2, 3, 0, 1, 2, 1, 0, 1, 1, 0, 1,\n",
              "        2, 0, 2, 1, 3, 2, 3, 3, 0, 1, 3, 0, 1, 2, 2, 3, 0, 3, 3, 3, 1, 0,\n",
              "        2, 3, 3, 3, 0, 1, 2, 2, 2, 0, 2, 1, 3, 1, 2, 1, 2, 1, 0, 0, 3, 1,\n",
              "        0, 1, 3, 1, 2, 0, 2, 0, 2, 1, 2, 1, 2, 3, 1, 3, 1, 2, 2, 3, 0, 2,\n",
              "        2, 0, 1, 2, 1, 1, 0, 1, 2, 0, 2, 1, 2, 1, 1, 2, 2, 2, 1, 3, 2, 1,\n",
              "        1, 2, 3, 2, 3, 0, 2, 2, 1, 2, 0, 3, 1, 1, 1, 3, 1, 2, 3, 0, 0, 3,\n",
              "        3, 0, 1, 1, 2, 1, 3, 2, 0, 0, 3, 3, 2, 1, 3, 2, 3, 0, 1, 3, 1, 2,\n",
              "        3, 3, 3, 0, 2, 1, 0, 1, 3, 3, 3, 3, 3, 2, 3, 3, 1, 0, 2, 0, 0, 3,\n",
              "        2, 2, 2, 1, 2, 2, 0, 1, 3, 3, 3, 1, 3, 2, 3, 1, 1, 2, 3, 1, 0, 3,\n",
              "        3, 2, 3, 1, 2, 3, 3, 2, 1, 0, 2, 2, 2, 0, 0, 2, 1, 3, 2, 2, 0, 3,\n",
              "        2, 2, 3, 1, 0, 3, 2, 2, 2, 2, 1, 0, 2, 1, 2, 3, 2, 3, 3, 2, 1, 2,\n",
              "        1, 1, 3, 3, 1, 3, 3, 2, 1, 2, 3, 1, 0, 0, 3, 3, 2, 0, 0, 3, 0, 1,\n",
              "        1, 3, 1, 3, 1, 2, 0, 1, 1, 3]))"
            ]
          },
          "execution_count": 43,
          "metadata": {},
          "output_type": "execute_result"
        }
      ],
      "source": [
        "X_val, y_val"
      ]
    },
    {
      "cell_type": "markdown",
      "metadata": {
        "id": "ZWGZbf_gu8xQ"
      },
      "source": [
        "## Preparing dataset and dataloader"
      ]
    },
    {
      "cell_type": "code",
      "execution_count": 44,
      "metadata": {
        "id": "qubAdmIuu8xR"
      },
      "outputs": [
        {
          "name": "stderr",
          "output_type": "stream",
          "text": [
            "/Users/nassimwalha/Desktop/Coding_Challenge_NLP/.conda/lib/python3.11/site-packages/tqdm/auto.py:21: TqdmWarning: IProgress not found. Please update jupyter and ipywidgets. See https://ipywidgets.readthedocs.io/en/stable/user_install.html\n",
            "  from .autonotebook import tqdm as notebook_tqdm\n"
          ]
        }
      ],
      "source": [
        "import torch\n",
        "import numpy as np\n",
        "import seaborn as sns\n",
        "import transformers\n",
        "from torch.utils.data import Dataset, DataLoader\n",
        "from transformers import RobertaModel, RobertaTokenizer"
      ]
    },
    {
      "cell_type": "code",
      "execution_count": 45,
      "metadata": {
        "id": "GjbCmNXfAZ8h"
      },
      "outputs": [],
      "source": [
        "#Seeding everything\n",
        "torch.manual_seed(42)\n",
        "torch.cuda.manual_seed(42)\n",
        "np.random.seed(42)"
      ]
    },
    {
      "cell_type": "code",
      "execution_count": 46,
      "metadata": {
        "id": "QpC8em-_u8xR"
      },
      "outputs": [],
      "source": [
        "\n",
        "from torch import cuda\n",
        "device = 'cuda' if cuda.is_available() else 'cpu'"
      ]
    },
    {
      "cell_type": "code",
      "execution_count": 47,
      "metadata": {
        "colab": {
          "base_uri": "https://localhost:8080/",
          "height": 35
        },
        "id": "zprW-R2_xO1u",
        "outputId": "0a4ad53c-ea78-4298-f34b-ed768240c5d0"
      },
      "outputs": [
        {
          "data": {
            "text/plain": [
              "'cpu'"
            ]
          },
          "execution_count": 47,
          "metadata": {},
          "output_type": "execute_result"
        }
      ],
      "source": [
        "device"
      ]
    },
    {
      "cell_type": "code",
      "execution_count": 48,
      "metadata": {
        "colab": {
          "base_uri": "https://localhost:8080/"
        },
        "id": "XEs-WvGVu8xR",
        "outputId": "32569fb7-0a79-4acf-e825-2afba2a1c232"
      },
      "outputs": [],
      "source": [
        "MAX_LEN = 350\n",
        "TRAIN_BATCH_SIZE = 32\n",
        "VALID_BATCH_SIZE = 256\n",
        "EPOCHS = 1\n",
        "LEARNING_RATE = 3e-05 #Was 1e-05\n",
        "tokenizer = RobertaTokenizer.from_pretrained('roberta-base', truncation=True, do_lower_case=True)"
      ]
    },
    {
      "cell_type": "code",
      "execution_count": 50,
      "metadata": {
        "id": "zaM9oJULu8xR"
      },
      "outputs": [],
      "source": [
        "class SentimentData(Dataset):\n",
        "    def __init__(self, X, y, tokenizer, max_len):\n",
        "        self.tokenizer = tokenizer\n",
        "        self.text = X\n",
        "        self.targets = y\n",
        "        self.max_len = max_len\n",
        "\n",
        "    def __len__(self):\n",
        "        return len(self.text)\n",
        "\n",
        "    def __getitem__(self, index):\n",
        "        text = str(self.text[index])\n",
        "        text = \" \".join(text.split()) #Remove extra and irregular white spaces\n",
        "\n",
        "        inputs = self.tokenizer.encode_plus(\n",
        "            text,\n",
        "            None,\n",
        "            add_special_tokens=True,\n",
        "            max_length=self.max_len,\n",
        "            truncation = True,\n",
        "            padding = 'max_length',\n",
        "            return_token_type_ids=True\n",
        "        )\n",
        "        ids = inputs['input_ids']\n",
        "        mask = inputs['attention_mask']\n",
        "        token_type_ids = inputs[\"token_type_ids\"]\n",
        "\n",
        "\n",
        "        return {\n",
        "            'ids': torch.tensor(ids, dtype=torch.long),\n",
        "            'mask': torch.tensor(mask, dtype=torch.long),\n",
        "            'token_type_ids': torch.tensor(token_type_ids, dtype=torch.long),\n",
        "            'targets': torch.tensor(self.targets[index], dtype=torch.float)\n",
        "        }"
      ]
    },
    {
      "cell_type": "code",
      "execution_count": 51,
      "metadata": {
        "id": "1Iy7x6Eeu8xR"
      },
      "outputs": [],
      "source": [
        "training_set = SentimentData(X_train, y_train, tokenizer, MAX_LEN)\n",
        "validation_set = SentimentData(X_val, y_val, tokenizer, MAX_LEN)"
      ]
    },
    {
      "cell_type": "code",
      "execution_count": 52,
      "metadata": {
        "id": "VM2SnOJ5u8xR"
      },
      "outputs": [],
      "source": [
        "train_params = {'batch_size': TRAIN_BATCH_SIZE,\n",
        "                'shuffle': True,\n",
        "                'num_workers': 0\n",
        "                }\n",
        "\n",
        "val_params = {'batch_size': VALID_BATCH_SIZE,\n",
        "                'shuffle': True,\n",
        "                'num_workers': 0\n",
        "                }\n",
        "\n",
        "training_loader = DataLoader(training_set, **train_params)\n",
        "validation_loader = DataLoader(validation_set, **val_params)"
      ]
    },
    {
      "cell_type": "markdown",
      "metadata": {
        "id": "etjonWqIu8xR"
      },
      "source": [
        "## Creating the neural network for Fine Tuning"
      ]
    },
    {
      "cell_type": "code",
      "execution_count": 51,
      "metadata": {
        "id": "KLHUesZbu8xR"
      },
      "outputs": [],
      "source": [
        "class RobertaClassifier(torch.nn.Module):\n",
        "    def __init__(self):\n",
        "        super(RobertaClassifier, self).__init__()\n",
        "        self.roberta_model = RobertaModel.from_pretrained(\"roberta-base\")\n",
        "        self.pre_classifier = torch.nn.Linear(768, 768) #Linear layer applied on the output embedding\n",
        "        self.dropout = torch.nn.Dropout(0.3) #Dropout for regularization\n",
        "        self.classifier = torch.nn.Linear(768, 4) #Output layer: 4 classes\n",
        "\n",
        "    def forward(self, input_ids, attention_mask, token_type_ids):\n",
        "        output_1 = self.roberta_model(input_ids=input_ids, attention_mask=attention_mask, token_type_ids=token_type_ids)\n",
        "        hidden_state = output_1[0] #Get last hidden state\n",
        "        pooler = hidden_state[:, 0] #Get the hidden state corresponding to the first token <s> used in RoBERTa for classification\n",
        "        pooler = self.pre_classifier(pooler)\n",
        "        pooler = torch.nn.ReLU()(pooler)\n",
        "        pooler = self.dropout(pooler)\n",
        "        output = self.classifier(pooler)\n",
        "        return output"
      ]
    },
    {
      "cell_type": "code",
      "execution_count": 54,
      "metadata": {
        "colab": {
          "base_uri": "https://localhost:8080/"
        },
        "id": "L1okkaOUu8xS",
        "outputId": "25c1eeaa-23e4-45ac-96c0-7ee0dcc09dfd"
      },
      "outputs": [
        {
          "name": "stderr",
          "output_type": "stream",
          "text": [
            "Some weights of RobertaModel were not initialized from the model checkpoint at roberta-base and are newly initialized: ['roberta.pooler.dense.bias', 'roberta.pooler.dense.weight']\n",
            "You should probably TRAIN this model on a down-stream task to be able to use it for predictions and inference.\n"
          ]
        },
        {
          "data": {
            "text/plain": [
              "RobertaClassifier(\n",
              "  (roberta_model): RobertaModel(\n",
              "    (embeddings): RobertaEmbeddings(\n",
              "      (word_embeddings): Embedding(50265, 768, padding_idx=1)\n",
              "      (position_embeddings): Embedding(514, 768, padding_idx=1)\n",
              "      (token_type_embeddings): Embedding(1, 768)\n",
              "      (LayerNorm): LayerNorm((768,), eps=1e-05, elementwise_affine=True)\n",
              "      (dropout): Dropout(p=0.1, inplace=False)\n",
              "    )\n",
              "    (encoder): RobertaEncoder(\n",
              "      (layer): ModuleList(\n",
              "        (0-11): 12 x RobertaLayer(\n",
              "          (attention): RobertaAttention(\n",
              "            (self): RobertaSdpaSelfAttention(\n",
              "              (query): Linear(in_features=768, out_features=768, bias=True)\n",
              "              (key): Linear(in_features=768, out_features=768, bias=True)\n",
              "              (value): Linear(in_features=768, out_features=768, bias=True)\n",
              "              (dropout): Dropout(p=0.1, inplace=False)\n",
              "            )\n",
              "            (output): RobertaSelfOutput(\n",
              "              (dense): Linear(in_features=768, out_features=768, bias=True)\n",
              "              (LayerNorm): LayerNorm((768,), eps=1e-05, elementwise_affine=True)\n",
              "              (dropout): Dropout(p=0.1, inplace=False)\n",
              "            )\n",
              "          )\n",
              "          (intermediate): RobertaIntermediate(\n",
              "            (dense): Linear(in_features=768, out_features=3072, bias=True)\n",
              "            (intermediate_act_fn): GELUActivation()\n",
              "          )\n",
              "          (output): RobertaOutput(\n",
              "            (dense): Linear(in_features=3072, out_features=768, bias=True)\n",
              "            (LayerNorm): LayerNorm((768,), eps=1e-05, elementwise_affine=True)\n",
              "            (dropout): Dropout(p=0.1, inplace=False)\n",
              "          )\n",
              "        )\n",
              "      )\n",
              "    )\n",
              "    (pooler): RobertaPooler(\n",
              "      (dense): Linear(in_features=768, out_features=768, bias=True)\n",
              "      (activation): Tanh()\n",
              "    )\n",
              "  )\n",
              "  (pre_classifier): Linear(in_features=768, out_features=768, bias=True)\n",
              "  (dropout): Dropout(p=0.3, inplace=False)\n",
              "  (classifier): Linear(in_features=768, out_features=4, bias=True)\n",
              ")"
            ]
          },
          "execution_count": 54,
          "metadata": {},
          "output_type": "execute_result"
        }
      ],
      "source": [
        "model =RobertaClassifier()\n",
        "model.to(device)"
      ]
    },
    {
      "cell_type": "markdown",
      "metadata": {
        "id": "Kwo_w4u1u8xS"
      },
      "source": [
        "## Model finetuning"
      ]
    },
    {
      "cell_type": "code",
      "execution_count": 49,
      "metadata": {
        "id": "7GFPNxTAu8xT"
      },
      "outputs": [],
      "source": [
        "from tqdm import tqdm"
      ]
    },
    {
      "cell_type": "code",
      "execution_count": 56,
      "metadata": {
        "id": "QOKA1b2_u8xT"
      },
      "outputs": [],
      "source": [
        "# Creating the loss function and optimizer\n",
        "loss_function = torch.nn.CrossEntropyLoss()\n",
        "optimizer = torch.optim.Adam(params =  model.parameters(), lr=LEARNING_RATE)"
      ]
    },
    {
      "cell_type": "code",
      "execution_count": 57,
      "metadata": {
        "id": "UUj0iKmWu8xT"
      },
      "outputs": [],
      "source": [
        "def calcuate_accuracy(preds, targets):\n",
        "    n_correct = (preds==targets).sum().item()\n",
        "    return n_correct"
      ]
    },
    {
      "cell_type": "code",
      "execution_count": 58,
      "metadata": {
        "colab": {
          "base_uri": "https://localhost:8080/",
          "height": 1000
        },
        "id": "rtv-Zn3F4Vdf",
        "outputId": "34215a1a-7c1b-4692-db7c-aa4b15f86fb2"
      },
      "outputs": [
        {
          "name": "stderr",
          "output_type": "stream",
          "text": [
            "\r0it [00:00, ?it/s]"
          ]
        },
        {
          "name": "stdout",
          "output_type": "stream",
          "text": [
            "Training Loss per 100 steps: 1.4112595319747925\n",
            "Training Accuracy per 100 steps: 21.875\n"
          ]
        },
        {
          "name": "stderr",
          "output_type": "stream",
          "text": [
            "\n",
            "0it [00:00, ?it/s]\u001b[A\n",
            "1it [00:04,  4.31s/it]\u001b[A\n",
            "2it [00:08,  4.32s/it]\u001b[A\n",
            "3it [00:12,  4.33s/it]\u001b[A\n",
            "4it [00:16,  4.24s/it]\n"
          ]
        },
        {
          "name": "stdout",
          "output_type": "stream",
          "text": [
            "Validation Loss per 100 steps: 1.3796791732311249\n",
            "Validation Accuracy per 100 steps: 28.0\n"
          ]
        },
        {
          "name": "stderr",
          "output_type": "stream",
          "text": [
            "100it [03:17,  1.80s/it]"
          ]
        },
        {
          "name": "stdout",
          "output_type": "stream",
          "text": [
            "Training Loss per 100 steps: 1.2104232683040128\n",
            "Training Accuracy per 100 steps: 47.30816831683168\n"
          ]
        },
        {
          "name": "stderr",
          "output_type": "stream",
          "text": [
            "\n",
            "0it [00:00, ?it/s]\u001b[A\n",
            "1it [00:04,  4.53s/it]\u001b[A\n",
            "2it [00:08,  4.49s/it]\u001b[A\n",
            "3it [00:13,  4.50s/it]\u001b[A\n",
            "4it [00:17,  4.40s/it]\n",
            "101it [03:36,  7.08s/it]"
          ]
        },
        {
          "name": "stdout",
          "output_type": "stream",
          "text": [
            "Validation Loss per 100 steps: 1.1401244699954987\n",
            "Validation Accuracy per 100 steps: 51.9\n"
          ]
        },
        {
          "name": "stderr",
          "output_type": "stream",
          "text": [
            "200it [06:36,  1.81s/it]"
          ]
        },
        {
          "name": "stdout",
          "output_type": "stream",
          "text": [
            "Training Loss per 100 steps: 1.1471306957415681\n",
            "Training Accuracy per 100 steps: 51.53917910447761\n"
          ]
        },
        {
          "name": "stderr",
          "output_type": "stream",
          "text": [
            "\n",
            "0it [00:00, ?it/s]\u001b[A\n",
            "1it [00:04,  4.47s/it]\u001b[A\n",
            "2it [00:08,  4.47s/it]\u001b[A\n",
            "3it [00:13,  4.47s/it]\u001b[A\n",
            "4it [00:17,  4.38s/it]\n",
            "201it [06:55,  7.06s/it]"
          ]
        },
        {
          "name": "stdout",
          "output_type": "stream",
          "text": [
            "Validation Loss per 100 steps: 0.9672860205173492\n",
            "Validation Accuracy per 100 steps: 61.4\n"
          ]
        },
        {
          "name": "stderr",
          "output_type": "stream",
          "text": [
            "300it [09:54,  1.80s/it]"
          ]
        },
        {
          "name": "stdout",
          "output_type": "stream",
          "text": [
            "Training Loss per 100 steps: 1.1001740412854673\n",
            "Training Accuracy per 100 steps: 54.30855481727575\n"
          ]
        },
        {
          "name": "stderr",
          "output_type": "stream",
          "text": [
            "\n",
            "0it [00:00, ?it/s]\u001b[A\n",
            "1it [00:04,  4.52s/it]\u001b[A\n",
            "2it [00:08,  4.49s/it]\u001b[A\n",
            "3it [00:13,  4.48s/it]\u001b[A\n",
            "4it [00:17,  4.40s/it]\n",
            "301it [10:13,  7.10s/it]"
          ]
        },
        {
          "name": "stdout",
          "output_type": "stream",
          "text": [
            "Validation Loss per 100 steps: 0.9119671434164047\n",
            "Validation Accuracy per 100 steps: 63.4\n"
          ]
        },
        {
          "name": "stderr",
          "output_type": "stream",
          "text": [
            "400it [13:12,  1.80s/it]"
          ]
        },
        {
          "name": "stdout",
          "output_type": "stream",
          "text": [
            "Training Loss per 100 steps: 1.0739985187154755\n",
            "Training Accuracy per 100 steps: 55.86034912718205\n"
          ]
        },
        {
          "name": "stderr",
          "output_type": "stream",
          "text": [
            "\n",
            "0it [00:00, ?it/s]\u001b[A\n",
            "1it [00:04,  4.48s/it]\u001b[A\n",
            "2it [00:08,  4.46s/it]\u001b[A\n",
            "3it [00:13,  4.46s/it]\u001b[A\n",
            "4it [00:17,  4.37s/it]\n",
            "401it [13:31,  7.06s/it]"
          ]
        },
        {
          "name": "stdout",
          "output_type": "stream",
          "text": [
            "Validation Loss per 100 steps: 0.8881086558103561\n",
            "Validation Accuracy per 100 steps: 65.4\n"
          ]
        },
        {
          "name": "stderr",
          "output_type": "stream",
          "text": [
            "500it [16:30,  1.81s/it]"
          ]
        },
        {
          "name": "stdout",
          "output_type": "stream",
          "text": [
            "Training Loss per 100 steps: 1.0481683972352993\n",
            "Training Accuracy per 100 steps: 57.15444111776447\n"
          ]
        },
        {
          "name": "stderr",
          "output_type": "stream",
          "text": [
            "\n",
            "0it [00:00, ?it/s]\u001b[A\n",
            "1it [00:04,  4.48s/it]\u001b[A\n",
            "2it [00:08,  4.47s/it]\u001b[A\n",
            "3it [00:13,  4.47s/it]\u001b[A\n",
            "4it [00:17,  4.37s/it]\n",
            "501it [16:49,  7.06s/it]"
          ]
        },
        {
          "name": "stdout",
          "output_type": "stream",
          "text": [
            "Validation Loss per 100 steps: 0.8340247422456741\n",
            "Validation Accuracy per 100 steps: 68.9\n"
          ]
        },
        {
          "name": "stderr",
          "output_type": "stream",
          "text": [
            "600it [19:48,  1.81s/it]"
          ]
        },
        {
          "name": "stdout",
          "output_type": "stream",
          "text": [
            "Training Loss per 100 steps: 1.0249304089093962\n",
            "Training Accuracy per 100 steps: 58.21547420965058\n"
          ]
        },
        {
          "name": "stderr",
          "output_type": "stream",
          "text": [
            "\n",
            "0it [00:00, ?it/s]\u001b[A\n",
            "1it [00:04,  4.47s/it]\u001b[A\n",
            "2it [00:09,  4.52s/it]\u001b[A\n",
            "3it [00:13,  4.50s/it]\u001b[A\n",
            "4it [00:17,  4.40s/it]\n",
            "601it [20:07,  7.09s/it]"
          ]
        },
        {
          "name": "stdout",
          "output_type": "stream",
          "text": [
            "Validation Loss per 100 steps: 0.7799220234155655\n",
            "Validation Accuracy per 100 steps: 70.4\n"
          ]
        },
        {
          "name": "stderr",
          "output_type": "stream",
          "text": [
            "700it [23:06,  1.81s/it]"
          ]
        },
        {
          "name": "stdout",
          "output_type": "stream",
          "text": [
            "Training Loss per 100 steps: 1.0055658229747615\n",
            "Training Accuracy per 100 steps: 59.183309557774606\n"
          ]
        },
        {
          "name": "stderr",
          "output_type": "stream",
          "text": [
            "\n",
            "0it [00:00, ?it/s]\u001b[A\n",
            "1it [00:04,  4.57s/it]\u001b[A\n",
            "2it [00:09,  4.52s/it]\u001b[A\n",
            "3it [00:13,  4.50s/it]\u001b[A\n",
            "4it [00:17,  4.40s/it]\n",
            "701it [23:25,  7.09s/it]"
          ]
        },
        {
          "name": "stdout",
          "output_type": "stream",
          "text": [
            "Validation Loss per 100 steps: 0.7554272413253784\n",
            "Validation Accuracy per 100 steps: 70.6\n"
          ]
        },
        {
          "name": "stderr",
          "output_type": "stream",
          "text": [
            "800it [26:24,  1.80s/it]"
          ]
        },
        {
          "name": "stdout",
          "output_type": "stream",
          "text": [
            "Training Loss per 100 steps: 0.9856216165233641\n",
            "Training Accuracy per 100 steps: 60.221598002496876\n"
          ]
        },
        {
          "name": "stderr",
          "output_type": "stream",
          "text": [
            "\n",
            "0it [00:00, ?it/s]\u001b[A\n",
            "1it [00:04,  4.45s/it]\u001b[A\n",
            "2it [00:08,  4.46s/it]\u001b[A\n",
            "3it [00:13,  4.46s/it]\u001b[A\n",
            "4it [00:17,  4.37s/it]\n",
            "801it [26:44,  7.04s/it]"
          ]
        },
        {
          "name": "stdout",
          "output_type": "stream",
          "text": [
            "Validation Loss per 100 steps: 0.7733759582042694\n",
            "Validation Accuracy per 100 steps: 69.1\n"
          ]
        },
        {
          "name": "stderr",
          "output_type": "stream",
          "text": [
            "900it [29:42,  1.81s/it]"
          ]
        },
        {
          "name": "stdout",
          "output_type": "stream",
          "text": [
            "Training Loss per 100 steps: 0.9724305005832994\n",
            "Training Accuracy per 100 steps: 60.83865149833518\n"
          ]
        },
        {
          "name": "stderr",
          "output_type": "stream",
          "text": [
            "\n",
            "0it [00:00, ?it/s]\u001b[A\n",
            "1it [00:04,  4.56s/it]\u001b[A\n",
            "2it [00:09,  4.51s/it]\u001b[A\n",
            "3it [00:13,  4.50s/it]\u001b[A\n",
            "4it [00:17,  4.40s/it]\n",
            "901it [30:01,  7.09s/it]"
          ]
        },
        {
          "name": "stdout",
          "output_type": "stream",
          "text": [
            "Validation Loss per 100 steps: 0.7593409568071365\n",
            "Validation Accuracy per 100 steps: 71.8\n"
          ]
        },
        {
          "name": "stderr",
          "output_type": "stream",
          "text": [
            "1000it [33:00,  1.80s/it]"
          ]
        },
        {
          "name": "stdout",
          "output_type": "stream",
          "text": [
            "Training Loss per 100 steps: 0.9602479988580698\n",
            "Training Accuracy per 100 steps: 61.36988011988012\n"
          ]
        },
        {
          "name": "stderr",
          "output_type": "stream",
          "text": [
            "\n",
            "0it [00:00, ?it/s]\u001b[A\n",
            "1it [00:04,  4.47s/it]\u001b[A\n",
            "2it [00:09,  4.51s/it]\u001b[A\n",
            "3it [00:13,  4.49s/it]\u001b[A\n",
            "4it [00:17,  4.39s/it]\n",
            "1001it [33:20,  7.07s/it]"
          ]
        },
        {
          "name": "stdout",
          "output_type": "stream",
          "text": [
            "Validation Loss per 100 steps: 0.6558981388807297\n",
            "Validation Accuracy per 100 steps: 75.5\n"
          ]
        },
        {
          "name": "stderr",
          "output_type": "stream",
          "text": [
            "1100it [36:18,  1.81s/it]"
          ]
        },
        {
          "name": "stdout",
          "output_type": "stream",
          "text": [
            "Training Loss per 100 steps: 0.947184515232178\n",
            "Training Accuracy per 100 steps: 61.97774750227066\n"
          ]
        },
        {
          "name": "stderr",
          "output_type": "stream",
          "text": [
            "\n",
            "0it [00:00, ?it/s]\u001b[A\n",
            "1it [00:04,  4.47s/it]\u001b[A\n",
            "2it [00:08,  4.46s/it]\u001b[A\n",
            "3it [00:13,  4.47s/it]\u001b[A\n",
            "4it [00:17,  4.37s/it]\n",
            "1101it [36:37,  7.05s/it]"
          ]
        },
        {
          "name": "stdout",
          "output_type": "stream",
          "text": [
            "Validation Loss per 100 steps: 0.7018260210752487\n",
            "Validation Accuracy per 100 steps: 72.3\n"
          ]
        },
        {
          "name": "stderr",
          "output_type": "stream",
          "text": [
            "1200it [39:36,  1.80s/it]"
          ]
        },
        {
          "name": "stdout",
          "output_type": "stream",
          "text": [
            "Training Loss per 100 steps: 0.9353122465765347\n",
            "Training Accuracy per 100 steps: 62.57545795170691\n"
          ]
        },
        {
          "name": "stderr",
          "output_type": "stream",
          "text": [
            "\n",
            "0it [00:00, ?it/s]\u001b[A\n",
            "1it [00:04,  4.45s/it]\u001b[A\n",
            "2it [00:08,  4.49s/it]\u001b[A\n",
            "3it [00:13,  4.47s/it]\u001b[A\n",
            "4it [00:17,  4.37s/it]\n",
            "1201it [39:55,  7.05s/it]"
          ]
        },
        {
          "name": "stdout",
          "output_type": "stream",
          "text": [
            "Validation Loss per 100 steps: 0.5821126475930214\n",
            "Validation Accuracy per 100 steps: 78.7\n"
          ]
        },
        {
          "name": "stderr",
          "output_type": "stream",
          "text": [
            "1300it [42:54,  1.80s/it]"
          ]
        },
        {
          "name": "stdout",
          "output_type": "stream",
          "text": [
            "Training Loss per 100 steps: 0.9209210948702191\n",
            "Training Accuracy per 100 steps: 63.2782475019216\n"
          ]
        },
        {
          "name": "stderr",
          "output_type": "stream",
          "text": [
            "\n",
            "0it [00:00, ?it/s]\u001b[A\n",
            "1it [00:04,  4.48s/it]\u001b[A\n",
            "2it [00:08,  4.47s/it]\u001b[A\n",
            "3it [00:13,  4.47s/it]\u001b[A\n",
            "4it [00:17,  4.37s/it]\n",
            "1301it [43:13,  7.05s/it]"
          ]
        },
        {
          "name": "stdout",
          "output_type": "stream",
          "text": [
            "Validation Loss per 100 steps: 0.6069120317697525\n",
            "Validation Accuracy per 100 steps: 77.5\n"
          ]
        },
        {
          "name": "stderr",
          "output_type": "stream",
          "text": [
            "1400it [46:12,  1.81s/it]"
          ]
        },
        {
          "name": "stdout",
          "output_type": "stream",
          "text": [
            "Training Loss per 100 steps: 0.9087053871129258\n",
            "Training Accuracy per 100 steps: 63.807102069950034\n"
          ]
        },
        {
          "name": "stderr",
          "output_type": "stream",
          "text": [
            "\n",
            "0it [00:00, ?it/s]\u001b[A\n",
            "1it [00:04,  4.62s/it]\u001b[A\n",
            "2it [00:09,  4.58s/it]\u001b[A\n",
            "3it [00:13,  4.55s/it]\u001b[A\n",
            "4it [00:17,  4.44s/it]\n",
            "1401it [46:32,  7.13s/it]"
          ]
        },
        {
          "name": "stdout",
          "output_type": "stream",
          "text": [
            "Validation Loss per 100 steps: 0.5590739697217941\n",
            "Validation Accuracy per 100 steps: 80.0\n"
          ]
        },
        {
          "name": "stderr",
          "output_type": "stream",
          "text": [
            "1500it [49:31,  1.81s/it]"
          ]
        },
        {
          "name": "stdout",
          "output_type": "stream",
          "text": [
            "Training Loss per 100 steps: 0.8987429199180629\n",
            "Training Accuracy per 100 steps: 64.29671885409726\n"
          ]
        },
        {
          "name": "stderr",
          "output_type": "stream",
          "text": [
            "\n",
            "0it [00:00, ?it/s]\u001b[A\n",
            "1it [00:04,  4.47s/it]\u001b[A\n",
            "2it [00:09,  4.60s/it]\u001b[A\n",
            "3it [00:13,  4.56s/it]\u001b[A\n",
            "4it [00:17,  4.45s/it]\n",
            "1501it [49:50,  7.16s/it]"
          ]
        },
        {
          "name": "stdout",
          "output_type": "stream",
          "text": [
            "Validation Loss per 100 steps: 0.5403064712882042\n",
            "Validation Accuracy per 100 steps: 79.6\n"
          ]
        },
        {
          "name": "stderr",
          "output_type": "stream",
          "text": [
            "1600it [52:49,  1.80s/it]"
          ]
        },
        {
          "name": "stdout",
          "output_type": "stream",
          "text": [
            "Training Loss per 100 steps: 0.8882326446496867\n",
            "Training Accuracy per 100 steps: 64.73883510306058\n"
          ]
        },
        {
          "name": "stderr",
          "output_type": "stream",
          "text": [
            "\n",
            "0it [00:00, ?it/s]\u001b[A\n",
            "1it [00:04,  4.53s/it]\u001b[A\n",
            "2it [00:08,  4.49s/it]\u001b[A\n",
            "3it [00:13,  4.49s/it]\u001b[A\n",
            "4it [00:17,  4.41s/it]\n",
            "1601it [53:08,  7.10s/it]"
          ]
        },
        {
          "name": "stdout",
          "output_type": "stream",
          "text": [
            "Validation Loss per 100 steps: 0.4996398389339447\n",
            "Validation Accuracy per 100 steps: 80.9\n"
          ]
        },
        {
          "name": "stderr",
          "output_type": "stream",
          "text": [
            "1700it [56:07,  1.81s/it]"
          ]
        },
        {
          "name": "stdout",
          "output_type": "stream",
          "text": [
            "Training Loss per 100 steps: 0.8791776564561361\n",
            "Training Accuracy per 100 steps: 65.13080540858319\n"
          ]
        },
        {
          "name": "stderr",
          "output_type": "stream",
          "text": [
            "\n",
            "0it [00:00, ?it/s]\u001b[A\n",
            "1it [00:04,  4.45s/it]\u001b[A\n",
            "2it [00:08,  4.47s/it]\u001b[A\n",
            "3it [00:13,  4.47s/it]\u001b[A\n",
            "4it [00:17,  4.38s/it]\n",
            "1701it [56:27,  7.06s/it]"
          ]
        },
        {
          "name": "stdout",
          "output_type": "stream",
          "text": [
            "Validation Loss per 100 steps: 0.4823596030473709\n",
            "Validation Accuracy per 100 steps: 82.5\n"
          ]
        },
        {
          "name": "stderr",
          "output_type": "stream",
          "text": [
            "1800it [59:26,  1.80s/it]"
          ]
        },
        {
          "name": "stdout",
          "output_type": "stream",
          "text": [
            "Training Loss per 100 steps: 0.8694238542749245\n",
            "Training Accuracy per 100 steps: 65.61285397001666\n"
          ]
        },
        {
          "name": "stderr",
          "output_type": "stream",
          "text": [
            "\n",
            "0it [00:00, ?it/s]\u001b[A\n",
            "1it [00:04,  4.53s/it]\u001b[A\n",
            "2it [00:09,  4.51s/it]\u001b[A\n",
            "3it [00:13,  4.48s/it]\u001b[A\n",
            "4it [00:17,  4.40s/it]\n",
            "1801it [59:45,  7.09s/it]"
          ]
        },
        {
          "name": "stdout",
          "output_type": "stream",
          "text": [
            "Validation Loss per 100 steps: 0.4409765750169754\n",
            "Validation Accuracy per 100 steps: 83.8\n"
          ]
        },
        {
          "name": "stderr",
          "output_type": "stream",
          "text": [
            "1900it [1:02:44,  1.80s/it]"
          ]
        },
        {
          "name": "stdout",
          "output_type": "stream",
          "text": [
            "Training Loss per 100 steps: 0.8590128761351202\n",
            "Training Accuracy per 100 steps: 66.09514729089953\n"
          ]
        },
        {
          "name": "stderr",
          "output_type": "stream",
          "text": [
            "\n",
            "0it [00:00, ?it/s]\u001b[A\n",
            "1it [00:04,  4.48s/it]\u001b[A\n",
            "2it [00:09,  4.57s/it]\u001b[A\n",
            "3it [00:13,  4.56s/it]\u001b[A\n",
            "4it [00:17,  4.44s/it]\n",
            "1901it [1:03:04,  7.13s/it]"
          ]
        },
        {
          "name": "stdout",
          "output_type": "stream",
          "text": [
            "Validation Loss per 100 steps: 0.44308624416589737\n",
            "Validation Accuracy per 100 steps: 84.1\n"
          ]
        },
        {
          "name": "stderr",
          "output_type": "stream",
          "text": [
            "2000it [1:06:03,  1.80s/it]"
          ]
        },
        {
          "name": "stdout",
          "output_type": "stream",
          "text": [
            "Training Loss per 100 steps: 0.8500100036730235\n",
            "Training Accuracy per 100 steps: 66.46989005497251\n"
          ]
        },
        {
          "name": "stderr",
          "output_type": "stream",
          "text": [
            "\n",
            "0it [00:00, ?it/s]\u001b[A\n",
            "1it [00:04,  4.55s/it]\u001b[A\n",
            "2it [00:09,  4.51s/it]\u001b[A\n",
            "3it [00:13,  4.50s/it]\u001b[A\n",
            "4it [00:17,  4.41s/it]\n",
            "2001it [1:06:22,  7.11s/it]"
          ]
        },
        {
          "name": "stdout",
          "output_type": "stream",
          "text": [
            "Validation Loss per 100 steps: 0.4581794813275337\n",
            "Validation Accuracy per 100 steps: 84.0\n"
          ]
        },
        {
          "name": "stderr",
          "output_type": "stream",
          "text": [
            "2100it [1:09:21,  1.81s/it]"
          ]
        },
        {
          "name": "stdout",
          "output_type": "stream",
          "text": [
            "Training Loss per 100 steps: 0.8400564607497002\n",
            "Training Accuracy per 100 steps: 66.91456449309852\n"
          ]
        },
        {
          "name": "stderr",
          "output_type": "stream",
          "text": [
            "\n",
            "0it [00:00, ?it/s]\u001b[A\n",
            "1it [00:04,  4.46s/it]\u001b[A\n",
            "2it [00:08,  4.46s/it]\u001b[A\n",
            "3it [00:13,  4.46s/it]\u001b[A\n",
            "4it [00:17,  4.37s/it]\n",
            "2101it [1:09:41,  7.05s/it]"
          ]
        },
        {
          "name": "stdout",
          "output_type": "stream",
          "text": [
            "Validation Loss per 100 steps: 0.38684724271297455\n",
            "Validation Accuracy per 100 steps: 86.6\n"
          ]
        },
        {
          "name": "stderr",
          "output_type": "stream",
          "text": [
            "2200it [1:12:39,  1.81s/it]"
          ]
        },
        {
          "name": "stdout",
          "output_type": "stream",
          "text": [
            "Training Loss per 100 steps: 0.8304332592564786\n",
            "Training Accuracy per 100 steps: 67.32735120399818\n"
          ]
        },
        {
          "name": "stderr",
          "output_type": "stream",
          "text": [
            "\n",
            "0it [00:00, ?it/s]\u001b[A\n",
            "1it [00:04,  4.53s/it]\u001b[A\n",
            "2it [00:09,  4.62s/it]\u001b[A\n",
            "3it [00:13,  4.61s/it]\u001b[A\n",
            "4it [00:17,  4.49s/it]\n",
            "2201it [1:12:59,  7.21s/it]"
          ]
        },
        {
          "name": "stdout",
          "output_type": "stream",
          "text": [
            "Validation Loss per 100 steps: 0.3971344605088234\n",
            "Validation Accuracy per 100 steps: 86.2\n"
          ]
        },
        {
          "name": "stderr",
          "output_type": "stream",
          "text": [
            "2247it [1:14:22,  1.99s/it]\n"
          ]
        },
        {
          "name": "stdout",
          "output_type": "stream",
          "text": [
            "The Total Accuracy for Epoch 0: 67.52677702044791\n",
            "Training Loss Epoch: 0.826547016507793\n",
            "Training Accuracy Epoch: 67.52677702044791\n",
            "Validation Loss Epoch: 0.3971344605088234\n",
            "Validation Accuracy Epoch: 86.2\n"
          ]
        },
        {
          "data": {
            "image/png": "[encoded data removed]",
            "text/plain": [
              "<Figure size 1000x500 with 1 Axes>"
            ]
          },
          "metadata": {},
          "output_type": "display_data"
        },
        {
          "data": {
            "image/png": "[encoded data removed]",
            "text/plain": [
              "<Figure size 1000x500 with 1 Axes>"
            ]
          },
          "metadata": {},
          "output_type": "display_data"
        }
      ],
      "source": [
        "import torch\n",
        "import matplotlib.pyplot as plt\n",
        "from tqdm import tqdm\n",
        "\n",
        "def validate(validation_loader, model, loss_function):\n",
        "    model.eval()\n",
        "    val_loss = 0\n",
        "    n_correct = 0\n",
        "    nb_val_steps = 0\n",
        "    nb_val_examples = 0\n",
        "\n",
        "    with torch.no_grad():  # No gradients are computed during validation\n",
        "        for i, data in tqdm(enumerate(validation_loader)):\n",
        "            ids = data['ids'].to(device, dtype=torch.long)\n",
        "            mask = data['mask'].to(device, dtype=torch.long)\n",
        "            token_type_ids = data['token_type_ids'].to(device, dtype=torch.long)\n",
        "            targets = data['targets'].to(device, dtype=torch.long)\n",
        "\n",
        "            outputs = model(ids, mask, token_type_ids)\n",
        "            loss = loss_function(outputs, targets)\n",
        "            val_loss += loss.item()\n",
        "\n",
        "            big_val, big_idx = torch.max(outputs.data, dim=1)\n",
        "            n_correct += calcuate_accuracy(big_idx, targets)\n",
        "\n",
        "            nb_val_steps += 1\n",
        "            nb_val_examples += targets.size(0)\n",
        "\n",
        "    epoch_loss = val_loss / nb_val_steps\n",
        "    epoch_accu = (n_correct * 100) / nb_val_examples\n",
        "    return epoch_loss, epoch_accu\n",
        "\n",
        "\n",
        "def train(epoch, training_loader, validation_loader):\n",
        "    tr_loss = 0\n",
        "    n_correct = 0\n",
        "    nb_tr_steps = 0\n",
        "    nb_tr_examples = 0\n",
        "    model.train()\n",
        "    training_losses = []\n",
        "    validation_losses = []\n",
        "    training_accuracies = []\n",
        "    validation_accuracies = []\n",
        "\n",
        "    for i, data in tqdm(enumerate(training_loader)):\n",
        "        ids = data['ids'].to(device, dtype=torch.long)\n",
        "        mask = data['mask'].to(device, dtype=torch.long)\n",
        "        token_type_ids = data['token_type_ids'].to(device, dtype=torch.long)\n",
        "        targets = data['targets'].to(device, dtype=torch.long)\n",
        "\n",
        "\n",
        "        outputs = model(ids, mask, token_type_ids)\n",
        "        loss = loss_function(outputs, targets)\n",
        "        tr_loss += loss.item()\n",
        "\n",
        "        big_val, big_idx = torch.max(outputs.data, dim=1)\n",
        "        n_correct += calcuate_accuracy(big_idx, targets)\n",
        "\n",
        "        nb_tr_steps += 1\n",
        "        nb_tr_examples += targets.size(0)\n",
        "\n",
        "        # Step-wise logging\n",
        "        if i % 100 == 0:\n",
        "            loss_step = tr_loss / nb_tr_steps\n",
        "            accu_step = (n_correct * 100) / nb_tr_examples\n",
        "            print(f\"Training Loss per 100 steps: {loss_step}\")\n",
        "            print(f\"Training Accuracy per 100 steps: {accu_step}\")\n",
        "            #After every 100 steps, store training stats for plotting later\n",
        "            training_losses.append(loss_step)\n",
        "            training_accuracies.append(accu_step)\n",
        "\n",
        "            #After every 100 steps, perform validation and store the stats\n",
        "            val_loss, val_accu = validate(validation_loader, model, loss_function)\n",
        "            print(f\"Validation Loss per 100 steps: {val_loss}\")\n",
        "            print(f\"Validation Accuracy per 100 steps: {val_accu}\")\n",
        "            validation_losses.append(val_loss)\n",
        "            validation_accuracies.append(val_accu)\n",
        "            model.train()\n",
        "\n",
        "        optimizer.zero_grad()\n",
        "        loss.backward()\n",
        "        optimizer.step()\n",
        "\n",
        "\n",
        "\n",
        "    # After each epoch, perform validation and store the stats\n",
        "\n",
        "\n",
        "    print(f'The Total Accuracy for Epoch {epoch}: {(n_correct * 100) / nb_tr_examples}')\n",
        "    epoch_loss = tr_loss / nb_tr_steps\n",
        "    epoch_accu = (n_correct * 100) / nb_tr_examples\n",
        "    print(f\"Training Loss Epoch: {epoch_loss}\")\n",
        "    print(f\"Training Accuracy Epoch: {epoch_accu}\")\n",
        "    print(f\"Validation Loss Epoch: {val_loss}\")\n",
        "    print(f\"Validation Accuracy Epoch: {val_accu}\")\n",
        "\n",
        "    return training_losses, training_accuracies, validation_losses, validation_accuracies\n",
        "\n",
        "# Define the training process\n",
        "EPOCHS = 1\n",
        "training_losses = []\n",
        "training_accuracies = []\n",
        "validation_losses = []\n",
        "validation_accuracies = []\n",
        "\n",
        "for epoch in range(EPOCHS):\n",
        "    tr_losses, tr_accus, val_losses, val_accus = train(epoch, training_loader, validation_loader)\n",
        "    training_losses.extend(tr_losses)\n",
        "    training_accuracies.extend(tr_accus)\n",
        "    validation_losses.extend(val_losses)\n",
        "    validation_accuracies.extend(val_accus)\n",
        "\n",
        "# Plot Training and Validation Loss\n",
        "plt.figure(figsize=(10, 5))\n",
        "plt.plot(training_losses, label='Training Loss')\n",
        "plt.plot(validation_losses, label='Validation Loss')\n",
        "plt.title('Loss vs. Iterations')\n",
        "plt.xlabel('Iterations')\n",
        "plt.ylabel('Loss')\n",
        "plt.legend()\n",
        "plt.show()\n",
        "\n",
        "# Plot Training and Validation Accuracy\n",
        "plt.figure(figsize=(10, 5))\n",
        "plt.plot(training_accuracies, label='Training Accuracy')\n",
        "plt.plot(validation_accuracies, label='Validation Accuracy')\n",
        "plt.title('Accuracy vs. Iterations')\n",
        "plt.xlabel('Iterations')\n",
        "plt.ylabel('Accuracy (%)')\n",
        "plt.legend()\n",
        "plt.show()\n"
      ]
    },
    {
      "cell_type": "code",
      "execution_count": 61,
      "metadata": {
        "colab": {
          "base_uri": "https://localhost:8080/",
          "height": 957
        },
        "id": "rEphsArqSpXh",
        "outputId": "78b2c0b5-ea59-4980-e79c-dca6ec3efcd5"
      },
      "outputs": [
        {
          "data": {
            "image/png": "[encoded data removed]",
            "text/plain": [
              "<Figure size 1000x500 with 1 Axes>"
            ]
          },
          "metadata": {},
          "output_type": "display_data"
        },
        {
          "data": {
            "image/png": "[encoded data removed]",
            "text/plain": [
              "<Figure size 1000x500 with 1 Axes>"
            ]
          },
          "metadata": {},
          "output_type": "display_data"
        }
      ],
      "source": [
        "# Plot Training and Validation Loss\n",
        "plt.figure(figsize=(10, 5))\n",
        "x_axis = [100*i for i in range(len(training_losses))]\n",
        "plt.plot(x_axis, training_losses, label='Training Loss')\n",
        "plt.plot(x_axis, validation_losses, label='Validation Loss')\n",
        "plt.title('Loss vs. Iterations')\n",
        "plt.xlabel('Iterations')\n",
        "plt.ylabel('Loss')\n",
        "plt.legend()\n",
        "plt.show()\n",
        "\n",
        "# Plot Training and Validation Accuracy\n",
        "plt.figure(figsize=(10, 5))\n",
        "plt.plot(x_axis, training_accuracies, label='Training Accuracy')\n",
        "plt.plot(x_axis, validation_accuracies, label='Validation Accuracy')\n",
        "plt.title('Accuracy vs. Iterations')\n",
        "plt.xlabel('Iterations')\n",
        "plt.ylabel('Accuracy (%)')\n",
        "plt.legend()\n",
        "plt.show()"
      ]
    },
    {
      "cell_type": "code",
      "execution_count": 59,
      "metadata": {
        "id": "bNLsuqOgu8xV"
      },
      "outputs": [],
      "source": [
        "#Now we save the model\n",
        "output_model_file = 'pytorch_roberta_sentiment.bin'\n",
        "model_to_save = model\n",
        "torch.save(model_to_save, output_model_file)\n"
      ]
    },
    {
      "cell_type": "code",
      "execution_count": 60,
      "metadata": {
        "colab": {
          "base_uri": "https://localhost:8080/"
        },
        "id": "GO14xtm5F1EN",
        "outputId": "2e8d12a2-3710-40c4-f416-bcacd1c64e16"
      },
      "outputs": [
        {
          "data": {
            "text/plain": [
              "['class_encoder.pkl']"
            ]
          },
          "execution_count": 60,
          "metadata": {},
          "output_type": "execute_result"
        }
      ],
      "source": [
        "#Saving the label encoder\n",
        "import joblib\n",
        "joblib.dump(class_encoder, 'class_encoder.pkl')"
      ]
    },
    {
      "cell_type": "markdown",
      "metadata": {
        "id": "M1CtfrseCV6J"
      },
      "source": [
        "## Model evaluation"
      ]
    },
    {
      "cell_type": "code",
      "execution_count": 52,
      "metadata": {
        "id": "EZG7gaV0CYQE"
      },
      "outputs": [],
      "source": [
        "import joblib\n",
        "#First we load the model\n",
        "device = torch.device('cuda' if torch.cuda.is_available() else 'cpu')\n",
        "model = torch.load('pytorch_roberta_sentiment.bin', map_location=device)\n",
        "model.to(device)\n",
        "model.eval()\n",
        "#Then we load the label encoder\n",
        "class_encoder = joblib.load('class_encoder.pkl')\n",
        "#Then we load the tokenizer\n",
        "tokenizer = RobertaTokenizer.from_pretrained('roberta-base', truncation=True, do_lower_case=True)"
      ]
    },
    {
      "cell_type": "code",
      "execution_count": 53,
      "metadata": {
        "id": "vYPKB2u2FP9R"
      },
      "outputs": [],
      "source": [
        "def predict(model, input_text, tokenizer, class_encoder):\n",
        "  text = str(input_text)\n",
        "  text = \" \".join(text.split()) #Remove extra and irregular white spaces\n",
        "  inputs = tokenizer.encode_plus(\n",
        "            text,\n",
        "            None,\n",
        "            add_special_tokens=True,\n",
        "            max_length= MAX_LEN,\n",
        "            truncation = True,\n",
        "            padding = 'max_length',\n",
        "            return_token_type_ids=True\n",
        "        )\n",
        "  ids = torch.tensor(inputs['input_ids'], dtype=torch.long).to(device, dtype=torch.long)[None,:]\n",
        "  mask = torch.tensor(inputs['attention_mask'], dtype=torch.long).to(device, dtype=torch.long)[None,:]\n",
        "  token_type_ids = torch.tensor(inputs[\"token_type_ids\"], dtype=torch.long).to(device, dtype=torch.long)[None,:]\n",
        "\n",
        "  model.eval()\n",
        "  with torch.no_grad():\n",
        "    outputs = model(ids, mask, token_type_ids)\n",
        "    big_val, big_idx = torch.max(outputs.data, dim=1) \n",
        "    prediction = big_idx.item()\n",
        "\n",
        "  return prediction, class_encoder.inverse_transform([prediction])[0]\n",
        "\n"
      ]
    },
    {
      "cell_type": "code",
      "execution_count": 54,
      "metadata": {
        "colab": {
          "base_uri": "https://localhost:8080/"
        },
        "id": "kgJKM8brPLer",
        "outputId": "996b2d6e-0569-48d1-a53b-4b323ec51e2c"
      },
      "outputs": [
        {
          "data": {
            "text/plain": [
              "(3, 'Positive')"
            ]
          },
          "execution_count": 54,
          "metadata": {},
          "output_type": "execute_result"
        }
      ],
      "source": [
        "predict(model, \"This product is great.\", tokenizer, class_encoder)"
      ]
    },
    {
      "cell_type": "code",
      "execution_count": 55,
      "metadata": {
        "colab": {
          "base_uri": "https://localhost:8080/"
        },
        "id": "UHB9poHIPSB8",
        "outputId": "da73d4bb-03aa-4fe5-add1-d8d1d00dfa19"
      },
      "outputs": [
        {
          "data": {
            "text/plain": [
              "(1, 'Negative')"
            ]
          },
          "execution_count": 55,
          "metadata": {},
          "output_type": "execute_result"
        }
      ],
      "source": [
        "predict(model, \"This product is very bad.\", tokenizer, class_encoder)"
      ]
    },
    {
      "cell_type": "code",
      "execution_count": 56,
      "metadata": {
        "colab": {
          "base_uri": "https://localhost:8080/"
        },
        "id": "TVS7cd1NPXrM",
        "outputId": "011776a0-b6c0-46ac-9be1-67ae2785a0ce"
      },
      "outputs": [
        {
          "data": {
            "text/plain": [
              "(1, 'Negative')"
            ]
          },
          "execution_count": 56,
          "metadata": {},
          "output_type": "execute_result"
        }
      ],
      "source": [
        "predict(model, \"This product is average.\", tokenizer, class_encoder)"
      ]
    },
    {
      "cell_type": "code",
      "execution_count": 57,
      "metadata": {
        "id": "0CF8tLQ9FTeN"
      },
      "outputs": [],
      "source": [
        "class PredictionData(Dataset):\n",
        "    def __init__(self, texts, tokenizer, max_len):\n",
        "        self.tokenizer = tokenizer\n",
        "        self.texts = texts\n",
        "        self.max_len = max_len\n",
        "\n",
        "    def __len__(self):\n",
        "        return len(self.texts)\n",
        "\n",
        "    def __getitem__(self, index):\n",
        "        texts = str(self.texts[index])\n",
        "        texts = \" \".join(texts.split()) #Remove extra and irregular white spaces\n",
        "\n",
        "        inputs = self.tokenizer.encode_plus(\n",
        "            texts,\n",
        "            None,\n",
        "            add_special_tokens=True,\n",
        "            max_length=self.max_len,\n",
        "            truncation = True,\n",
        "            padding = 'max_length',\n",
        "            return_token_type_ids=True\n",
        "        )\n",
        "        ids = inputs['input_ids']\n",
        "        mask = inputs['attention_mask']\n",
        "        token_type_ids = inputs[\"token_type_ids\"]\n",
        "\n",
        "\n",
        "        return {\n",
        "            'ids': torch.tensor(ids, dtype=torch.long),\n",
        "            'mask': torch.tensor(mask, dtype=torch.long),\n",
        "            'token_type_ids': torch.tensor(token_type_ids, dtype=torch.long),\n",
        "        }\n",
        "\n",
        "\n",
        "def batched_predict(model, input_texts, tokenizer, class_encoder):\n",
        "    prediction_set = PredictionData(input_texts, tokenizer, MAX_LEN)\n",
        "    prediction_loader = DataLoader(prediction_set, batch_size = BATCH_SIZE, num_workers=0)\n",
        "\n",
        "    predicted_indices = []\n",
        "    predicted_labels = []\n",
        "    model.eval()\n",
        "    with torch.no_grad():\n",
        "        for i, data in tqdm(enumerate(prediction_loader)):\n",
        "            ids = data['ids'].to(device, dtype=torch.long)\n",
        "            mask = data['mask'].to(device, dtype=torch.long)\n",
        "            token_type_ids = data['token_type_ids'].to(device, dtype=torch.long)\n",
        "\n",
        "            outputs = model(ids, mask, token_type_ids)\n",
        "\n",
        "            big_val, big_idx = torch.max(outputs.data, dim=1)\n",
        "\n",
        "            big_idx = big_idx.cpu().numpy()\n",
        "\n",
        "            predicted_indices.extend(list(big_idx))\n",
        "            predicted_labels.extend(list(class_encoder.inverse_transform(big_idx)))\n",
        "\n",
        "\n",
        "    return predicted_indices, predicted_labels"
      ]
    },
    {
      "cell_type": "code",
      "execution_count": 58,
      "metadata": {
        "colab": {
          "base_uri": "https://localhost:8080/"
        },
        "id": "F_JytgA8U4jB",
        "outputId": "63bd93ad-637d-48fc-8b57-3531c93d75a9"
      },
      "outputs": [
        {
          "name": "stderr",
          "output_type": "stream",
          "text": [
            "2it [00:04,  2.00s/it]\n"
          ]
        }
      ],
      "source": [
        "BATCH_SIZE = 2\n",
        "texts = [\"This product is great.\", \"This product is very bad.\", \"This product is average.\"]\n",
        "ids, classes = batched_predict(model, texts, tokenizer, class_encoder)"
      ]
    },
    {
      "cell_type": "code",
      "execution_count": 59,
      "metadata": {
        "colab": {
          "base_uri": "https://localhost:8080/"
        },
        "id": "fwL71weTVc7R",
        "outputId": "7cda5028-1d70-4ed3-dbff-537d9817fd33"
      },
      "outputs": [
        {
          "data": {
            "text/plain": [
              "[3, 1, 1]"
            ]
          },
          "execution_count": 59,
          "metadata": {},
          "output_type": "execute_result"
        }
      ],
      "source": [
        "ids"
      ]
    },
    {
      "cell_type": "code",
      "execution_count": 60,
      "metadata": {
        "colab": {
          "base_uri": "https://localhost:8080/"
        },
        "id": "4xEoWb2cVd3f",
        "outputId": "672f5836-3326-418c-88ff-b69aa20a3b7b"
      },
      "outputs": [
        {
          "data": {
            "text/plain": [
              "['Positive', 'Negative', 'Negative']"
            ]
          },
          "execution_count": 60,
          "metadata": {},
          "output_type": "execute_result"
        }
      ],
      "source": [
        "classes"
      ]
    },
    {
      "cell_type": "code",
      "execution_count": 61,
      "metadata": {
        "colab": {
          "base_uri": "https://localhost:8080/"
        },
        "id": "mvJdjN9lVnwe",
        "outputId": "1284fe74-dbc5-43e6-d846-6d5f6c335715"
      },
      "outputs": [
        {
          "name": "stderr",
          "output_type": "stream",
          "text": [
            "10it [13:11, 79.19s/it]\n"
          ]
        }
      ],
      "source": [
        "#Running the evaluation on the validation set\n",
        "BATCH_SIZE = 100\n",
        "df_val_clean = pd.read_csv('validation.csv', names= ['tweet_ID', 'product', 'sentiment', 'text'])\n",
        "X_val, y_val = df_val_clean['text'].values, class_encoder.transform(df_val_clean['sentiment'].values) #Add label encoding transformation\n",
        "\n",
        "pred_val, _  = batched_predict(model, X_val, tokenizer, class_encoder)"
      ]
    },
    {
      "cell_type": "code",
      "execution_count": 62,
      "metadata": {
        "id": "ZSzpkf9jWmHX"
      },
      "outputs": [],
      "source": [
        "from sklearn.metrics import classification_report, confusion_matrix"
      ]
    },
    {
      "cell_type": "code",
      "execution_count": 63,
      "metadata": {
        "colab": {
          "base_uri": "https://localhost:8080/"
        },
        "id": "dpbtbqXwW9PC",
        "outputId": "5ccd5316-f9ef-49bb-fde7-b8f9d1d7c08c"
      },
      "outputs": [
        {
          "name": "stdout",
          "output_type": "stream",
          "text": [
            "              precision    recall  f1-score   support\n",
            "\n",
            "  Irrelevant       0.90      0.75      0.82       172\n",
            "    Negative       0.80      0.94      0.86       266\n",
            "     Neutral       0.89      0.68      0.77       285\n",
            "    Positive       0.80      0.94      0.86       277\n",
            "\n",
            "    accuracy                           0.83      1000\n",
            "   macro avg       0.85      0.83      0.83      1000\n",
            "weighted avg       0.84      0.83      0.83      1000\n",
            "\n"
          ]
        }
      ],
      "source": [
        "print(classification_report(y_val, pred_val, target_names=class_encoder.inverse_transform([0, 1, 2, 3])))"
      ]
    },
    {
      "cell_type": "code",
      "execution_count": 64,
      "metadata": {
        "colab": {
          "base_uri": "https://localhost:8080/"
        },
        "id": "nkR19AVGXaga",
        "outputId": "9cf0765b-1441-49fc-e579-182178f16eb0"
      },
      "outputs": [
        {
          "name": "stdout",
          "output_type": "stream",
          "text": [
            "[[129  12  10  21]\n",
            " [  0 249   8   9]\n",
            " [ 14  41 193  37]\n",
            " [  0  10   6 261]]\n"
          ]
        }
      ],
      "source": [
        "print(confusion_matrix(y_val, pred_val))"
      ]
    },
    {
      "cell_type": "code",
      "execution_count": null,
      "metadata": {
        "id": "gKOIKHorYMvK"
      },
      "outputs": [],
      "source": []
    }
  ],
  "metadata": {
    "accelerator": "GPU",
    "colab": {
      "gpuType": "T4",
      "provenance": []
    },
    "kernelspec": {
      "display_name": "Python 3",
      "name": "python3"
    },
    "language_info": {
      "codemirror_mode": {
        "name": "ipython",
        "version": 3
      },
      "file_extension": ".py",
      "mimetype": "text/x-python",
      "name": "python",
      "nbconvert_exporter": "python",
      "pygments_lexer": "ipython3",
      "version": "3.11.10"
    }
  },
  "nbformat": 4,
  "nbformat_minor": 0
}
